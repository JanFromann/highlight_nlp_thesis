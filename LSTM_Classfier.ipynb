{
  "nbformat": 4,
  "nbformat_minor": 0,
  "metadata": {
    "colab": {
      "provenance": [],
      "machine_shape": "hm",
      "gpuType": "A100"
    },
    "kernelspec": {
      "name": "python3",
      "display_name": "Python 3"
    },
    "language_info": {
      "name": "python"
    }
  },
  "cells": [
    {
      "cell_type": "code",
      "execution_count": null,
      "metadata": {
        "id": "CbvpP62MisqA"
      },
      "outputs": [],
      "source": [
        "from tensorflow.keras.preprocessing.text import Tokenizer\n",
        "from tensorflow.keras.preprocessing.sequence import pad_sequences\n",
        "from tensorflow.keras.models import Sequential\n",
        "from tensorflow.keras.layers import Embedding, LSTM, Dense\n",
        "import pandas as pd\n",
        "from sklearn.utils import shuffle\n",
        "\n",
        "from nltk.tokenize import sent_tokenize\n",
        "from sklearn.model_selection import train_test_split\n",
        "from tensorflow.keras.preprocessing.text import Tokenizer\n",
        "from tensorflow.keras.preprocessing.sequence import pad_sequences\n",
        "import numpy as np"
      ]
    },
    {
      "cell_type": "code",
      "source": [
        "from google.colab import drive\n",
        "drive.mount('/content/drive')\n"
      ],
      "metadata": {
        "colab": {
          "base_uri": "https://localhost:8080/"
        },
        "id": "Wv92mNPbpSYi",
        "outputId": "ce2cd5a8-6dea-4337-f4a9-96f4e50c3d79"
      },
      "execution_count": null,
      "outputs": [
        {
          "output_type": "stream",
          "name": "stdout",
          "text": [
            "Mounted at /content/drive\n"
          ]
        }
      ]
    },
    {
      "cell_type": "code",
      "source": [
        "### Loading Data\n",
        "\n",
        "df_data_test = pd.read_json('/content/drive/MyDrive/thesis_files/df_data_test_31.05.json', orient='index')\n",
        "df_data_train = pd.read_json('/content/drive/MyDrive/thesis_files/df_data_train_31.05.json', orient='index')"
      ],
      "metadata": {
        "id": "t8f8poiqi2XR"
      },
      "execution_count": null,
      "outputs": []
    },
    {
      "cell_type": "code",
      "source": [
        "### creating balanced dataset\n",
        "\n",
        "shuffle(df_data_train).reset_index(drop=True)\n",
        "shuffle(df_data_test).reset_index(drop=True)"
      ],
      "metadata": {
        "id": "xSrGoBOqi49K"
      },
      "execution_count": null,
      "outputs": []
    },
    {
      "cell_type": "code",
      "source": [
        "def create_balanced_dataset(df):\n",
        "    # Group the DataFrame by the 'label' column\n",
        "    grouped = df.groupby('label')\n",
        "\n",
        "    # Find the smallest group size\n",
        "    min_group_size = min(grouped.size())\n",
        "\n",
        "    # Sample an equal number of rows from each group\n",
        "    balanced_df = grouped.apply(lambda x: x.sample(min_group_size)).reset_index(drop=True)\n",
        "\n",
        "    return balanced_df\n",
        "\n",
        "\n",
        "df_data_train_balanced = create_balanced_dataset(df_data_train)\n",
        "df_data_test_balanced = create_balanced_dataset(df_data_test)"
      ],
      "metadata": {
        "id": "DJLMPMhoi6-V"
      },
      "execution_count": null,
      "outputs": []
    },
    {
      "cell_type": "code",
      "source": [
        "# Preparing the training and testing datasets\n",
        "X_train = df_data_train['snippet']\n",
        "y_train = df_data_train['label']\n",
        "X_test = df_data_test['snippet']\n",
        "y_test = df_data_test['label']"
      ],
      "metadata": {
        "id": "5YshjeXrqKYt"
      },
      "execution_count": null,
      "outputs": []
    },
    {
      "cell_type": "code",
      "source": [
        "# Preparing the training and testing datasets\n",
        "#X_train = df_data_train_balanced['snippet']\n",
        "#y_train = df_data_train_balanced['label']\n",
        "#X_test = df_data_test_balanced['snippet']\n",
        "#y_test = df_data_test_balanced['label']"
      ],
      "metadata": {
        "colab": {
          "base_uri": "https://localhost:8080/",
          "height": 240
        },
        "id": "T0Tl2G7ji8u1",
        "outputId": "2d4a8172-6c12-4ef1-b3d5-f96512c389b0"
      },
      "execution_count": null,
      "outputs": [
        {
          "output_type": "error",
          "ename": "NameError",
          "evalue": "ignored",
          "traceback": [
            "\u001b[0;31m---------------------------------------------------------------------------\u001b[0m",
            "\u001b[0;31mNameError\u001b[0m                                 Traceback (most recent call last)",
            "\u001b[0;32m<ipython-input-6-a4cee9fa4e3f>\u001b[0m in \u001b[0;36m<cell line: 2>\u001b[0;34m()\u001b[0m\n\u001b[1;32m      1\u001b[0m \u001b[0;31m# Preparing the training and testing datasets\u001b[0m\u001b[0;34m\u001b[0m\u001b[0;34m\u001b[0m\u001b[0m\n\u001b[0;32m----> 2\u001b[0;31m \u001b[0mX_train\u001b[0m \u001b[0;34m=\u001b[0m \u001b[0mdf_data_train_balanced\u001b[0m\u001b[0;34m[\u001b[0m\u001b[0;34m'snippet'\u001b[0m\u001b[0;34m]\u001b[0m\u001b[0;34m\u001b[0m\u001b[0;34m\u001b[0m\u001b[0m\n\u001b[0m\u001b[1;32m      3\u001b[0m \u001b[0my_train\u001b[0m \u001b[0;34m=\u001b[0m \u001b[0mdf_data_train_balanced\u001b[0m\u001b[0;34m[\u001b[0m\u001b[0;34m'label'\u001b[0m\u001b[0;34m]\u001b[0m\u001b[0;34m\u001b[0m\u001b[0;34m\u001b[0m\u001b[0m\n\u001b[1;32m      4\u001b[0m \u001b[0mX_test\u001b[0m \u001b[0;34m=\u001b[0m \u001b[0mdf_data_test_balanced\u001b[0m\u001b[0;34m[\u001b[0m\u001b[0;34m'snippet'\u001b[0m\u001b[0;34m]\u001b[0m\u001b[0;34m\u001b[0m\u001b[0;34m\u001b[0m\u001b[0m\n\u001b[1;32m      5\u001b[0m \u001b[0my_test\u001b[0m \u001b[0;34m=\u001b[0m \u001b[0mdf_data_test_balanced\u001b[0m\u001b[0;34m[\u001b[0m\u001b[0;34m'label'\u001b[0m\u001b[0;34m]\u001b[0m\u001b[0;34m\u001b[0m\u001b[0;34m\u001b[0m\u001b[0m\n",
            "\u001b[0;31mNameError\u001b[0m: name 'df_data_train_balanced' is not defined"
          ]
        }
      ]
    },
    {
      "cell_type": "code",
      "source": [
        "### Simple LSTM Classifier ###\n",
        "\n",
        "max_len = 100\n",
        "embedding_dim = 100\n",
        "vocab_size = 10000\n",
        "\n",
        "tokenizer = Tokenizer(num_words=vocab_size, oov_token='<OOV>')\n",
        "tokenizer.fit_on_texts(X_train)\n",
        "word_index = tokenizer.word_index\n",
        "\n",
        "train_sequences = tokenizer.texts_to_sequences(X_train)\n",
        "test_sequences = tokenizer.texts_to_sequences(X_test)\n",
        "\n",
        "# Padding\n",
        "train_padded = pad_sequences(train_sequences, maxlen=max_len, padding='post', truncating='post')\n",
        "test_padded = pad_sequences(test_sequences, maxlen=max_len, padding='post', truncating='post')\n",
        "\n",
        "# Building the model\n",
        "model = Sequential([\n",
        "    Embedding(vocab_size, embedding_dim, input_length=max_len),\n",
        "    LSTM(64),\n",
        "    Dense(1, activation='sigmoid')\n",
        "])\n",
        "\n",
        "# Compiling\n",
        "#model.compile(loss='binary_crossentropy', optimizer='adam', metrics=['accuracy'])"
      ],
      "metadata": {
        "id": "oHyYNEvCi_nv"
      },
      "execution_count": null,
      "outputs": []
    },
    {
      "cell_type": "code",
      "source": [
        "# Compute class weights based on inverse ratio\n",
        "class_weights = {0: 1, 1: 1 / np.mean(y_train)}"
      ],
      "metadata": {
        "id": "aEqySioyjI5Q"
      },
      "execution_count": null,
      "outputs": []
    },
    {
      "cell_type": "code",
      "source": [
        "# Compute class weights based on squared root of the ratio\n",
        "\n",
        "_, counts = np.unique(y_train, return_counts=True)\n",
        "class_freq = counts / len(y_train)\n",
        "\n",
        "# Compute class weights based on the square root of the inverse ratio\n",
        "class_weights = {class_id: np.sqrt(1 / freq) for class_id, freq in enumerate(class_freq)}\n",
        "\n",
        "class_weights[1] = class_weights[1] * 1\n",
        "\n",
        "# Print the class weights\n",
        "print(class_weights)\n",
        "\n"
      ],
      "metadata": {
        "colab": {
          "base_uri": "https://localhost:8080/"
        },
        "id": "UndSCDKEjVSM",
        "outputId": "f304de8d-b68f-4f9e-d0ea-dcf97003c45f"
      },
      "execution_count": null,
      "outputs": [
        {
          "output_type": "stream",
          "name": "stdout",
          "text": [
            "{0: 1.0087557179561957, 1: 7.606354545280391}\n"
          ]
        }
      ]
    },
    {
      "cell_type": "code",
      "source": [
        "### focal loss\n",
        "import tensorflow as tf\n",
        "from tensorflow.keras import backend as K\n",
        "\n",
        "\n",
        "\n",
        "def focal_loss(alpha=0.25, gamma=2.0):\n",
        "    def focal_crossentropy(y_true, y_pred):\n",
        "        \"\"\"\n",
        "        Focal Loss for binary classification\n",
        "        FL(p_t) = -alpha(1 - p_t)^{gamma} * log(p_t)\n",
        "        where p = sigmoid(x), p_t = p or 1 - p depending on if the label is 1 or 0, respectively.\n",
        "        \"\"\"\n",
        "        pt_1 = tf.where(tf.equal(y_true, 1), y_pred, tf.ones_like(y_pred))\n",
        "        pt_0 = tf.where(tf.equal(y_true, 0), y_pred, tf.zeros_like(y_pred))\n",
        "\n",
        "        epsilon = K.epsilon()\n",
        "        # clip to prevent NaN's and Inf's\n",
        "        pt_1 = K.clip(pt_1, epsilon, 1. - epsilon)\n",
        "        pt_0 = K.clip(pt_0, epsilon, 1. - epsilon)\n",
        "\n",
        "        fl1 = - alpha * tf.pow(1. - pt_1, gamma) * tf.math.log(pt_1)\n",
        "        fl0 = -(1 - alpha) * tf.pow(pt_0, gamma) * tf.math.log(1. - pt_0)\n",
        "\n",
        "        return K.mean(fl1 + fl0)\n",
        "    return focal_crossentropy\n",
        "\n"
      ],
      "metadata": {
        "id": "T6_Fpa32bpdX"
      },
      "execution_count": null,
      "outputs": []
    },
    {
      "cell_type": "code",
      "source": [
        "\n",
        "### Compiling and Training with focal loss\n",
        "model.compile(loss=focal_loss(alpha=0.75, gamma=2.0), optimizer='adam', metrics=['accuracy'])\n",
        "\n",
        "\n",
        "### can also add class weights here\n",
        "model.fit(train_padded, y_train,\n",
        "                    epochs=10, batch_size=32, class_weight=class_weights,\n",
        "                    validation_data=(test_padded, y_test),\n",
        "                    verbose=1)\n"
      ],
      "metadata": {
        "colab": {
          "base_uri": "https://localhost:8080/"
        },
        "id": "P9azGvMpbvL_",
        "outputId": "1b7264cf-48e3-4681-c624-8c10fca5a269"
      },
      "execution_count": null,
      "outputs": [
        {
          "output_type": "stream",
          "name": "stdout",
          "text": [
            "Epoch 1/10\n",
            "47795/47795 [==============================] - 356s 7ms/step - loss: 0.0404 - accuracy: 0.9832 - val_loss: 0.0132 - val_accuracy: 0.9812\n",
            "Epoch 2/10\n",
            "47795/47795 [==============================] - 318s 7ms/step - loss: 0.0364 - accuracy: 0.9828 - val_loss: 0.0136 - val_accuracy: 0.9823\n",
            "Epoch 3/10\n",
            "47795/47795 [==============================] - 317s 7ms/step - loss: 0.0351 - accuracy: 0.9820 - val_loss: 0.0137 - val_accuracy: 0.9805\n",
            "Epoch 4/10\n",
            "47795/47795 [==============================] - 317s 7ms/step - loss: 0.0341 - accuracy: 0.9815 - val_loss: 0.0138 - val_accuracy: 0.9775\n",
            "Epoch 5/10\n",
            "47795/47795 [==============================] - 317s 7ms/step - loss: 0.0337 - accuracy: 0.9808 - val_loss: 0.0144 - val_accuracy: 0.9730\n",
            "Epoch 6/10\n",
            "47795/47795 [==============================] - 316s 7ms/step - loss: 0.0334 - accuracy: 0.9810 - val_loss: 0.0134 - val_accuracy: 0.9801\n",
            "Epoch 7/10\n",
            "47795/47795 [==============================] - 317s 7ms/step - loss: 0.0332 - accuracy: 0.9806 - val_loss: 0.0124 - val_accuracy: 0.9825\n",
            "Epoch 8/10\n",
            "47795/47795 [==============================] - 317s 7ms/step - loss: 0.0332 - accuracy: 0.9806 - val_loss: 0.0129 - val_accuracy: 0.9802\n",
            "Epoch 9/10\n",
            "47795/47795 [==============================] - 317s 7ms/step - loss: 0.0331 - accuracy: 0.9807 - val_loss: 0.0133 - val_accuracy: 0.9816\n",
            "Epoch 10/10\n",
            "47795/47795 [==============================] - 317s 7ms/step - loss: 0.0330 - accuracy: 0.9807 - val_loss: 0.0127 - val_accuracy: 0.9817\n"
          ]
        },
        {
          "output_type": "execute_result",
          "data": {
            "text/plain": [
              "<keras.callbacks.History at 0x7fda40094eb0>"
            ]
          },
          "metadata": {},
          "execution_count": 23
        }
      ]
    },
    {
      "cell_type": "code",
      "source": [
        "# Train the model with class weights\n",
        "model.fit(train_padded, y_train, epochs=10, batch_size=32, validation_data=(test_padded, y_test), class_weight=class_weights)"
      ],
      "metadata": {
        "colab": {
          "base_uri": "https://localhost:8080/"
        },
        "id": "9j788L-qjMKV",
        "outputId": "ed42966a-09f9-4fa1-8b5d-8cbef8becc19"
      },
      "execution_count": null,
      "outputs": [
        {
          "output_type": "stream",
          "name": "stdout",
          "text": [
            "Epoch 1/10\n",
            "47795/47795 [==============================] - 348s 7ms/step - loss: 0.3773 - accuracy: 0.9825 - val_loss: 0.1196 - val_accuracy: 0.9828\n",
            "Epoch 2/10\n",
            "47795/47795 [==============================] - 308s 6ms/step - loss: 0.3232 - accuracy: 0.9798 - val_loss: 0.1552 - val_accuracy: 0.9786\n",
            "Epoch 3/10\n",
            "47795/47795 [==============================] - 307s 6ms/step - loss: 0.3125 - accuracy: 0.9787 - val_loss: 0.1406 - val_accuracy: 0.9744\n",
            "Epoch 4/10\n",
            "47795/47795 [==============================] - 308s 6ms/step - loss: 0.3068 - accuracy: 0.9782 - val_loss: 0.1677 - val_accuracy: 0.9741\n",
            "Epoch 5/10\n",
            "47795/47795 [==============================] - 308s 6ms/step - loss: 0.3035 - accuracy: 0.9779 - val_loss: 0.1347 - val_accuracy: 0.9773\n",
            "Epoch 6/10\n",
            "47795/47795 [==============================] - 309s 6ms/step - loss: 0.3029 - accuracy: 0.9779 - val_loss: 0.1606 - val_accuracy: 0.9752\n",
            "Epoch 7/10\n",
            "47795/47795 [==============================] - 310s 6ms/step - loss: 0.3009 - accuracy: 0.9777 - val_loss: 0.1389 - val_accuracy: 0.9768\n",
            "Epoch 8/10\n",
            "47795/47795 [==============================] - 310s 6ms/step - loss: 0.3006 - accuracy: 0.9776 - val_loss: 0.1370 - val_accuracy: 0.9782\n",
            "Epoch 9/10\n",
            "47795/47795 [==============================] - 308s 6ms/step - loss: 0.3009 - accuracy: 0.9772 - val_loss: 0.1382 - val_accuracy: 0.9778\n",
            "Epoch 10/10\n",
            "47795/47795 [==============================] - 308s 6ms/step - loss: 0.3012 - accuracy: 0.9777 - val_loss: 0.1467 - val_accuracy: 0.9733\n"
          ]
        },
        {
          "output_type": "execute_result",
          "data": {
            "text/plain": [
              "<keras.callbacks.History at 0x7f818a385870>"
            ]
          },
          "metadata": {},
          "execution_count": 42
        }
      ]
    },
    {
      "cell_type": "code",
      "source": [
        "# Training the model\n",
        "#model.fit(train_padded, y_train, epochs=10, validation_data=(test_padded, y_test))"
      ],
      "metadata": {
        "id": "zSuf9O74jCll"
      },
      "execution_count": null,
      "outputs": []
    },
    {
      "cell_type": "code",
      "source": [
        "print(\"Unique labels in test data:\", np.unique(y_test))\n"
      ],
      "metadata": {
        "colab": {
          "base_uri": "https://localhost:8080/"
        },
        "id": "llC9MgjiGlBb",
        "outputId": "83b349f6-dd16-4931-fcc9-fef3f4461f30"
      },
      "execution_count": null,
      "outputs": [
        {
          "output_type": "stream",
          "name": "stdout",
          "text": [
            "Unique labels in test data: [0 1]\n"
          ]
        }
      ]
    },
    {
      "cell_type": "code",
      "source": [
        "y_test.shape"
      ],
      "metadata": {
        "colab": {
          "base_uri": "https://localhost:8080/"
        },
        "id": "yNrrsDAkHUri",
        "outputId": "65f681f1-d61b-412e-d4ce-00795ff41292"
      },
      "execution_count": null,
      "outputs": [
        {
          "output_type": "execute_result",
          "data": {
            "text/plain": [
              "(1529440,)"
            ]
          },
          "metadata": {},
          "execution_count": 14
        }
      ]
    },
    {
      "cell_type": "code",
      "source": [
        "from sklearn.metrics import classification_report\n",
        "\n",
        "# Evaluate the model\n",
        "predictions = model.predict(test_padded)\n",
        "predictions = np.round(predictions).flatten()\n",
        "\n",
        "loss, accuracy = model.evaluate(test_padded, y_test, verbose=0)\n",
        "\n",
        "# Print the metrics\n",
        "print(\"Test Loss:\", loss)\n",
        "print(\"Test Accuracy:\", accuracy)\n",
        "\n",
        "# Print classification report\n",
        "report = classification_report(y_test, predictions, target_names=['Class 0', 'Class 1'])\n",
        "print(report)\n"
      ],
      "metadata": {
        "colab": {
          "base_uri": "https://localhost:8080/"
        },
        "id": "kbAcvzd8jEXo",
        "outputId": "208775d5-9c69-4b10-b8c8-17275290b373"
      },
      "execution_count": null,
      "outputs": [
        {
          "output_type": "stream",
          "name": "stdout",
          "text": [
            "11988/11988 [==============================] - 30s 2ms/step\n",
            "Test Loss: 0.012734010815620422\n",
            "Test Accuracy: 0.9817001819610596\n",
            "              precision    recall  f1-score   support\n",
            "\n",
            "     Class 0       0.98      1.00      0.99    376911\n",
            "     Class 1       0.41      0.11      0.18      6699\n",
            "\n",
            "    accuracy                           0.98    383610\n",
            "   macro avg       0.70      0.56      0.58    383610\n",
            "weighted avg       0.97      0.98      0.98    383610\n",
            "\n"
          ]
        }
      ]
    }
  ]
}