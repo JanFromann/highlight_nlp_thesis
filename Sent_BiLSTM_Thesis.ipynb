{
  "nbformat": 4,
  "nbformat_minor": 0,
  "metadata": {
    "colab": {
      "provenance": [],
      "gpuType": "V100",
      "machine_shape": "hm"
    },
    "kernelspec": {
      "name": "python3",
      "display_name": "Python 3"
    },
    "language_info": {
      "name": "python"
    },
    "accelerator": "TPU"
  },
  "cells": [
    {
      "cell_type": "code",
      "execution_count": null,
      "metadata": {
        "id": "qxC46s_dm74_"
      },
      "outputs": [],
      "source": [
        "import h5py\n",
        "import numpy as np\n",
        "from tensorflow.keras.preprocessing.sequence import pad_sequences\n",
        "#from keras.preprocessing.sequence import pad_sequences\n",
        "from keras.preprocessing.text import Tokenizer\n",
        "from keras.models import Sequential\n",
        "from keras.layers import LSTM, Embedding, Dense, TimeDistributed, Dropout, Bidirectional\n",
        "from keras.utils import to_categorical\n",
        "from sklearn.model_selection import train_test_split\n",
        "import pandas as pd\n"
      ]
    },
    {
      "cell_type": "code",
      "source": [
        "gpu_info = !nvidia-smi\n",
        "gpu_info = '\\n'.join(gpu_info)\n",
        "if gpu_info.find('failed') >= 0:\n",
        "  print('Not connected to a GPU')\n",
        "else:\n",
        "  print(gpu_info)"
      ],
      "metadata": {
        "colab": {
          "base_uri": "https://localhost:8080/"
        },
        "id": "9FxS89-hVItK",
        "outputId": "9921fc69-18d7-427b-8840-c01f78ddc436"
      },
      "execution_count": null,
      "outputs": [
        {
          "output_type": "stream",
          "name": "stdout",
          "text": [
            "Thu Jun 15 13:56:07 2023       \n",
            "+-----------------------------------------------------------------------------+\n",
            "| NVIDIA-SMI 525.85.12    Driver Version: 525.85.12    CUDA Version: 12.0     |\n",
            "|-------------------------------+----------------------+----------------------+\n",
            "| GPU  Name        Persistence-M| Bus-Id        Disp.A | Volatile Uncorr. ECC |\n",
            "| Fan  Temp  Perf  Pwr:Usage/Cap|         Memory-Usage | GPU-Util  Compute M. |\n",
            "|                               |                      |               MIG M. |\n",
            "|===============================+======================+======================|\n",
            "|   0  Tesla V100-SXM2...  Off  | 00000000:00:04.0 Off |                    0 |\n",
            "| N/A   36C    P0    23W / 300W |      0MiB / 16384MiB |      0%      Default |\n",
            "|                               |                      |                  N/A |\n",
            "+-------------------------------+----------------------+----------------------+\n",
            "                                                                               \n",
            "+-----------------------------------------------------------------------------+\n",
            "| Processes:                                                                  |\n",
            "|  GPU   GI   CI        PID   Type   Process name                  GPU Memory |\n",
            "|        ID   ID                                                   Usage      |\n",
            "|=============================================================================|\n",
            "|  No running processes found                                                 |\n",
            "+-----------------------------------------------------------------------------+\n"
          ]
        }
      ]
    },
    {
      "cell_type": "code",
      "source": [
        "# directory"
      ],
      "metadata": {
        "id": "hJvOX5BJsWmI"
      },
      "execution_count": null,
      "outputs": []
    },
    {
      "cell_type": "code",
      "source": [
        "from google.colab import drive\n",
        "drive.mount('/content/drive')\n"
      ],
      "metadata": {
        "id": "NCQGKi9-8g85",
        "colab": {
          "base_uri": "https://localhost:8080/"
        },
        "outputId": "7a1800f6-f586-421f-f486-b24131b90ce0"
      },
      "execution_count": null,
      "outputs": [
        {
          "output_type": "stream",
          "name": "stdout",
          "text": [
            "Drive already mounted at /content/drive; to attempt to forcibly remount, call drive.mount(\"/content/drive\", force_remount=True).\n"
          ]
        }
      ]
    },
    {
      "cell_type": "code",
      "source": [
        "combined_df_seqlabelled_sentence_short = pd.read_json('/content/drive/MyDrive/thesis_files/combined_df_seqlabelled_sentence_short_renamed.json', orient='records', lines=True)"
      ],
      "metadata": {
        "id": "F95x3GktRtYy"
      },
      "execution_count": null,
      "outputs": []
    },
    {
      "cell_type": "code",
      "source": [
        "# Get the 'tagged_text' column from the DataFrame\n",
        "tagged_data = combined_df_seqlabelled_sentence_short['tagged_text'].tolist()\n",
        "\n"
      ],
      "metadata": {
        "id": "c32D4EymR76F"
      },
      "execution_count": null,
      "outputs": []
    },
    {
      "cell_type": "code",
      "source": [
        "# Get unique words and labels\n",
        "words = list(set(token for seq in tagged_data for token, label in seq))\n",
        "tags = list(set(label for seq in tagged_data for token, label in seq))"
      ],
      "metadata": {
        "id": "URH84a1Hjtn-"
      },
      "execution_count": null,
      "outputs": []
    },
    {
      "cell_type": "code",
      "source": [
        "def get_max_lengths(tagged_data):\n",
        "    max_sentence_length = 0\n",
        "    max_document_length = 0\n",
        "\n",
        "    for document in tagged_data:\n",
        "        max_document_length = max(max_document_length, len(document))\n",
        "        for sentence, label in document:\n",
        "            max_sentence_length = max(max_sentence_length, len(sentence.split()))\n",
        "\n",
        "    return max_sentence_length, max_document_length\n",
        "\n",
        "max_sentence_length, max_document_length = get_max_lengths(tagged_data)\n",
        "print(max_sentence_length, max_document_length)"
      ],
      "metadata": {
        "colab": {
          "base_uri": "https://localhost:8080/"
        },
        "id": "LIzyWiN4R-Gm",
        "outputId": "91bce92b-05fa-457e-b173-be0bff6edc5e"
      },
      "execution_count": null,
      "outputs": [
        {
          "output_type": "stream",
          "name": "stdout",
          "text": [
            "32107 811\n"
          ]
        }
      ]
    },
    {
      "cell_type": "code",
      "source": [
        "max_sentence_length = 700\n",
        "\n",
        "new_tagged_data = []\n",
        "for document in tagged_data:\n",
        "    new_document = [(sentence, label) for sentence, label in document if len(sentence.split()) <= max_sentence_length]\n",
        "\n",
        "    # Only add the document to new_tagged_data if it's not empty\n",
        "    if new_document:\n",
        "        new_tagged_data.append(new_document)\n",
        "\n",
        "tagged_data = new_tagged_data"
      ],
      "metadata": {
        "id": "N-rNfcBDSAr7"
      },
      "execution_count": null,
      "outputs": []
    },
    {
      "cell_type": "code",
      "source": [
        "### splitting documents ###\n",
        "\n",
        "def split_documents(dataset, n):\n",
        "    new_dataset = []\n",
        "    for document in dataset:\n",
        "        for i in range(0, len(document), n):\n",
        "            new_document = document[i:i+n]\n",
        "            new_dataset.append(new_document)\n",
        "    return new_dataset\n"
      ],
      "metadata": {
        "id": "kRMHcr_fSDop"
      },
      "execution_count": null,
      "outputs": []
    },
    {
      "cell_type": "code",
      "source": [
        "tagged_data_short = split_documents(tagged_data, 150)"
      ],
      "metadata": {
        "id": "GxRcv1qxtUnR"
      },
      "execution_count": null,
      "outputs": []
    },
    {
      "cell_type": "code",
      "source": [
        "tagged_data_short = tagged_data_short[:500]"
      ],
      "metadata": {
        "id": "Nf_1EVogj7qN"
      },
      "execution_count": null,
      "outputs": []
    },
    {
      "cell_type": "code",
      "source": [
        "tagged_data = tagged_data_short"
      ],
      "metadata": {
        "id": "i1ij84r-SFLv"
      },
      "execution_count": null,
      "outputs": []
    },
    {
      "cell_type": "code",
      "source": [
        "print(len(tagged_data))"
      ],
      "metadata": {
        "colab": {
          "base_uri": "https://localhost:8080/"
        },
        "id": "dlsqcCY27RZd",
        "outputId": "ce6c173c-b7a6-4c31-95c1-6f50cdda03e5"
      },
      "execution_count": null,
      "outputs": [
        {
          "output_type": "stream",
          "name": "stdout",
          "text": [
            "16037\n"
          ]
        }
      ]
    },
    {
      "cell_type": "code",
      "source": [
        "print(tagged_data[0])"
      ],
      "metadata": {
        "colab": {
          "base_uri": "https://localhost:8080/"
        },
        "id": "TKcBqHrX3GEG",
        "outputId": "b7915a2a-bd01-456b-aa7b-761143c55d12"
      },
      "execution_count": null,
      "outputs": [
        {
          "output_type": "stream",
          "name": "stdout",
          "text": [
            "[('NatGen : Generative pre-training by “Naturalizing” source code\\nSaikat Chakraborty\\nColumbia University\\nNew York, NY, USA\\nsaikatc@cs.columbia.eduToufique Ahmed\\nUniversity of California, Davis\\nDavis, CA, USA\\ntfahmed@ucdavis.eduYangruibo Ding\\nColumbia University\\nNew York, NY, USA\\nyrbding@cs.columbia.edu\\nPremkumar Devanbu\\nUniversity of California, Davis\\nDavis, CA, USA\\nptdevanbu@ucdavis.eduBaishakhi Ray\\nColumbia University\\nNew York, NY, USA\\nrayb@cs.columbia.edu\\nAbstract\\nPre-trained Generative Language models ( e.g.,PLBART, CodeT5,\\nSPT-Code) for source code yielded strong results on several tasks\\nin the past few years, including code generation and translation.', 'highlight'), ('These models have adopted varying pre-training objectives to learn\\nstatistics of code construction from very large-scale corpora in a\\nself-supervised fashion; the success of pre-trained models largely\\nhinges on these pre-training objectives.', 'highlight'), ('This paper proposes a new\\npre-training objective, “Naturalizing” of source code, exploiting\\ncode’s bimodal, dual-channel (formal & natural channels) nature.', 'highlight'), ('Unlike natural language, code’s bimodal, dual-channel nature al-\\nlows us to generate semantically equivalent code at scale.', 'highlight'), ('We in-\\ntroduce six classes of semantic preserving transformations to in-\\ntroduce un-natural forms of code, and then force our model to\\nproduce more natural original programs written by developers.', 'highlight'), ('Learning to generate equivalent, but more natural code, at scale,\\nover large corpora of open-source code, without explicit manual\\nsupervision, helps the model learn to both ingest & generate code.', 'highlight'), ('We fine-tune our model in three generative Software Engineering\\ntasks: code generation, code translation, and code refinement with\\nlimited human-curated labeled data and achieve state-of-the-art\\nperformance rivaling CodeT5.', 'highlight'), ('We show that our pre-trained model\\nis especially competitive at zero-shot and few-shot learning, and\\nbetter at learning code properties (e.g., syntax, data flow).', 'highlight'), ('CCS Concepts\\n•Software and its engineering →Language features ;•Comput-\\ning methodologies →Knowledge representation and reason-\\ning.', 'highlight'), ('Keywords\\nSource Code Pre-training, Neural Network, Source Code Trans-\\nformer\\nPermission to make digital or hard copies of all or part of this work for personal or\\nclassroom use is granted without fee provided that copies are not made or distributed\\nfor profit or commercial advantage and that copies bear this notice and the full citation\\non the first page.', 'highlight'), ('Copyrights for components of this work owned by others than ACM\\nmust be honored.', 'highlight'), ('Abstracting with credit is permitted.', 'highlight'), ('To copy otherwise, or republish,\\nto post on servers or to redistribute to lists, requires prior specific permission and/or a\\nfee.', 'highlight'), ('Request permissions from permissions@acm.org.', 'highlight'), ('ESEC/FSE 2022, 14 - 18 November, 2022, Singapore\\n©2022 Association for Computing Machinery.', 'highlight'), ('ACM ISBN 978-x-xxxx-xxxx-x/YY/MM.', 'highlight'), ('. . $15.00\\nhttps://doi.org/10.1145/nnnnnnn.nnnnnnnACM Reference Format:\\nSaikat Chakraborty, Toufique Ahmed, Yangruibo Ding, Premkumar De-\\nvanbu, and Baishakhi Ray.', 'highlight'), ('2022.', 'highlight'), ('NatGen : Generative pre-training by “Nat-\\nuralizing” source code.', 'highlight'), ('In Proceedings of The 30th ACM Joint European\\nSoftware Engineering Conference and Symposium on the Foundations of Soft-\\nware Engineering (ESEC/FSE 2022).', 'highlight'), ('ACM, New York, NY, USA, 14 pages.', 'highlight'), ('https://doi.org/10.1145/nnnnnnn.nnnnnnn\\n1 Introduction\\nStatistical models of the “naturalness\" of code [ 34] have proven\\nuseful for a range of Software Engineering tasks [ 9,49], includ-\\ning code generation [ 12], repair [ 17,60], summarization [ 41], re-\\ntrieval [ 46], and clone detection [ 22,65].', 'highlight'), ('The earlier work in this\\narea trained models directly on tasks, including the early work\\non type recovery [10, 32], de-obfuscation [54, 61], repair [31], and\\nsummarization [ 4,36].', 'normaltext'), ('Training on-task requires a lot of labeled\\ndata.', 'normaltext'), ('While labeled data is abundant for tasks like code completion\\n(where the corpus inherently provides supervision), other tasks\\nlike code generation, translation, summarization, repair, etc., re-\\nquire well-curated, high-quality data.', 'normaltext'), ('Simply grabbing data from\\nGithub might yield poor-quality [ 28], highly-duplicated data [ 7].', 'normaltext'), ('With increasing model capacity (hundreds of millions, even billions\\nof parameters, are pretty common; larger models tend to perform\\nbetter [ 19,63]), this unacceptable disparity between vast model\\ncapacity and the limited availability of well-curated, high-quality,\\nlabeled data has increased and will likely worsen.', 'normaltext'), ('This shortage of high-quality labeled data for on-task training is\\nnot unique to Software Engineering (SE), although it is complicated\\nhere by the increased, specialized skill required for labeling SE data.', 'normaltext'), ('To address the issue of training large models in the presence of data\\nscarcity, such models are often pre-trained on some generic tasks,\\nwhich relate to actual downstream tasks.', 'normaltext'), ('For example, consider two\\nSE tasks: code generation and code translation.', 'normaltext'), ('Both tasks require\\nML models to learn how to generate natural, syntactically, and se-\\nmantically correct code.', 'normaltext'), ('This commonality across tasks motivates\\na quest for better pre-trained models, using a self- (or un-) super-\\nvised task which transfers well to other downstream tasks.', 'normaltext'), ('Such\\npre-trained models can also learn a generic representation of the\\ninput data, which, in turn, transfers to diverse downstream tasks.', 'normaltext'), ('A popular approach for dealing with this problem involves\\nderivatives of BERT style models [ 21],e.g.,CodeBERT [ 24], Graph-\\nCodeBERT [ 29], etc.', 'normaltext'), ('These models are good at capturing generic\\ncode representations.', 'normaltext'), ('For code generation tasks, GPT-3 or BART-\\nstyle models ( e.g.,Codex, CodeT5, PLBART, SPTCode, etc.', 'normaltext'), ('[ 5,19,arXiv:2206.07585v2  [cs.PL]  5 Jul 2022\\nESEC/FSE 2022, 14 - 18 November, 2022, Singapore Chakraborty et al.', 'normaltext'), ('45,63]) are popular.', 'normaltext'), ('The important insight here is that independent\\nof final tasks, when very high capacity models are trained with\\nhuge code corpora to learn simple, self-supervised, “busy work”,\\nthey still learn general syntactic and semantic constraints of writing\\ncode.', 'normaltext'), ('Different approaches adopt different techniques to train the\\nmodel to write code.', 'normaltext'), ('For instance, GPT-style models ( e.g.,Codex)\\nlearn to generate code sequentially, mimicking the left-to-right lan-\\nguage model.', 'normaltext'), ('CodeT5 masks out some tokens and asks the model\\nto generate only those masked tokens.', 'normaltext'), ('On the other hand, PLBART\\nand SPT-Code present the model with erroneous code (with deleted\\nor masked tokens) and ask the model to generate the corrected,\\ncomplete code.', 'normaltext'), ('The models’ ability to generate code depends mainly\\non the pre-training objective that the model is optimized for.', 'normaltext'), ('We propose a novel pre-training task: we ask the model to “nat-\\nuralize\" code, i.e.,take “weird\", synthetic code as input and output\\nsemantic equivalent, “natural\" code that a human developer would\\nhave written.', 'normaltext'), ('This is a very demanding pre-training task—the model\\nhas to learn both code naturalness andcode semantics.', 'normaltext'), ('We were\\ninspired by noting the work of human Editors (of books, journals,\\nnewspapers): they digest imperfectly written but mostly correct\\ntext, understand the intent, and then produce more perfect text\\nwith pretty much the same meaning.', 'normaltext'), ('Editing is hard : a skilled Editor\\nhas to have very high levels of language comprehension, to under-\\nstand given, potentially badly-written text, and then deploy very\\nhigh-level writing skills to generate well-formed text.', 'normaltext'), ('If Editing\\ncould be used as an at-scale pre-training task, the learned model\\nwould presumably have excellent language comprehension and also\\ngenerate excellent text.', 'normaltext'), ('However, it’s not obvious how to generate\\nat-scale training data for this “Editing\" task, say, for English.', 'normaltext'), ('a.', 'normaltext'), ('Natural Code\\nScanner sc = new Scanner (...) ;\\nwhile (sc.', 'normaltext'), ('hasNext ()) {\\nString ln = sc.', 'normaltext'), ('next ();\\n...\\n}\\n...b. Un-natural code\\nScanner sc = new Scanner (...) ;\\nfor ( ; sc.', 'normaltext'), ('hasNext () ;) {\\nString ln = sc.', 'normaltext'), ('next ();\\n...\\n}\\n...', 'normaltext'), ('Figure 1: Example of a natural code fragment written by de-\\nvelopers and its ‘un-naturally’ transformed counterpart.', 'normaltext'), ('If\\ntheinitialization and update part of the forloop were to\\nleft empty, developers would write the while loop.', 'normaltext'), ('But our concern here is code, not natural language.', 'normaltext'), ('We start with\\nthe argument that, because of the bimodal, dual-channel nature of\\ncode [ 14], it is indeed possible to generate at-scale training data for\\nthe Editing task (a.k.a.', 'normaltext'), ('refactoring in Software Engineering termi-\\nnology).', 'normaltext'), ('Code has a formal channel, with well-defined semantics;\\nbecause of this, it’s possible to transform code into endless forms,\\nallmeaning-equivalent .', 'normaltext'), ('Essentially, we can deploy a set of meaning\\npreserving transformations to rewrite existing code from widely-\\nused GitHub projects (which presumably have good-quality code\\nthat has passed human code review).', 'normaltext'), ('These rewrites, ( e.g.,Figure 1),\\npreserve meaning but will make the code into an artificial, often\\nunnatural form1.', 'normaltext'), ('1Studies, with human-subjects [ 15,16] suggest that humans find such rewritten but\\nsemantically identical forms harder to read and understand.Nevertheless, we now have a matched pair of two semantically\\nequivalent forms of code: a “de-naturalized\" form and the original\\n“natural\" form.', 'normaltext'), ('Furthermore, we can produce these pairs at-scale,\\nand then pre-train on a code “Naturalization\" task.', 'normaltext'), ('By analogy\\nwith human Editors as described above, such pre-training forces\\nthe model to learn two hard things: 1) capture the meaning of the\\ninput code, and 2) generate an output that more closely resembles\\nhuman-written code.', 'normaltext'), ('We hypothesize that the resulting model will\\nboth learn better meaning representations, and also generate better\\ncode.', 'normaltext'), ('To this end, we pre-trained our NatGen model, using “Code Nat-\\nuralizing” task.', 'normaltext'), ('NatGen is based on a transformer-based sequence-\\nto-sequence model, and learns to “naturalize\" artificially generated\\n“de-naturalized\" code back into the form originally written by de-\\nvelopers.', 'normaltext'), ('We emphasize thatNatGen learns to generate the whole\\ncode; this learned skill transfers to downstream fine-tuning tasks\\nthat require code generation.', 'normaltext'), ('We show that our pre-training objec-\\ntive helps model generate more natural code (complete code, with\\nhigh syntactic and semantic similarity with the original human-\\nwritten code).', 'normaltext'), ('With proper fine-tuning, NatGen achieves state-\\nof-the-art performance in various downstream fine-tuning tasks,\\nincluding code generation, code translation, bug fix, that demand\\ncode generation.', 'normaltext'), ('We also show that NatGen is specially effective\\nwhen labelled data is scarce.', 'normaltext'), ('We summarize our main contributions.', 'normaltext'), ('(1)We introduce the idea of \"Code naturalization\" as a pre-training\\ntask.', 'normaltext'), ('(2)Using code from Github, and custom tooling, we have generated\\nand released a large dataset for pre-training models on the\\nNaturalization task.', 'normaltext'), ('(3)We have built and released a large Sequence-to-Sequence model\\npre-trained on Naturalization.', 'normaltext'), ('(4)We show that (when appropriately fine-tuned) NatGen outper-\\nforms SOTA on several settings.', 'normaltext'), ('We publish our source code and data download script for pre-\\ntraining NatGen anonymously in https://github.com/saikat107/\\nNatGen.git.', 'normaltext'), ('We also share the pre-trained model in https://bit.ly/\\n3N0NGfG.', 'normaltext'), ('2 Background & Problem Formulation\\nThis section presents the relevant technical background that leads\\nto this work and an overview of the main research questions.', 'normaltext'), ('2.1 The Dual Channels of Code\\nHumans can read and write both natural languages and code.', 'normaltext'), ('How-\\never, unlike natural language, source code involves twochannels of\\ninformation: formal & natural [ 16].', 'normaltext'), ('The formal channel, unique to\\ncode, affords precise, formal semantics; interpreters, compilers, etc.,\\nuse this channel.', 'normaltext'), ('On the other hand, the natural channel (perhaps\\nmore probabilistic and noisy) relies on variable names, comments,\\netc., and is commonly used by humans for code comprehension\\nand communication [ 15,16].', 'normaltext'), ('The formal channel’s precision en-\\nables semantic preserving code transformation, which supports\\nstatic analysis, optimization, obfuscation, etc.', 'normaltext'), ('For instance, major\\nrefactoring of a source code may drastically change the syntactic\\nstructure while preserving the semantics [ 22,25].', 'normaltext'), ('However, not all\\nNatGen : Generative pre-training by “Naturalizing” source code ESEC/FSE 2022, 14 - 18 November, 2022, Singapore\\nthe semantically equivalent code is “natural\" [ 33]—the usual way\\ndevelopers write code and thus, amenable to statistical models [ 33].', 'normaltext'), ('In fact, deviation from such “naturalness\" may lead to unintended\\nbugs [ 53], and increase difficulty of human comprehension [ 15,16].', 'normaltext'), ('We leverage the natural/formal duality for our pre-training ob-\\njective in this work.', 'normaltext'), ('We keep the formal channel constant (not\\nchanging the meaning) for a given code and modify the syntax\\nby creating “unnatural” code.', 'normaltext'), ('Then we train the model to take\\nthe “unnatural\" code as input and do what a human Editor does\\nwith natural language text: understand the “unnatural\" code and\\ngenerate more natural code that a developer would write.', 'normaltext'), ('Thus,\\nthe model simultaneously learns to both comprehend code, and\\ngenerate “natural” code.', 'normaltext'), ('2.2 “Naturalizing\" vs.De-noising\\nNaturalizing pre-training essentially follows in the tradition of\\ndenoising pre-training , although, arguably, the former is more sub-\\ntle and challenging.', 'normaltext'), ('Denoising pre-training [ 5,39,40] is a well-\\nestablished pre-training strategy for encoder-decoder models: the\\nencoder is presented with a noised-up input, and the decoder is\\nasked to generate the original, noise-free input.', 'normaltext'), ('By training the\\nmodel to identify & remove “noise” in a noisy output, (in theory)\\none teaches it to reason about and correctly generate text.', 'normaltext'), ('Exactly\\nwhat a model learns largely depends on the noise types.', 'normaltext'), ('For in-\\nstance, PLBART [ 5] uses syntactic noise2(i.e.,token masking, token\\ndeletion, etc.).', 'normaltext'), ('Thus, denoising pre-training enables PLBART to\\nlearn both about the syntax of input source code, andlearn to gen-\\nerate syntactically correct code.', 'normaltext'), ('Naturalizing pre-training, on the\\nother hand, begins with syntactically correct but artificially-created\\nunnatural source code and forces the model to generate correct\\nsemantically equivalent natural code that is just what a human\\noriginally wrote.', 'normaltext'), ('Such pre-training requires more subtle changes to\\nthe code.', 'normaltext'), ('We hypothesize that this provides a more demanding pre-\\ntraining setting, which will lead to better on-task code generation\\nperformance.', 'normaltext'), ('2.3 Research Questions\\nOur hypothesis is that our naturalizing task (see Section 3.1) endows\\nour pre-trained model with the ability to generate syntactically and\\nsemantically correct, andnatural code.', 'normaltext'), ('This leads to several RQs.', 'normaltext'), ('RQ1.', 'normaltext'), ('Does “Naturalization” help to improve code genera-\\ntion?', 'normaltext'), ('In contrast to existing de-noising techniques [ 5] that help the\\nmodel learn lexical & syntactic structure, the naturalizing task,\\nwhich is arguably more demanding than de-noising, forces Nat-\\nGen generating better code with higher syntactic and semantic\\ncorrectness.', 'normaltext'), ('The pre-training data we use (in NatGen ) challenges the model\\nto naturalize code that was “de-naturalized\" in several ways, such\\nas dead-code inserted, variable renamed, etc.', 'normaltext'), ('We investigate the\\nrelative performance under different naturalization challenges.', 'normaltext'), ('2Noise that breaks the syntax structure of codeRQ2.', 'normaltext'), ('How do different components in NatGen contribute\\nto code generation?', 'normaltext'), ('We evaluate the performance under different challenges on a\\nheld-out validation dataset.', 'normaltext'), ('This dataset is sampled with the same\\ndistribution of de-naturalizing transforms as the training dataset\\n(D𝑡); on this set, the model to reconstruct the original code.', 'normaltext'), ('Our\\nexploratory investigation reveals that Variable Renaming is the\\nhardest transformation to undo: the model reconstructs original\\ncode with only 40% accuracy.', 'normaltext'), ('Dead Code, on the other hand, is the\\neasiest with 99% accuracy.', 'normaltext'), ('We further investigate NatGen ’s performance for downstream\\nsource code generation tasks.', 'normaltext'), ('RQ3.', 'normaltext'), ('How effective is NatGen when fine-tuned for differ-\\nent generative tasks in source code?', 'normaltext'), ('We fine-tune the pre-trained NatGen on task-specific train-\\ning dataset for a certain time budget and evaluate the fine-tuned\\nmodel on the benchmark testing dataset for corresponding task.', 'normaltext'), ('These tasks include source code (java) generation from text, code\\ntranslation (from Java to C# and C# to Java), and Bug fixing.', 'normaltext'), ('After\\nfine-tuning, NatGen achieves the state-of-the-art performance in\\nall these tasks.', 'normaltext'), ('In addition, we also discover that, code generated\\nbyNatGen are syntactically and semantically more closer to the\\nexpected code.', 'normaltext'), ('We observe that training a model for a complex task requires\\nsufficient labeled data.', 'normaltext'), ('However, for most software engineering\\ntasks, finding labeled data is a significant challenge [ 6].', 'normaltext'), ('We investi-\\ngate potential scenario where size of the training data is extremely\\nsmall.', 'normaltext'), ('RQ4.', 'normaltext'), ('How well does NatGen ’s pre-training help in tasks\\nwhere labelled data is scarce?', 'normaltext'), ('We simulate training data scarcity in two different ways – Zero-\\nshot learning , and Few-shot learning .', 'normaltext'), ('For “Zero-shot” learning, we\\nevaluate the pre-trained NatGen in different tasks without any task\\nspecific fine-tuning.', 'normaltext'), ('For “few-shot” setting, we simulate training\\ndata scarcity by sub-sampling the benchmark training datasets.', 'normaltext'), ('We fine-tune the pre-trained NatGen on these limited training\\nexamples and measure the performance.', 'normaltext'), ('We observe that NatGen is\\nvery efficient in low-data training.', 'normaltext'), ('Since NatGen learns to generate\\nsyntactically and semantically correct code as part of pre-training,\\nit faces less burden while learning in low-data training.', 'normaltext'), ('3 Methodology\\nOur approach comprises three steps: (i) “De-Naturalize” source\\ncode to accumulate pre-training data for NatGen (§3.1); (ii) pre-\\ntrain NatGen using this data for naturalization task (§3.2); (iii)\\nFine-tune pre-trained NatGen with task specific dataset (§3.3).', 'normaltext'), ('3.1 De-Naturalizing Source Code\\nFor the first step above, we use six rules to transform a natural code\\ninto its unnatural counterpart.', 'normaltext'), ('These transformations are semantic-\\npreserving but rewrite an original, natural, (human-) written code\\nto an artificial form.', 'normaltext'), ('Given a natural code element, we deploy an\\nESEC/FSE 2022, 14 - 18 November, 2022, Singapore Chakraborty et al.', 'normaltext'), ('1 int search ( int[] arr , int key , int low , int high ){\\n2 while ( low <= high ) {\\n3 int mid = low + (( high - low ) / 2);\\n4 if( arr [ mid ] == key ) { return mid ; }\\n5 else { high = mid + 1; }\\n6 }\\n7 return -1;\\n8 } (a) Original Code1 int search ( int[] arr , int key , int low , int high ){\\n2 for (;low <= high ;) {\\n3 int mid = low + (( high - low ) / 2);\\n4 if( arr [ mid ] == key ) { return mid ; }\\n5 else { high = mid + 1; }\\n6 }\\n7 return -1;\\n8 } (b) Loop Transformation\\n1 int search ( int[] arr , int key , int low , int high ){\\n2 while ( low <= high ) {\\n3 int mid = low + (( high - low ) / 2);\\n4 while ( i < i ) {\\n5 high = mid + 1;\\n6 }\\n7 // ... Rest of the Code\\n8 }\\n9 return -1;\\n10 } (c) DeadCode Insertion1 int search ( int[] arr , int key , int low , int high ){\\n2 while (high >= low ) {\\n3 int mid = low + (( high - low ) / 2);\\n4 if(arr[mid]!=key ) {\\n5 high = mid + 1;\\n6 }\\n7 else { return mid; }\\n8 }\\n9 return -1;\\n10 } (d) Block and Operand Swap\\n1 int search ( int[] arr , int key , int low , int high ){\\n2 while ( low <= high ) {\\n3 int mid = low + (( high - low ) / 2);\\n4 if( arr [ mid ] == key ) { return mid ; }\\n5 else {\\n6 high = mid+ + ;\\n7 }\\n8 }\\n9 return -1;\\n10 } (e) Inserting confusing code element1 int search ( int[] var_1 ,int key , int low , int var_2 ){\\n2 while ( low <= var_2 ) {\\n3 int mid = low + (( var_2 - low ) / 2);\\n4 if(var_1 [ mid ] == key ) { return mid ; }\\n5 else {var_2 = mid + 1; }\\n6 }\\n7 return -1;\\n8 } (f) Variable Renaming\\nFigure 2: Semantic preserving transformation used to prepare the pre-training data for NatGen .', 'normaltext'), ('appropriate transformation, based on its AST structure and rewrite\\nthe code to “de-naturalize” it.', 'normaltext'), ('3.1.1 Designing Transformation Rules.', 'normaltext'), ('We use six classes of de-\\nnaturalizing transformations.', 'normaltext'), ('These transformations are motivated\\nby prior work on functional reasoning about source code [ 22,26,27]\\nand semantic bug-seeding [47].', 'normaltext'), ('Figure 2 show the details.', 'normaltext'), ('Loop Transformation (Figure 2b).', 'normaltext'), ('This rule modifies forloops\\ninto equivalent while loop and vice-versa.', 'normaltext'), ('We rewrite a while loop\\nof the form while ( condition ) { loop-body } into a for\\nloop as for ( ; condition ;) { loop-body } .', 'normaltext'), ('Likewise, to\\ntransform a forloop into a while loop, we move the initializer of\\nthefor(if any) before the loop, and the update expression (if any)\\nof the forloop as the last statement in the loop.', 'normaltext'), ('We also add this\\nupdate statement before any loop breaking statement ( i.e.,break ,\\ncontinue ).', 'normaltext'), ('For example, we transform “ for( int i = 0; i < 10;\\ni++){ if(i){ foo(); continue;} bar(); } ” as “ int i = 0;\\nwhile(i < 10){ if(i){ foo(); i++; continue;} bar();\\ni++;}”.', 'normaltext')]\n"
          ]
        }
      ]
    },
    {
      "cell_type": "code",
      "source": [
        "print(tagged_data[0][0])"
      ],
      "metadata": {
        "colab": {
          "base_uri": "https://localhost:8080/"
        },
        "id": "eAq0vvYi2fnd",
        "outputId": "50223a98-1396-4b49-f580-b5932617fb08"
      },
      "execution_count": null,
      "outputs": [
        {
          "output_type": "stream",
          "name": "stdout",
          "text": [
            "('NatGen : Generative pre-training by “Naturalizing” source code\\nSaikat Chakraborty\\nColumbia University\\nNew York, NY, USA\\nsaikatc@cs.columbia.eduToufique Ahmed\\nUniversity of California, Davis\\nDavis, CA, USA\\ntfahmed@ucdavis.eduYangruibo Ding\\nColumbia University\\nNew York, NY, USA\\nyrbding@cs.columbia.edu\\nPremkumar Devanbu\\nUniversity of California, Davis\\nDavis, CA, USA\\nptdevanbu@ucdavis.eduBaishakhi Ray\\nColumbia University\\nNew York, NY, USA\\nrayb@cs.columbia.edu\\nAbstract\\nPre-trained Generative Language models ( e.g.,PLBART, CodeT5,\\nSPT-Code) for source code yielded strong results on several tasks\\nin the past few years, including code generation and translation.', 'highlight')\n"
          ]
        }
      ]
    },
    {
      "cell_type": "code",
      "source": [
        "# Tokenize words\n",
        "word_tokenizer = Tokenizer(num_words=len(words), oov_token='OOV')\n",
        "chunk_size = 10000  # Change this value depending on the memory capacity of your machine\n",
        "sentences = [sentence for seq in tagged_data for sentence, _ in seq]  # get the sentences from tagged_data\n",
        "\n",
        "# fit on texts in chunks\n",
        "for i in range(0, len(sentences), chunk_size):\n",
        "    word_tokenizer.fit_on_texts(sentences[i:i+chunk_size])\n",
        "\n",
        "# Tokenize tags\n",
        "labels = [label for seq in tagged_data for _, label in seq]\n",
        "tag_tokenizer = Tokenizer(lower=False, num_words=None)  # turn off lowercasing and limiting the number of words\n",
        "tag_tokenizer.fit_on_texts(labels)"
      ],
      "metadata": {
        "id": "j4fXb0c4SHBs"
      },
      "execution_count": null,
      "outputs": []
    },
    {
      "cell_type": "code",
      "source": [
        "### label on sentence level ###\n",
        "\n",
        "\n",
        "def process_chunk(chunk, max_sentence_length):\n",
        "    X_chunk = []\n",
        "    y_chunk = []\n",
        "\n",
        "    for seq in chunk:\n",
        "        document_sentences = []\n",
        "        document_labels = []\n",
        "\n",
        "        for sentence, label in seq:\n",
        "            # Transform each sentence to a sequence of numeric IDs\n",
        "            encoded_sentence = word_tokenizer.texts_to_sequences([sentence])[0]\n",
        "            encoded_sentence = pad_sequences([encoded_sentence], maxlen=max_sentence_length, padding='post')[0]\n",
        "\n",
        "            # Encode the label for the sentence\n",
        "            encoded_label = tag_tokenizer.texts_to_sequences([label])[0]\n",
        "\n",
        "            # No need to replicate label for all tokens in the sentence\n",
        "\n",
        "            document_sentences.append(encoded_sentence)\n",
        "            document_labels.append(encoded_label[0])  # add the first element since encoded_label is a list of lists\n",
        "\n",
        "        X_chunk.append(document_sentences)\n",
        "        y_chunk.append(document_labels)\n",
        "\n",
        "    return X_chunk, y_chunk\n",
        "\n",
        "    # Divide the data into chunks\n",
        "chunk_size = 1000  # Adjust as needed\n",
        "chunks = chunker(tagged_data, chunk_size)\n",
        "\n",
        "max_sentence_length = 150  # set intentionally or use the function above\n",
        "max_document_length = 150\n",
        "\n",
        "# Process each chunk and combine the results\n",
        "X = []\n",
        "y = []\n",
        "\n",
        "for chunk in chunks:\n",
        "    X_chunk, y_chunk = process_chunk(chunk, max_sentence_length)\n",
        "\n",
        "    # Pad each document to max_document_length\n",
        "    X_chunk = pad_sequences(X_chunk, maxlen=max_document_length, padding='post', dtype='int32')\n",
        "\n",
        "    # Padding y_chunk to max_document_length with a specific padding label (e.g., 0)\n",
        "    y_chunk = [np.pad(document_labels, (0, max_document_length - len(document_labels)), 'constant', constant_values=0)\n",
        "               for document_labels in y_chunk]\n",
        "\n",
        "    X.extend(X_chunk)\n",
        "    y.extend(y_chunk)\n",
        "\n"
      ],
      "metadata": {
        "id": "lxmY3Im241Sy"
      },
      "execution_count": null,
      "outputs": []
    },
    {
      "cell_type": "code",
      "source": [
        "def chunker(seq, size):\n",
        "    \"\"\"Divide a sequence into chunks of the given size.\"\"\"\n",
        "    return (seq[pos:pos + size] for pos in range(0, len(seq), size))"
      ],
      "metadata": {
        "id": "wWScxCp444UU"
      },
      "execution_count": null,
      "outputs": []
    },
    {
      "cell_type": "code",
      "source": [
        "### tokenize train / test seperately ###\n",
        "\n",
        "def chunker(seq, size):\n",
        "    \"\"\"Divide a sequence into chunks of the given size.\"\"\"\n",
        "    return (seq[pos:pos + size] for pos in range(0, len(seq), size))\n",
        "\n",
        "# First, split your tagged_data into a training set and a test set\n",
        "split_index = int(len(tagged_data) * 0.8)\n",
        "train_data = tagged_data[:split_index]\n",
        "test_data = tagged_data[split_index:]\n",
        "\n",
        "# Training data\n",
        "train_sentences = [sentence for seq in train_data for sentence, _ in seq]  # get the sentences from train_data\n",
        "train_labels = [label for seq in train_data for _, label in seq]  # get the labels from train_data\n",
        "\n",
        "# Testing data\n",
        "test_sentences = [sentence for seq in test_data for sentence, _ in seq]  # get the sentences from test_data\n",
        "test_labels = [label for seq in test_data for _, label in seq]  # get the labels from test_data\n",
        "\n",
        "# Tokenize words separately for training and testing data\n",
        "word_tokenizer_train = Tokenizer(oov_token='OOV')\n",
        "word_tokenizer_test = Tokenizer(oov_token='OOV')\n",
        "\n",
        "# fit on texts in chunks for training data\n",
        "chunk_size = 10000  # Change this value depending on the memory capacity of your machine\n",
        "for i in range(0, len(train_sentences), chunk_size):\n",
        "    word_tokenizer_train.fit_on_texts(train_sentences[i:i+chunk_size])\n",
        "\n",
        "# fit on texts in chunks for testing data\n",
        "for i in range(0, len(test_sentences), chunk_size):\n",
        "    word_tokenizer_test.fit_on_texts(test_sentences[i:i+chunk_size])\n",
        "\n",
        "# Tokenize labels\n",
        "tag_tokenizer = Tokenizer(lower=False)  # turn off lowercasing and limiting the number of words\n",
        "tag_tokenizer.fit_on_texts(train_labels + test_labels)  # fit on both training and testing labels\n",
        "\n",
        "\n",
        "\n",
        "def process_chunk(chunk, max_sentence_length, word_tokenizer, tag_tokenizer):\n",
        "    X_chunk = []\n",
        "    y_chunk = []\n",
        "\n",
        "    for seq in chunk:\n",
        "        document_sentences = []\n",
        "        document_labels = []\n",
        "\n",
        "        for sentence, label in seq:\n",
        "            # Transform each sentence to a sequence of numeric IDs\n",
        "            encoded_sentence = word_tokenizer.texts_to_sequences([sentence])[0]\n",
        "            encoded_sentence = pad_sequences([encoded_sentence], maxlen=max_sentence_length, padding='post')[0]\n",
        "\n",
        "            # Encode the label for the sentence\n",
        "            encoded_label = tag_tokenizer.texts_to_sequences([label])[0]\n",
        "\n",
        "            # No need to replicate label for all tokens in the sentence\n",
        "            document_sentences.append(encoded_sentence)\n",
        "            document_labels.append(encoded_label[0])  # add the first element since encoded_label is a list of lists\n",
        "\n",
        "        X_chunk.append(document_sentences)\n",
        "        y_chunk.append(document_labels)\n",
        "\n",
        "    return X_chunk, y_chunk\n",
        "\n",
        "def pad_documents(X, max_document_length, max_sentence_length):\n",
        "    padded_X = []\n",
        "\n",
        "    for document in X:\n",
        "        # Pad each sentence in the document\n",
        "        padded_sentences = pad_sequences(document, maxlen=max_sentence_length, padding='post')\n",
        "\n",
        "        # If the document has less sentences than max_document_length, pad with sentences of zeros\n",
        "        if len(padded_sentences) < max_document_length:\n",
        "            padding = np.zeros((max_document_length - len(padded_sentences), max_sentence_length), dtype=int)\n",
        "            padded_sentences = np.concatenate([padded_sentences, padding])\n",
        "\n",
        "        # If the document has more sentences than max_document_length, truncate\n",
        "        elif len(padded_sentences) > max_document_length:\n",
        "            padded_sentences = padded_sentences[:max_document_length]\n",
        "\n",
        "        padded_X.append(padded_sentences)\n",
        "\n",
        "    return np.array(padded_X)\n",
        "\n",
        "max_sentence_length = 150\n",
        "max_document_length = 150 # adjust this to your needs\n",
        "# ... other parts of your code\n",
        "\n",
        "def pad_documents(X, max_document_length, max_sentence_length):\n",
        "    padded_X = []\n",
        "\n",
        "    for document in X:\n",
        "        # Pad each sentence in the document\n",
        "        padded_sentences = pad_sequences(document, maxlen=max_sentence_length, padding='post')\n",
        "\n",
        "        # If the document has less sentences than max_document_length, pad with sentences of zeros\n",
        "        if len(padded_sentences) < max_document_length:\n",
        "            padding = np.zeros((max_document_length - len(padded_sentences), max_sentence_length), dtype=int)\n",
        "            padded_sentences = np.concatenate([padded_sentences, padding])\n",
        "\n",
        "        # If the document has more sentences than max_document_length, truncate\n",
        "        elif len(padded_sentences) > max_document_length:\n",
        "            padded_sentences = padded_sentences[:max_document_length]\n",
        "\n",
        "        padded_X.append(padded_sentences)\n",
        "\n",
        "    return np.array(padded_X)\n",
        "\n",
        "# ... other parts of your code\n",
        "\n",
        "X_train = []\n",
        "y_train = []\n",
        "X_test = []\n",
        "y_test = []\n",
        "\n",
        "for chunk in chunker(train_data, chunk_size):\n",
        "    X_chunk, y_chunk = process_chunk(chunk, max_sentence_length, word_tokenizer_train, tag_tokenizer)\n",
        "    X_train.extend(X_chunk)\n",
        "    y_train.extend(y_chunk)\n",
        "\n",
        "for chunk in chunker(test_data, chunk_size):\n",
        "    X_chunk, y_chunk = process_chunk(chunk, max_sentence_length, word_tokenizer_test, tag_tokenizer)\n",
        "    X_test.extend(X_chunk)\n",
        "    y_test.extend(y_chunk)\n",
        "\n",
        "# Pad documents in the training and test data\n",
        "X_train = pad_documents(X_train, max_document_length, max_sentence_length)\n",
        "X_test = pad_documents(X_test, max_document_length, max_sentence_length)\n",
        "\n",
        "# Pad labels in the training and test data\n",
        "y_train = pad_sequences(y_train, maxlen=max_document_length, padding='post')\n",
        "y_test = pad_sequences(y_test, maxlen=max_document_length, padding='post')\n",
        "\n"
      ],
      "metadata": {
        "id": "IsWFiRfVZxsM"
      },
      "execution_count": null,
      "outputs": []
    },
    {
      "cell_type": "code",
      "source": [
        "print(len(X_train[0][0]))"
      ],
      "metadata": {
        "colab": {
          "base_uri": "https://localhost:8080/"
        },
        "id": "zUunzguskhZf",
        "outputId": "7c6420df-1be7-4406-d6e2-db0321af9353"
      },
      "execution_count": null,
      "outputs": [
        {
          "output_type": "stream",
          "name": "stdout",
          "text": [
            "150\n"
          ]
        }
      ]
    },
    {
      "cell_type": "code",
      "source": [
        "print(len(y_test[0]))"
      ],
      "metadata": {
        "colab": {
          "base_uri": "https://localhost:8080/"
        },
        "id": "bnsurTz9s76N",
        "outputId": "3d4c9a3c-cce6-4195-9fac-08f4b778f876"
      },
      "execution_count": null,
      "outputs": [
        {
          "output_type": "stream",
          "name": "stdout",
          "text": [
            "58\n"
          ]
        }
      ]
    },
    {
      "cell_type": "code",
      "source": [
        "print(X_train[1][0])"
      ],
      "metadata": {
        "id": "RlZlKp_4knqM"
      },
      "execution_count": null,
      "outputs": []
    },
    {
      "cell_type": "code",
      "source": [
        "def decode_entry(X_entry, y_entry, word_tokenizer, tag_tokenizer):\n",
        "    reverse_word_index = dict(map(reversed, word_tokenizer.word_index.items()))\n",
        "    reverse_label_index = dict(map(reversed, tag_tokenizer.word_index.items()))\n",
        "\n",
        "    # Decode the entry\n",
        "    decoded_X = [[reverse_word_index.get(i, '?') for i in sentence] for sentence in X_entry]\n",
        "    decoded_y = [reverse_label_index.get(i, '?') for i in y_entry]\n",
        "\n",
        "    return decoded_X, decoded_y\n",
        "\n",
        "def print_entry(entry_id, X_data, y_data, word_tokenizer, tag_tokenizer):\n",
        "    X_entry = X_data[entry_id]\n",
        "    y_entry = y_data[entry_id]\n",
        "\n",
        "    decoded_X, decoded_y = decode_entry(X_entry, y_entry, word_tokenizer, tag_tokenizer)\n",
        "\n",
        "    print(\"Tokenized data:\")\n",
        "    print(\"X:\", X_entry)\n",
        "    print(\"y:\", y_entry)\n",
        "\n",
        "    print(\"\\nDecoded data:\")\n",
        "    print(\"X:\", decoded_X)\n",
        "    print(\"y:\", decoded_y)\n"
      ],
      "metadata": {
        "id": "X2_dEpollYn9"
      },
      "execution_count": null,
      "outputs": []
    },
    {
      "cell_type": "code",
      "source": [
        "entry_id = 0  # Replace with the id of the entry you want to print\n",
        "print_entry(entry_id, X_train, y_train, word_tokenizer_train, tag_tokenizer)"
      ],
      "metadata": {
        "id": "FsrmgnBblcj1"
      },
      "execution_count": null,
      "outputs": []
    },
    {
      "cell_type": "code",
      "source": [
        "folder_path = \"/content/drive/MyDrive/thesis_files/\""
      ],
      "metadata": {
        "id": "88g-a3hTAbbx"
      },
      "execution_count": null,
      "outputs": []
    },
    {
      "cell_type": "code",
      "source": [
        "### save the sentence-labelled data ###\n",
        "\n",
        "import h5py\n",
        "\n",
        "# Specify the path to the folder where you want to save the files\n",
        "\n",
        "\n",
        "# Save X data\n",
        "with h5py.File(f'{folder_path}X_data_sentlabel.h5', 'w') as hf:\n",
        "    hf.create_dataset(\"X_data\",  data=np.array(X))\n",
        "\n",
        "# Save y data\n",
        "with h5py.File(f'{folder_path}y_data_sentlabel.h5', 'w') as hf:\n",
        "    hf.create_dataset(\"y_data\",  data=np.array(y))\n"
      ],
      "metadata": {
        "id": "P7bVhvZc_3p4"
      },
      "execution_count": null,
      "outputs": []
    },
    {
      "cell_type": "code",
      "source": [
        "# Load X data\n",
        "with h5py.File(f'{folder_path}X_data_sentlabel.h5', 'r') as hf:\n",
        "    X = hf['X_data'][:]\n",
        "\n",
        "# Load y data\n",
        "with h5py.File(f'{folder_path}y_data_sentlabel.h5', 'r') as hf:\n",
        "    y = hf['y_data'][:]\n"
      ],
      "metadata": {
        "id": "P8Jc7e9wADM-"
      },
      "execution_count": null,
      "outputs": []
    },
    {
      "cell_type": "code",
      "source": [
        "lengths = [len(x) for x in X_train]\n",
        "\n",
        "# Check if all lengths are equal to the first one\n",
        "if len(set(lengths)) == 1:\n",
        "    print(\"All sequences are of the same length.\")\n",
        "else:\n",
        "    print(\"Sequences have varying lengths.\")\n",
        "    print(set(lengths)) # This line will show you the unique lengths of sequences.\n"
      ],
      "metadata": {
        "colab": {
          "base_uri": "https://localhost:8080/"
        },
        "id": "3oJSRF3zv1Af",
        "outputId": "b8d3e885-c908-4107-e9aa-a0ed56a891f8"
      },
      "execution_count": null,
      "outputs": [
        {
          "output_type": "stream",
          "name": "stdout",
          "text": [
            "Sequences have varying lengths.\n",
            "{1, 2, 3, 4, 5, 6, 7, 8, 9, 10, 11, 12, 13, 14, 15, 16, 17, 18, 19, 20, 21, 22, 23, 24, 25, 26, 27, 28, 29, 30, 31, 32, 33, 34, 35, 36, 37, 38, 39, 40, 41, 42, 43, 44, 45, 46, 47, 48, 49, 50, 51, 52, 53, 54, 55, 56, 57, 58, 59, 60, 61, 62, 63, 64, 65, 66, 67, 68, 69, 70, 71, 72, 73, 74, 75, 76, 77, 78, 79, 80, 81, 82, 83, 84, 85, 86, 87, 88, 89, 90, 91, 92, 93, 94, 95, 96, 97, 98, 99, 100, 101, 102, 103, 104, 105, 106, 107, 108, 109, 110, 111, 112, 113, 114, 115, 116, 117, 118, 119, 120, 121, 122, 123, 124, 125, 126, 127, 128, 129, 130, 131, 132, 133, 134, 135, 136, 137, 138, 139, 140, 141, 142, 143, 144, 145, 146, 147, 148, 149, 150}\n"
          ]
        }
      ]
    },
    {
      "cell_type": "code",
      "source": [],
      "metadata": {
        "id": "edspvag0v0xC"
      },
      "execution_count": null,
      "outputs": []
    },
    {
      "cell_type": "code",
      "source": [
        "import h5py\n",
        "import numpy as np\n",
        "\n",
        "\n",
        "\n",
        "# Save X_train data\n",
        "with h5py.File(f'{folder_path}X_train_data_sentlabel_25.h5', 'w') as hf:\n",
        "    hf.create_dataset(\"X_train_data\",  data=np.array(X_train))\n",
        "\n",
        "# Save y_train data\n",
        "with h5py.File(f'{folder_path}y_train_data_sentlabel_25.h5', 'w') as hf:\n",
        "    hf.create_dataset(\"y_train_data\",  data=np.array(y_train))\n",
        "\n",
        "# Save X_test data\n",
        "with h5py.File(f'{folder_path}X_test_data_sentlabel_25.h5', 'w') as hf:\n",
        "    hf.create_dataset(\"X_test_data\",  data=np.array(X_test))\n",
        "\n",
        "# Save y_test data\n",
        "with h5py.File(f'{folder_path}y_test_data_sentlabel_25.h5', 'w') as hf:\n",
        "    hf.create_dataset(\"y_test_data\",  data=np.array(y_test))"
      ],
      "metadata": {
        "id": "1XGTUC3DthIb"
      },
      "execution_count": null,
      "outputs": []
    },
    {
      "cell_type": "code",
      "source": [
        "import h5py\n",
        "import numpy as np\n",
        "\n",
        "\n",
        "# Load X_train data\n",
        "with h5py.File(f'{folder_path}X_train_data_sentlabel_25.h5', 'r') as hf:\n",
        "    X_train = np.array(hf['X_train_data'])\n",
        "\n",
        "# Load y_train data\n",
        "with h5py.File(f'{folder_path}y_train_data_sentlabel_25.h5', 'r') as hf:\n",
        "    y_train = np.array(hf['y_train_data'])\n",
        "\n",
        "# Load X_test data\n",
        "with h5py.File(f'{folder_path}X_test_data_sentlabel_25.h5', 'r') as hf:\n",
        "    X_test = np.array(hf['X_test_data'])\n",
        "\n",
        "# Load y_test data\n",
        "with h5py.File(f'{folder_path}y_test_data_sentlabel_25.h5', 'r') as hf:\n",
        "    y_test = np.array(hf['y_test_data'])\n"
      ],
      "metadata": {
        "colab": {
          "base_uri": "https://localhost:8080/"
        },
        "id": "ElhKMDo2b3Vs",
        "outputId": "12bc1152-e52b-429f-ffbf-81b3aca91587"
      },
      "execution_count": null,
      "outputs": [
        {
          "output_type": "stream",
          "name": "stderr",
          "text": [
            "<ipython-input-4-c314b01d2a84>:7: DeprecationWarning: `product` is deprecated as of NumPy 1.25.0, and will be removed in NumPy 2.0. Please use `prod` instead.\n",
            "  X_train = np.array(hf['X_train_data'])\n",
            "<ipython-input-4-c314b01d2a84>:11: DeprecationWarning: `product` is deprecated as of NumPy 1.25.0, and will be removed in NumPy 2.0. Please use `prod` instead.\n",
            "  y_train = np.array(hf['y_train_data'])\n",
            "<ipython-input-4-c314b01d2a84>:15: DeprecationWarning: `product` is deprecated as of NumPy 1.25.0, and will be removed in NumPy 2.0. Please use `prod` instead.\n",
            "  X_test = np.array(hf['X_test_data'])\n",
            "<ipython-input-4-c314b01d2a84>:19: DeprecationWarning: `product` is deprecated as of NumPy 1.25.0, and will be removed in NumPy 2.0. Please use `prod` instead.\n",
            "  y_test = np.array(hf['y_test_data'])\n"
          ]
        }
      ]
    },
    {
      "cell_type": "code",
      "source": [
        "### for sentence levek labels\n",
        "\n",
        "def calculate_label_ratio(y):\n",
        "    # Flatten the list of lists\n",
        "    flat_list = [item for sublist in y for item in sublist]\n",
        "\n",
        "    # Count the number of each label\n",
        "    count_label0 = flat_list.count(0)\n",
        "    print(count_label0)\n",
        "    count_label1 = flat_list.count(1)\n",
        "    print(count_label1)\n",
        "    count_label2 = flat_list.count(2)\n",
        "    print(count_label2)\n",
        "\n",
        "    # Calculate and return the ratio\n",
        "    return count_label2 / count_label1\n",
        "\n",
        "print(calculate_label_ratio(y))\n"
      ],
      "metadata": {
        "colab": {
          "base_uri": "https://localhost:8080/"
        },
        "id": "G8dAkHBj8FC4",
        "outputId": "d519d002-a538-4ab4-cb42-8d0f07387b67"
      },
      "execution_count": null,
      "outputs": [
        {
          "output_type": "stream",
          "name": "stdout",
          "text": [
            "826932\n",
            "1550892\n",
            "27726\n",
            "0.017877453749197237\n"
          ]
        }
      ]
    },
    {
      "cell_type": "code",
      "source": [],
      "metadata": {
        "id": "BjwL_WiC47FD"
      },
      "execution_count": null,
      "outputs": []
    },
    {
      "cell_type": "code",
      "source": [
        "from pandas.core.generic import RandomState\n",
        "# Split into training and testing data\n",
        "#X_train, X_test, y_train, y_test = train_test_split(X, y, test_size=0.2, random_state=42)"
      ],
      "metadata": {
        "id": "uC1AAIJCSQoq"
      },
      "execution_count": null,
      "outputs": []
    },
    {
      "cell_type": "code",
      "source": [
        "# Further split the training data into training and validation sets\n",
        "#X_train, X_val, y_train, y_val = train_test_split(X_train, y_train, test_size=0.2, random_state=42)"
      ],
      "metadata": {
        "id": "zPMJ7ti9SYZB"
      },
      "execution_count": null,
      "outputs": []
    },
    {
      "cell_type": "code",
      "source": [
        "print(len(X_train))"
      ],
      "metadata": {
        "colab": {
          "base_uri": "https://localhost:8080/"
        },
        "id": "Py9TrQY5vCXY",
        "outputId": "e47ce275-0f02-46d1-819d-bdc66033956d"
      },
      "execution_count": null,
      "outputs": [
        {
          "output_type": "stream",
          "name": "stdout",
          "text": [
            "12829\n"
          ]
        }
      ]
    },
    {
      "cell_type": "code",
      "source": [
        "print(len(y_train))"
      ],
      "metadata": {
        "colab": {
          "base_uri": "https://localhost:8080/"
        },
        "id": "CtR3lFBXghHA",
        "outputId": "2c7b43a2-3427-43be-d59f-79d898d805db"
      },
      "execution_count": null,
      "outputs": [
        {
          "output_type": "stream",
          "name": "stdout",
          "text": [
            "12829\n"
          ]
        }
      ]
    },
    {
      "cell_type": "code",
      "source": [],
      "metadata": {
        "id": "7C06yrBLSo14"
      },
      "execution_count": null,
      "outputs": []
    },
    {
      "cell_type": "code",
      "source": [
        "print()"
      ],
      "metadata": {
        "id": "QfhPP8DG52br"
      },
      "execution_count": null,
      "outputs": []
    },
    {
      "cell_type": "code",
      "source": [
        "print(len(word_tokenizer_train.index_word))"
      ],
      "metadata": {
        "colab": {
          "base_uri": "https://localhost:8080/"
        },
        "id": "I3ysK3if6Dqz",
        "outputId": "0726beee-b0be-4573-e0cd-9857b4718b8d"
      },
      "execution_count": null,
      "outputs": [
        {
          "output_type": "stream",
          "name": "stdout",
          "text": [
            "520872\n"
          ]
        }
      ]
    },
    {
      "cell_type": "code",
      "source": [
        "batch_size = 32 # 8\n",
        "len_word_index = 520872 #546246 #?\n",
        "len_tag_index = 2 +1\n",
        "longest_sentence = 150 # 686 ADAPT IF NEEDED"
      ],
      "metadata": {
        "id": "pMSaRYYXS14C"
      },
      "execution_count": null,
      "outputs": []
    },
    {
      "cell_type": "code",
      "source": [
        "### for y_train\n",
        "\n",
        "# Compute sample weights\n",
        "unique, counts = np.unique([item for sublist in y_train for item in sublist], return_counts=True)\n",
        "weights = len(y_train) / (len(unique) * counts)\n",
        "\n",
        "# Adjust the weight for the minority class (highlight class)\n",
        "weights = weights * len(unique)  # normalization to make minority class weight >= 1\n",
        "weights_dict = {class_id: weight for class_id, weight in zip(unique, weights)}\n",
        "\n",
        "# Increase weight for the highlight class (class 2)\n",
        "weights_dict[2] = weights_dict[2] * 1  # You can adjust this value based on your requirements\n",
        "\n",
        "# Set the weight of the padding class to 0\n",
        "weights_dict[0] = 0\n",
        "\n",
        "# Create a sample weights matrix and assign a weight to each sentence\n",
        "sample_weights = []\n",
        "\n",
        "for document_labels in y_train:\n",
        "    document_weights = np.array([weights_dict[label] for label in document_labels])\n",
        "    sample_weights.append(document_weights)\n",
        "\n"
      ],
      "metadata": {
        "id": "Rfv-i0CJ6rdF"
      },
      "execution_count": null,
      "outputs": []
    },
    {
      "cell_type": "code",
      "source": [
        "print(weights_dict)"
      ],
      "metadata": {
        "colab": {
          "base_uri": "https://localhost:8080/"
        },
        "id": "87ZefiOg67Kz",
        "outputId": "27f9fc76-92bc-43a2-bb43-c586b8a121ab"
      },
      "execution_count": null,
      "outputs": [
        {
          "output_type": "stream",
          "name": "stdout",
          "text": [
            "{0: 0, 1: 0.008795981095736942, 2: 0.645646703573226}\n"
          ]
        }
      ]
    },
    {
      "cell_type": "code",
      "source": [
        "sample_weights = np.array(sample_weights)"
      ],
      "metadata": {
        "id": "znhy-cap9Px9"
      },
      "execution_count": null,
      "outputs": []
    },
    {
      "cell_type": "code",
      "source": [
        "sample_weights.shape"
      ],
      "metadata": {
        "colab": {
          "base_uri": "https://localhost:8080/"
        },
        "id": "ihrv8bI90Obl",
        "outputId": "84076445-d5e0-4edf-a529-34618bdd6468"
      },
      "execution_count": null,
      "outputs": [
        {
          "output_type": "execute_result",
          "data": {
            "text/plain": [
              "(12829, 150)"
            ]
          },
          "metadata": {},
          "execution_count": 20
        }
      ]
    },
    {
      "cell_type": "code",
      "source": [
        "print(weights_dict)"
      ],
      "metadata": {
        "colab": {
          "base_uri": "https://localhost:8080/"
        },
        "id": "2KZqgJXG9EqC",
        "outputId": "7b36b975-023a-4e2a-8223-e081ca4f9efc"
      },
      "execution_count": null,
      "outputs": [
        {
          "output_type": "stream",
          "name": "stdout",
          "text": [
            "{0: 0, 1: 0.010340500821462746, 2: 57.84101565317752}\n"
          ]
        }
      ]
    },
    {
      "cell_type": "code",
      "source": [
        "np.save('sample_weights_1.npy', sample_weights)\n"
      ],
      "metadata": {
        "id": "igfHAKvpjuU2"
      },
      "execution_count": null,
      "outputs": []
    },
    {
      "cell_type": "code",
      "source": [
        "sample_weights = np.load('sample_weights_1.npy')"
      ],
      "metadata": {
        "id": "eoe9tlgSlJvU"
      },
      "execution_count": null,
      "outputs": []
    },
    {
      "cell_type": "code",
      "source": [
        "from google.colab import files\n",
        "files.download('sample_weights_1.npy')"
      ],
      "metadata": {
        "id": "XMqP9b9tlOcJ"
      },
      "execution_count": null,
      "outputs": []
    },
    {
      "cell_type": "code",
      "source": [
        "import numpy as np\n",
        "\n",
        "X_train = np.array(X_train)\n",
        "y_train = np.array(y_train)\n",
        "X_test = np.array(X_test)\n",
        "y_test = np.array(y_test)\n"
      ],
      "metadata": {
        "id": "fGe65ltwjXAZ"
      },
      "execution_count": null,
      "outputs": []
    },
    {
      "cell_type": "code",
      "source": [
        "### Sentence level Predicitons ###\n",
        "from keras.layers import Masking\n",
        "# Import required layers and modules\n",
        "from keras.layers import Input, LSTM, Embedding, Dense, TimeDistributed, Bidirectional\n",
        "from keras.models import Model\n",
        "\n",
        "# Define the structure of the model\n",
        "document_input = Input(shape=(None, longest_sentence), dtype='int32')  # shape = (num_documents, num_sentences, num_words)\n",
        "embedded_sequences = TimeDistributed(Embedding(input_dim= len_word_index +1, output_dim=50))(document_input)  # embedding at word level\n",
        "masked_sequences = TimeDistributed(Masking(mask_value=0))(embedded_sequences)  # masking at word level\n",
        "word_lstm = TimeDistributed(Bidirectional(LSTM(units=100, return_sequences=False, recurrent_dropout=0.1)))(masked_sequences)  # LSTM at word level, not returning sequences\n",
        "sentence_output = Dense(len_tag_index, activation='softmax')(word_lstm)  # sentence-level output\n",
        "\n",
        "# Create the model\n",
        "model = Model(inputs=[document_input], outputs=[sentence_output])\n"
      ],
      "metadata": {
        "id": "jyYfJ9ZR-Dzo"
      },
      "execution_count": null,
      "outputs": []
    },
    {
      "cell_type": "code",
      "source": [
        "### Model without TimeDistributed ###\n",
        "\n",
        "from keras.layers import Masking\n",
        "from keras.layers import Input, LSTM, Embedding, Dense, Bidirectional\n",
        "from keras.models import Model\n",
        "\n",
        "# Define the structure of the model\n",
        "sentence_input = Input(shape=(longest_sentence,), dtype='int32')  # shape = (num_sentences, num_words)\n",
        "embedded_sequences = Embedding(input_dim=len_word_index +1, output_dim=50)(sentence_input)  # embedding at word level\n",
        "masked_sequences = Masking(mask_value=0)(embedded_sequences)  # masking at word level\n",
        "word_lstm = Bidirectional(LSTM(units=100, return_sequences=False, recurrent_dropout=0.1))(masked_sequences)  # LSTM at word level, not returning sequences\n",
        "sentence_output = Dense(len_tag_index, activation='softmax')(word_lstm)  # sentence-level output\n",
        "\n",
        "# Create the model\n",
        "model = Model(inputs=[sentence_input], outputs=[sentence_output])\n"
      ],
      "metadata": {
        "id": "jJ6wRhOGqhjr"
      },
      "execution_count": null,
      "outputs": []
    },
    {
      "cell_type": "code",
      "source": [
        "model.summary()"
      ],
      "metadata": {
        "colab": {
          "base_uri": "https://localhost:8080/"
        },
        "id": "43mRalxmizrQ",
        "outputId": "36a44364-0071-4e87-f02f-caec1fb66612"
      },
      "execution_count": null,
      "outputs": [
        {
          "output_type": "stream",
          "name": "stdout",
          "text": [
            "Model: \"model\"\n",
            "_________________________________________________________________\n",
            " Layer (type)                Output Shape              Param #   \n",
            "=================================================================\n",
            " input_1 (InputLayer)        [(None, None, 150)]       0         \n",
            "                                                                 \n",
            " time_distributed (TimeDistr  (None, None, 150, 50)    27312350  \n",
            " ibuted)                                                         \n",
            "                                                                 \n",
            " time_distributed_1 (TimeDis  (None, None, 150, 50)    0         \n",
            " tributed)                                                       \n",
            "                                                                 \n",
            " time_distributed_2 (TimeDis  (None, None, 200)        120800    \n",
            " tributed)                                                       \n",
            "                                                                 \n",
            " dense (Dense)               (None, None, 3)           603       \n",
            "                                                                 \n",
            "=================================================================\n",
            "Total params: 27,433,753\n",
            "Trainable params: 27,433,753\n",
            "Non-trainable params: 0\n",
            "_________________________________________________________________\n"
          ]
        }
      ]
    },
    {
      "cell_type": "code",
      "source": [
        "from tensorflow.keras.utils import plot_model\n",
        "\n",
        "# Plot the model architecture\n",
        "plot_model(model, to_file='model_plot3.png', show_shapes=True, show_layer_names=True)"
      ],
      "metadata": {
        "colab": {
          "base_uri": "https://localhost:8080/",
          "height": 533
        },
        "id": "7TtiIMwGi9EV",
        "outputId": "1afe1aac-b622-4091-97f3-84245ed622c7"
      },
      "execution_count": null,
      "outputs": [
        {
          "output_type": "execute_result",
          "data": {
            "image/png": "[encoded data removed]",
            "text/plain": [
              "<IPython.core.display.Image object>"
            ]
          },
          "metadata": {},
          "execution_count": 8
        }
      ]
    },
    {
      "cell_type": "code",
      "source": [
        "model.compile(optimizer='adam',\n",
        "              loss='sparse_categorical_crossentropy',\n",
        "              metrics=['accuracy'])\n"
      ],
      "metadata": {
        "id": "ifYMoiX3Axrt"
      },
      "execution_count": null,
      "outputs": []
    },
    {
      "cell_type": "code",
      "source": [
        "history = model.fit(np.array(X_train), np.expand_dims(np.array(y_train), axis=-1),\n",
        "                    batch_size=32,\n",
        "                    epochs=3,  # You can change this\n",
        "                    validation_split=0.2,\n",
        "                    sample_weight=sample_weights)\n"
      ],
      "metadata": {
        "colab": {
          "base_uri": "https://localhost:8080/",
          "height": 943
        },
        "id": "ykNlLP9SA0sa",
        "outputId": "20bf6f13-5d62-4302-83ad-0a51df743c3e"
      },
      "execution_count": null,
      "outputs": [
        {
          "output_type": "stream",
          "name": "stdout",
          "text": [
            "Epoch 1/3\n"
          ]
        },
        {
          "output_type": "error",
          "ename": "ValueError",
          "evalue": "ignored",
          "traceback": [
            "\u001b[0;31m---------------------------------------------------------------------------\u001b[0m",
            "\u001b[0;31mValueError\u001b[0m                                Traceback (most recent call last)",
            "\u001b[0;32m<ipython-input-16-4c6f48301b79>\u001b[0m in \u001b[0;36m<cell line: 1>\u001b[0;34m()\u001b[0m\n\u001b[0;32m----> 1\u001b[0;31m history = model.fit(np.array(X_train), np.expand_dims(np.array(y_train), axis=-1),\n\u001b[0m\u001b[1;32m      2\u001b[0m                     \u001b[0mbatch_size\u001b[0m\u001b[0;34m=\u001b[0m\u001b[0;36m32\u001b[0m\u001b[0;34m,\u001b[0m\u001b[0;34m\u001b[0m\u001b[0;34m\u001b[0m\u001b[0m\n\u001b[1;32m      3\u001b[0m                     \u001b[0mepochs\u001b[0m\u001b[0;34m=\u001b[0m\u001b[0;36m3\u001b[0m\u001b[0;34m,\u001b[0m  \u001b[0;31m# You can change this\u001b[0m\u001b[0;34m\u001b[0m\u001b[0;34m\u001b[0m\u001b[0m\n\u001b[1;32m      4\u001b[0m                     \u001b[0mvalidation_split\u001b[0m\u001b[0;34m=\u001b[0m\u001b[0;36m0.2\u001b[0m\u001b[0;34m,\u001b[0m\u001b[0;34m\u001b[0m\u001b[0;34m\u001b[0m\u001b[0m\n\u001b[1;32m      5\u001b[0m                     sample_weight=sample_weights)\n",
            "\u001b[0;32m/usr/local/lib/python3.10/dist-packages/keras/utils/traceback_utils.py\u001b[0m in \u001b[0;36merror_handler\u001b[0;34m(*args, **kwargs)\u001b[0m\n\u001b[1;32m     68\u001b[0m             \u001b[0;31m# To get the full stack trace, call:\u001b[0m\u001b[0;34m\u001b[0m\u001b[0;34m\u001b[0m\u001b[0m\n\u001b[1;32m     69\u001b[0m             \u001b[0;31m# `tf.debugging.disable_traceback_filtering()`\u001b[0m\u001b[0;34m\u001b[0m\u001b[0;34m\u001b[0m\u001b[0m\n\u001b[0;32m---> 70\u001b[0;31m             \u001b[0;32mraise\u001b[0m \u001b[0me\u001b[0m\u001b[0;34m.\u001b[0m\u001b[0mwith_traceback\u001b[0m\u001b[0;34m(\u001b[0m\u001b[0mfiltered_tb\u001b[0m\u001b[0;34m)\u001b[0m \u001b[0;32mfrom\u001b[0m \u001b[0;32mNone\u001b[0m\u001b[0;34m\u001b[0m\u001b[0;34m\u001b[0m\u001b[0m\n\u001b[0m\u001b[1;32m     71\u001b[0m         \u001b[0;32mfinally\u001b[0m\u001b[0;34m:\u001b[0m\u001b[0;34m\u001b[0m\u001b[0;34m\u001b[0m\u001b[0m\n\u001b[1;32m     72\u001b[0m             \u001b[0;32mdel\u001b[0m \u001b[0mfiltered_tb\u001b[0m\u001b[0;34m\u001b[0m\u001b[0;34m\u001b[0m\u001b[0m\n",
            "\u001b[0;32m/usr/local/lib/python3.10/dist-packages/keras/engine/training.py\u001b[0m in \u001b[0;36mtf__train_function\u001b[0;34m(iterator)\u001b[0m\n\u001b[1;32m     13\u001b[0m                 \u001b[0;32mtry\u001b[0m\u001b[0;34m:\u001b[0m\u001b[0;34m\u001b[0m\u001b[0;34m\u001b[0m\u001b[0m\n\u001b[1;32m     14\u001b[0m                     \u001b[0mdo_return\u001b[0m \u001b[0;34m=\u001b[0m \u001b[0;32mTrue\u001b[0m\u001b[0;34m\u001b[0m\u001b[0;34m\u001b[0m\u001b[0m\n\u001b[0;32m---> 15\u001b[0;31m                     \u001b[0mretval_\u001b[0m \u001b[0;34m=\u001b[0m \u001b[0mag__\u001b[0m\u001b[0;34m.\u001b[0m\u001b[0mconverted_call\u001b[0m\u001b[0;34m(\u001b[0m\u001b[0mag__\u001b[0m\u001b[0;34m.\u001b[0m\u001b[0mld\u001b[0m\u001b[0;34m(\u001b[0m\u001b[0mstep_function\u001b[0m\u001b[0;34m)\u001b[0m\u001b[0;34m,\u001b[0m \u001b[0;34m(\u001b[0m\u001b[0mag__\u001b[0m\u001b[0;34m.\u001b[0m\u001b[0mld\u001b[0m\u001b[0;34m(\u001b[0m\u001b[0mself\u001b[0m\u001b[0;34m)\u001b[0m\u001b[0;34m,\u001b[0m \u001b[0mag__\u001b[0m\u001b[0;34m.\u001b[0m\u001b[0mld\u001b[0m\u001b[0;34m(\u001b[0m\u001b[0miterator\u001b[0m\u001b[0;34m)\u001b[0m\u001b[0;34m)\u001b[0m\u001b[0;34m,\u001b[0m \u001b[0;32mNone\u001b[0m\u001b[0;34m,\u001b[0m \u001b[0mfscope\u001b[0m\u001b[0;34m)\u001b[0m\u001b[0;34m\u001b[0m\u001b[0;34m\u001b[0m\u001b[0m\n\u001b[0m\u001b[1;32m     16\u001b[0m                 \u001b[0;32mexcept\u001b[0m\u001b[0;34m:\u001b[0m\u001b[0;34m\u001b[0m\u001b[0;34m\u001b[0m\u001b[0m\n\u001b[1;32m     17\u001b[0m                     \u001b[0mdo_return\u001b[0m \u001b[0;34m=\u001b[0m \u001b[0;32mFalse\u001b[0m\u001b[0;34m\u001b[0m\u001b[0;34m\u001b[0m\u001b[0m\n",
            "\u001b[0;31mValueError\u001b[0m: in user code:\n\n    File \"/usr/local/lib/python3.10/dist-packages/keras/engine/training.py\", line 1284, in train_function  *\n        return step_function(self, iterator)\n    File \"/usr/local/lib/python3.10/dist-packages/keras/engine/training.py\", line 1268, in step_function  **\n        outputs = model.distribute_strategy.run(run_step, args=(data,))\n    File \"/usr/local/lib/python3.10/dist-packages/keras/engine/training.py\", line 1249, in run_step  **\n        outputs = model.train_step(data)\n    File \"/usr/local/lib/python3.10/dist-packages/keras/engine/training.py\", line 1050, in train_step\n        y_pred = self(x, training=True)\n    File \"/usr/local/lib/python3.10/dist-packages/keras/utils/traceback_utils.py\", line 70, in error_handler\n        raise e.with_traceback(filtered_tb) from None\n    File \"/usr/local/lib/python3.10/dist-packages/keras/engine/input_spec.py\", line 235, in assert_input_compatibility\n        raise ValueError(\n\n    ValueError: Exception encountered when calling layer 'model_1' (type Functional).\n    \n    Input 0 of layer \"bidirectional_1\" is incompatible with the layer: expected ndim=3, found ndim=4. Full shape received: (None, 150, 150, 50)\n    \n    Call arguments received by layer 'model_1' (type Functional):\n      • inputs=tf.Tensor(shape=(None, 150, 150), dtype=int64)\n      • training=True\n      • mask=None\n"
          ]
        }
      ]
    },
    {
      "cell_type": "code",
      "source": [
        "###  fitting for witout timedistributed modelo\n",
        "\n",
        "# Assuming original X_train is a list of documents and each document is a list of sentences\n",
        "X_train_flattened = [sentence for document in X_train for sentence in document]\n",
        "\n",
        "# If y_train is also a list of documents (where each document has a label),\n",
        "# you need to repeat each document label for each sentence in the document\n",
        "y_train_flattened = [label for labels in y_train for label in labels]"
      ],
      "metadata": {
        "id": "kh1fhtk_xA5q"
      },
      "execution_count": null,
      "outputs": []
    },
    {
      "cell_type": "code",
      "source": [
        "X_train_flattened = np.array(X_train_flattened)"
      ],
      "metadata": {
        "id": "X_qPDRgvxCMe"
      },
      "execution_count": null,
      "outputs": []
    },
    {
      "cell_type": "code",
      "source": [
        "y_train_flattened = np.array(y_train_flattened)\n"
      ],
      "metadata": {
        "id": "qiW7me12xvG3"
      },
      "execution_count": null,
      "outputs": []
    },
    {
      "cell_type": "code",
      "source": [
        "y_train_flattened.shape"
      ],
      "metadata": {
        "colab": {
          "base_uri": "https://localhost:8080/"
        },
        "id": "RqPkyByExzIq",
        "outputId": "a3a627e5-d821-4377-ad56-9ab6b6b319b6"
      },
      "execution_count": null,
      "outputs": [
        {
          "output_type": "execute_result",
          "data": {
            "text/plain": [
              "(1924350,)"
            ]
          },
          "metadata": {},
          "execution_count": 12
        }
      ]
    },
    {
      "cell_type": "code",
      "source": [
        "X_train_flattened.shape"
      ],
      "metadata": {
        "colab": {
          "base_uri": "https://localhost:8080/"
        },
        "id": "qoJ5o_CvxrkV",
        "outputId": "1fb238d6-a01b-419c-fbcd-072a71efc96b"
      },
      "execution_count": null,
      "outputs": [
        {
          "output_type": "execute_result",
          "data": {
            "text/plain": [
              "(1924350, 150)"
            ]
          },
          "metadata": {},
          "execution_count": 10
        }
      ]
    },
    {
      "cell_type": "code",
      "source": [
        "from keras import backend as K\n",
        "\n",
        "# Clear the session before defining the model\n",
        "K.clear_session()"
      ],
      "metadata": {
        "id": "TuVWzhqWx4qT"
      },
      "execution_count": null,
      "outputs": []
    },
    {
      "cell_type": "code",
      "source": [
        "sample_weights_flattened = sample_weights.flatten()\n"
      ],
      "metadata": {
        "id": "UrfQjhZU0cHm"
      },
      "execution_count": null,
      "outputs": []
    },
    {
      "cell_type": "code",
      "source": [
        "sample_weights_flattened.shape"
      ],
      "metadata": {
        "colab": {
          "base_uri": "https://localhost:8080/"
        },
        "id": "tFt3NXM50jCC",
        "outputId": "b180e879-e0e7-4b69-adf7-53cd3fe30b3f"
      },
      "execution_count": null,
      "outputs": [
        {
          "output_type": "execute_result",
          "data": {
            "text/plain": [
              "(1924350,)"
            ]
          },
          "metadata": {},
          "execution_count": 22
        }
      ]
    },
    {
      "cell_type": "code",
      "source": [
        "history = model.fit(np.array(X_train_flattened), np.array(y_train_flattened),\n",
        "                    batch_size=128,\n",
        "                    epochs=3,  # You can change this\n",
        "                    validation_split=0.2,\n",
        "                    sample_weight=sample_weights_flattened)\n",
        "\n"
      ],
      "metadata": {
        "colab": {
          "base_uri": "https://localhost:8080/"
        },
        "id": "8XjvGt0hv9u2",
        "outputId": "7a0aed8c-0a47-4ae5-971d-44763bc5c1cb"
      },
      "execution_count": null,
      "outputs": [
        {
          "metadata": {
            "tags": null
          },
          "name": "stdout",
          "output_type": "stream",
          "text": [
            "Epoch 1/3\n",
            "12028/12028 [==============================] - ETA: 0s - loss: 0.0065 - accuracy: 0.8054"
          ]
        },
        {
          "metadata": {
            "tags": null
          },
          "name": "stderr",
          "output_type": "stream",
          "text": [
            "WARNING:tensorflow:`evaluate()` received a value for `sample_weight`, but `weighted_metrics` were not provided.  Did you mean to pass metrics to `weighted_metrics` in `compile()`?  If this is intentional you can pass `weighted_metrics=[]` to `compile()` in order to silence this warning.\n"
          ]
        },
        {
          "metadata": {
            "tags": null
          },
          "name": "stdout",
          "output_type": "stream",
          "text": [
            "12028/12028 [==============================] - 4052s 337ms/step - loss: 0.0065 - accuracy: 0.8054 - val_loss: 0.0162 - val_accuracy: 0.4472\n",
            "Epoch 2/3\n",
            "12028/12028 [==============================] - ETA: 0s - loss: 0.0050 - accuracy: 0.7110"
          ]
        },
        {
          "metadata": {
            "tags": null
          },
          "name": "stderr",
          "output_type": "stream",
          "text": [
            "WARNING:tensorflow:`evaluate()` received a value for `sample_weight`, but `weighted_metrics` were not provided.  Did you mean to pass metrics to `weighted_metrics` in `compile()`?  If this is intentional you can pass `weighted_metrics=[]` to `compile()` in order to silence this warning.\n"
          ]
        },
        {
          "output_type": "stream",
          "name": "stdout",
          "text": [
            "12028/12028 [==============================] - 3971s 330ms/step - loss: 0.0050 - accuracy: 0.7110 - val_loss: 0.0175 - val_accuracy: 0.4125\n",
            "Epoch 3/3\n",
            "12028/12028 [==============================] - ETA: 0s - loss: 0.0041 - accuracy: 0.7245"
          ]
        },
        {
          "output_type": "stream",
          "name": "stderr",
          "text": [
            "WARNING:tensorflow:`evaluate()` received a value for `sample_weight`, but `weighted_metrics` were not provided.  Did you mean to pass metrics to `weighted_metrics` in `compile()`?  If this is intentional you can pass `weighted_metrics=[]` to `compile()` in order to silence this warning.\n"
          ]
        },
        {
          "output_type": "stream",
          "name": "stdout",
          "text": [
            "\b\b\b\b\b\b\b\b\b\b\b\b\b\b\b\b\b\b\b\b\b\b\b\b\b\b\b\b\b\b\b\b\b\b\b\b\b\b\b\b\b\b\b\b\b\b\b\b\b\b\b\b\b\b\b\b\b\b\b\b\b\b\b\b\b\b\b\b\b\b\b\b\b\b\b\b\b\b\b\b\b\b\b\b\b\b\b\b\r12028/12028 [==============================] - 3985s 331ms/step - loss: 0.0041 - accuracy: 0.7245 - val_loss: 0.0194 - val_accuracy: 0.3974\n"
          ]
        }
      ]
    },
    {
      "cell_type": "code",
      "source": [
        "# Save the model\n",
        "model_name = 'model_sent_06_1'\n",
        "full_path = folder_path + model_name\n",
        "model.save(full_path)"
      ],
      "metadata": {
        "id": "mE53D11DTS6q",
        "colab": {
          "base_uri": "https://localhost:8080/"
        },
        "outputId": "414803c9-4ce6-4136-dd32-2c621de2d17e"
      },
      "execution_count": null,
      "outputs": [
        {
          "output_type": "stream",
          "name": "stderr",
          "text": [
            "WARNING:absl:Found untraced functions such as _update_step_xla while saving (showing 1 of 1). These functions will not be directly callable after loading.\n"
          ]
        }
      ]
    },
    {
      "cell_type": "code",
      "source": [
        "X_test_flattened = np.array([word for sentence in X_test for word in sentence])\n",
        "y_test_flattened = np.array([tag for sentence_tags in y_test for tag in sentence_tags])\n"
      ],
      "metadata": {
        "id": "ISucMr72dF7o"
      },
      "execution_count": null,
      "outputs": []
    },
    {
      "cell_type": "code",
      "source": [
        "from sklearn.metrics import classification_report\n",
        "\n",
        "# Assuming you have a test set (X_test_flattened, y_test_flattened)\n",
        "\n",
        "# After training, get the predictions\n",
        "y_pred = model.predict(X_test_flattened)\n",
        "\n",
        "# As your model outputs probabilities, we need to convert them to class labels\n",
        "y_pred = np.argmax(y_pred, axis=-1)\n",
        "\n",
        "# No need to flatten as your arrays are already 1D\n",
        "# y_pred = y_pred.flatten()\n",
        "# y_test_labels = np.array(y_test_flattened).flatten()\n",
        "\n",
        "# Exclude padding class (class 0) values for evaluation\n",
        "idx = np.where(y_test_flattened!=0)  # Get the indices where label is not padding class\n",
        "y_pred_no_pad = y_pred[idx]\n",
        "y_test_labels_no_pad = y_test_flattened[idx]\n",
        "\n",
        "print(classification_report(y_test_labels_no_pad, y_pred_no_pad, digits=4))\n"
      ],
      "metadata": {
        "colab": {
          "base_uri": "https://localhost:8080/"
        },
        "id": "tidBvDIcdJ9b",
        "outputId": "f1aa4867-459f-418b-a875-7b9c7abefa57"
      },
      "execution_count": null,
      "outputs": [
        {
          "output_type": "stream",
          "name": "stdout",
          "text": [
            "15038/15038 [==============================] - 458s 30ms/step\n",
            "              precision    recall  f1-score   support\n",
            "\n",
            "           1     0.9232    0.8193    0.8681     92385\n",
            "           2     0.0853    0.1981    0.1192      7856\n",
            "\n",
            "    accuracy                         0.7706    100241\n",
            "   macro avg     0.5042    0.5087    0.4937    100241\n",
            "weighted avg     0.8575    0.7706    0.8094    100241\n",
            "\n"
          ]
        }
      ]
    },
    {
      "cell_type": "code",
      "source": [
        "from sklearn.metrics import classification_report\n",
        "\n",
        "# Assuming you have a test set (X_test, y_test)\n",
        "# After training, get the predictions\n",
        "y_pred = model.predict(X_test)\n",
        "\n",
        "# As your model outputs probabilities, we need to convert them to class labels\n",
        "y_pred = np.argmax(y_pred, axis=-1)\n",
        "\n",
        "# Flatten both arrays because classification_report cannot deal with 3D arrays\n",
        "y_pred = y_pred.flatten()\n",
        "y_test_labels = np.array(y_test).flatten()\n",
        "\n",
        "# Exclude padding class (class 0) values for evaluation\n",
        "idx = np.where(y_test_labels!=0)  # Get the indices where label is not padding class\n",
        "y_pred_no_pad = y_pred[idx]\n",
        "y_test_labels_no_pad = y_test_labels[idx]\n",
        "\n",
        "print(classification_report(y_test_labels_no_pad, y_pred_no_pad, digits=4))\n"
      ],
      "metadata": {
        "colab": {
          "base_uri": "https://localhost:8080/"
        },
        "id": "JsFA7PLmBwhS",
        "outputId": "491e984e-0809-47d2-9864-20dae1954824"
      },
      "execution_count": null,
      "outputs": [
        {
          "output_type": "stream",
          "name": "stdout",
          "text": [
            "101/101 [==============================] - 76s 744ms/step\n",
            "              precision    recall  f1-score   support\n",
            "\n",
            "           1     0.9222    0.4709    0.6235     92385\n",
            "           2     0.0789    0.5326    0.1374      7856\n",
            "\n",
            "    accuracy                         0.4758    100241\n",
            "   macro avg     0.5005    0.5018    0.3804    100241\n",
            "weighted avg     0.8561    0.4758    0.5854    100241\n",
            "\n"
          ]
        }
      ]
    },
    {
      "cell_type": "markdown",
      "source": [
        "With Focal Loss"
      ],
      "metadata": {
        "id": "JkFRmKzkJuc9"
      }
    },
    {
      "cell_type": "code",
      "source": [
        "import tensorflow as tf\n",
        "from tensorflow.keras import backend as K\n",
        "\n",
        "def categorical_focal_loss(alpha, gamma=2.):\n",
        "    \"\"\"\n",
        "    Softmax version of focal loss.\n",
        "    \"\"\"\n",
        "    alpha = np.array(alpha, dtype=np.float32)\n",
        "\n",
        "    def categorical_focal_loss_fixed(y_true, y_pred):\n",
        "        \"\"\"\n",
        "        :param y_true: A tensor of the same shape as `y_pred`\n",
        "        :param y_pred: A tensor resulting from a softmax\n",
        "        :return: Output tensor.\n",
        "        \"\"\"\n",
        "\n",
        "        # Clip the prediction value to prevent NaN's and Inf's\n",
        "        epsilon = K.epsilon()\n",
        "        y_pred = K.clip(y_pred, epsilon, 1. - epsilon)\n",
        "\n",
        "        # Calculate Cross Entropy\n",
        "        cross_entropy = -y_true * K.log(y_pred)\n",
        "\n",
        "        # Calculate Focal Loss\n",
        "        loss = alpha * K.pow(1 - y_pred, gamma) * cross_entropy\n",
        "\n",
        "        # Compute mean loss in mini_batch\n",
        "        return K.mean(K.sum(loss, axis=-1))\n",
        "\n",
        "    return categorical_focal_loss_fixed\n"
      ],
      "metadata": {
        "id": "LrV_BqB8iFzv"
      },
      "execution_count": null,
      "outputs": []
    },
    {
      "cell_type": "code",
      "source": [
        "alpha = [0, 0.1, 0.9]  # Set the alpha for padding class to 0\n",
        "focal_loss = categorical_focal_loss(alpha, gamma=2.0)"
      ],
      "metadata": {
        "id": "8yu-mb2wJ2T3"
      },
      "execution_count": null,
      "outputs": []
    },
    {
      "cell_type": "code",
      "source": [
        "\n",
        "from tensorflow.keras.utils import to_categorical\n",
        "\n",
        "num_classes = 3  # Since you have three classes: padding, normal text, and highlight.\n",
        "\n",
        "y_train = to_categorical(y_train, num_classes=num_classes)\n",
        "y_test = to_categorical(y_test, num_classes=num_classes)"
      ],
      "metadata": {
        "id": "qQj01OdYJ-J8"
      },
      "execution_count": null,
      "outputs": []
    },
    {
      "cell_type": "code",
      "source": [
        "model.compile(optimizer='adam', loss=focal_loss, metrics=['accuracy'])"
      ],
      "metadata": {
        "id": "YnGpIYdmKA-g"
      },
      "execution_count": null,
      "outputs": []
    },
    {
      "cell_type": "code",
      "source": [
        "model.fit(X_train, y_train, batch_size=32, epochs=3, sample_weight=sample_weights, validation_split=0.2, verbose=1)"
      ],
      "metadata": {
        "colab": {
          "base_uri": "https://localhost:8080/"
        },
        "id": "tMb0E6M1KEEU",
        "outputId": "35e63d5a-7846-4ee9-c6ac-6352852cfc7a"
      },
      "execution_count": null,
      "outputs": [
        {
          "output_type": "stream",
          "name": "stdout",
          "text": [
            "Epoch 1/3\n",
            "321/321 [==============================] - ETA: 0s - loss: 9.4454e-05 - accuracy: 0.7982"
          ]
        },
        {
          "output_type": "stream",
          "name": "stderr",
          "text": [
            "WARNING:tensorflow:`evaluate()` received a value for `sample_weight`, but `weighted_metrics` were not provided.  Did you mean to pass metrics to `weighted_metrics` in `compile()`?  If this is intentional you can pass `weighted_metrics=[]` to `compile()` in order to silence this warning.\n"
          ]
        },
        {
          "output_type": "stream",
          "name": "stdout",
          "text": [
            "\b\b\b\b\b\b\b\b\b\b\b\b\b\b\b\b\b\b\b\b\b\b\b\b\b\b\b\b\b\b\b\b\b\b\b\b\b\b\b\b\b\b\b\b\b\b\b\b\b\b\b\b\b\b\b\b\b\b\b\b\b\b\b\b\b\b\b\b\b\b\b\b\b\b\b\b\b\b\b\b\b\b\b\b\b\b\b\b\r321/321 [==============================] - 897s 3s/step - loss: 9.4454e-05 - accuracy: 0.7982 - val_loss: 3.0809e-04 - val_accuracy: 0.5967\n",
            "Epoch 2/3\n",
            "321/321 [==============================] - ETA: 0s - loss: 7.6891e-05 - accuracy: 0.7982"
          ]
        },
        {
          "output_type": "stream",
          "name": "stderr",
          "text": [
            "WARNING:tensorflow:`evaluate()` received a value for `sample_weight`, but `weighted_metrics` were not provided.  Did you mean to pass metrics to `weighted_metrics` in `compile()`?  If this is intentional you can pass `weighted_metrics=[]` to `compile()` in order to silence this warning.\n"
          ]
        },
        {
          "output_type": "stream",
          "name": "stdout",
          "text": [
            "\b\b\b\b\b\b\b\b\b\b\b\b\b\b\b\b\b\b\b\b\b\b\b\b\b\b\b\b\b\b\b\b\b\b\b\b\b\b\b\b\b\b\b\b\b\b\b\b\b\b\b\b\b\b\b\b\b\b\b\b\b\b\b\b\b\b\b\b\b\b\b\b\b\b\b\b\b\b\b\b\b\b\b\b\b\b\b\b\r321/321 [==============================] - 947s 3s/step - loss: 7.6891e-05 - accuracy: 0.7982 - val_loss: 2.8993e-04 - val_accuracy: 0.5967\n",
            "Epoch 3/3\n",
            "321/321 [==============================] - ETA: 0s - loss: 7.2504e-05 - accuracy: 0.7978"
          ]
        },
        {
          "output_type": "stream",
          "name": "stderr",
          "text": [
            "WARNING:tensorflow:`evaluate()` received a value for `sample_weight`, but `weighted_metrics` were not provided.  Did you mean to pass metrics to `weighted_metrics` in `compile()`?  If this is intentional you can pass `weighted_metrics=[]` to `compile()` in order to silence this warning.\n"
          ]
        },
        {
          "output_type": "stream",
          "name": "stdout",
          "text": [
            "\b\b\b\b\b\b\b\b\b\b\b\b\b\b\b\b\b\b\b\b\b\b\b\b\b\b\b\b\b\b\b\b\b\b\b\b\b\b\b\b\b\b\b\b\b\b\b\b\b\b\b\b\b\b\b\b\b\b\b\b\b\b\b\b\b\b\b\b\b\b\b\b\b\b\b\b\b\b\b\b\b\b\b\b\b\b\b\b\r321/321 [==============================] - 879s 3s/step - loss: 7.2504e-05 - accuracy: 0.7978 - val_loss: 3.5791e-04 - val_accuracy: 0.5966\n"
          ]
        },
        {
          "output_type": "execute_result",
          "data": {
            "text/plain": [
              "<keras.callbacks.History at 0x7f125d4de920>"
            ]
          },
          "metadata": {},
          "execution_count": 14
        }
      ]
    },
    {
      "cell_type": "code",
      "source": [
        "# Save the model\n",
        "model_name = 'model_sent_27_3_focal'\n",
        "full_path = folder_path + model_name\n",
        "model.save(full_path)"
      ],
      "metadata": {
        "id": "EMfGavqLvNFG",
        "colab": {
          "base_uri": "https://localhost:8080/"
        },
        "outputId": "9a8355f3-32a5-4f4f-b4df-59bb19d2378b"
      },
      "execution_count": null,
      "outputs": [
        {
          "output_type": "stream",
          "name": "stderr",
          "text": [
            "WARNING:absl:Found untraced functions such as _update_step_xla while saving (showing 1 of 1). These functions will not be directly callable after loading.\n"
          ]
        }
      ]
    },
    {
      "cell_type": "code",
      "source": [
        "print(y_pred.shape)\n",
        "print(y_test_labels.shape)"
      ],
      "metadata": {
        "colab": {
          "base_uri": "https://localhost:8080/"
        },
        "id": "k4OrEuiA0PbA",
        "outputId": "50603d11-b917-4052-a66d-12ee6fbe28e2"
      },
      "execution_count": null,
      "outputs": [
        {
          "output_type": "stream",
          "name": "stdout",
          "text": [
            "(481200,)\n",
            "(1443600,)\n"
          ]
        }
      ]
    },
    {
      "cell_type": "code",
      "source": [
        "y_pred = model.predict(X_test)\n",
        "print(y_pred.shape)\n"
      ],
      "metadata": {
        "colab": {
          "base_uri": "https://localhost:8080/"
        },
        "id": "gC3M0cwY0uhR",
        "outputId": "1a636b89-b40b-4801-9ab7-9d3f41d6735b"
      },
      "execution_count": null,
      "outputs": [
        {
          "output_type": "stream",
          "name": "stdout",
          "text": [
            "101/101 [==============================] - 60s 585ms/step\n",
            "(3208, 150, 3)\n"
          ]
        }
      ]
    },
    {
      "cell_type": "code",
      "source": [
        "y_test_labels = np.argmax(y_test, axis=-1)  # Get class labels\n",
        "y_test_labels = y_test_labels.flatten()  # Flatten\n"
      ],
      "metadata": {
        "id": "HypVfl5K1Uui"
      },
      "execution_count": null,
      "outputs": []
    },
    {
      "cell_type": "code",
      "source": [
        "#y_pred = model.predict(X_test)\n",
        "y_pred = np.argmax(y_pred, axis=-1)  # Get class labels\n",
        "y_pred = y_pred.flatten()  # Flatten\n"
      ],
      "metadata": {
        "id": "h6UNJpx_1X_K"
      },
      "execution_count": null,
      "outputs": []
    },
    {
      "cell_type": "code",
      "source": [
        "y_test_labels.shape"
      ],
      "metadata": {
        "colab": {
          "base_uri": "https://localhost:8080/"
        },
        "id": "s8w63tOp1cy8",
        "outputId": "4fe2e1f0-bcc2-4f40-faea-7d0a62c344f4"
      },
      "execution_count": null,
      "outputs": [
        {
          "output_type": "execute_result",
          "data": {
            "text/plain": [
              "(481200,)"
            ]
          },
          "metadata": {},
          "execution_count": 21
        }
      ]
    },
    {
      "cell_type": "code",
      "source": [
        "y_pred.shape"
      ],
      "metadata": {
        "colab": {
          "base_uri": "https://localhost:8080/"
        },
        "id": "k325fUHj1gSd",
        "outputId": "176f143f-ac71-47df-aef7-a2a138813a1b"
      },
      "execution_count": null,
      "outputs": [
        {
          "output_type": "execute_result",
          "data": {
            "text/plain": [
              "(481200,)"
            ]
          },
          "metadata": {},
          "execution_count": 22
        }
      ]
    },
    {
      "cell_type": "code",
      "source": [
        "# Exclude padding class (class 0) values for evaluation\n",
        "idx = np.where(y_test_labels!=0)  # Get the indices where label is not padding class\n",
        "y_pred_no_pad = y_pred[idx]\n",
        "y_test_labels_no_pad = y_test_labels[idx]"
      ],
      "metadata": {
        "id": "3ZjtCsNI1jVw"
      },
      "execution_count": null,
      "outputs": []
    },
    {
      "cell_type": "code",
      "source": [
        "y_test_labels_no_pad.shape"
      ],
      "metadata": {
        "colab": {
          "base_uri": "https://localhost:8080/"
        },
        "id": "3J8m9Cct1lwY",
        "outputId": "33faa701-83cf-49f1-ba0a-bece271f4de3"
      },
      "execution_count": null,
      "outputs": [
        {
          "output_type": "execute_result",
          "data": {
            "text/plain": [
              "(315749,)"
            ]
          },
          "metadata": {},
          "execution_count": 43
        }
      ]
    },
    {
      "cell_type": "code",
      "source": [
        "y_pred_no_pad.shape"
      ],
      "metadata": {
        "colab": {
          "base_uri": "https://localhost:8080/"
        },
        "id": "cvgJbSa41nh_",
        "outputId": "e04f9034-708a-401b-b961-43b2a358bb1c"
      },
      "execution_count": null,
      "outputs": [
        {
          "output_type": "execute_result",
          "data": {
            "text/plain": [
              "(315749,)"
            ]
          },
          "metadata": {},
          "execution_count": 44
        }
      ]
    },
    {
      "cell_type": "code",
      "source": [
        "from sklearn.metrics import classification_report\n",
        "\n",
        "print(classification_report(y_test_labels_no_pad, y_pred_no_pad, digits=4))"
      ],
      "metadata": {
        "colab": {
          "base_uri": "https://localhost:8080/"
        },
        "id": "p7URXjTx1cUR",
        "outputId": "53c93665-408e-4108-fee7-24a4a6a5045e"
      },
      "execution_count": null,
      "outputs": [
        {
          "output_type": "stream",
          "name": "stdout",
          "text": [
            "              precision    recall  f1-score   support\n",
            "\n",
            "           1     0.9216    0.9998    0.9591     92385\n",
            "           2     0.0588    0.0001    0.0003      7856\n",
            "\n",
            "    accuracy                         0.9215    100241\n",
            "   macro avg     0.4902    0.5000    0.4797    100241\n",
            "weighted avg     0.8540    0.9215    0.8840    100241\n",
            "\n"
          ]
        }
      ]
    },
    {
      "cell_type": "markdown",
      "source": [
        "### word level stuff\n"
      ],
      "metadata": {
        "id": "1ScS6EadBxcr"
      }
    },
    {
      "cell_type": "code",
      "source": [],
      "metadata": {
        "id": "2S2ZqGYxBzT-"
      },
      "execution_count": null,
      "outputs": []
    },
    {
      "cell_type": "code",
      "source": [
        "### word level predictions ###\n",
        "\n",
        "\n",
        "# Define the structure of the model\n",
        "document_input = Input(shape=(None, longest_sentence), dtype='int32')  # change here\n",
        "embedded_sequences = TimeDistributed(Embedding(input_dim= len_word_index +1, output_dim=50, input_length= longest_sentence))(document_input)  # change here\n",
        "masked_sequences = TimeDistributed(Masking(mask_value=0))(embedded_sequences)  # change here\n",
        "word_lstm = TimeDistributed(Bidirectional(LSTM(units=100, return_sequences=True, recurrent_dropout=0.1)))(masked_sequences)  # change here\n",
        "word_attention = TimeDistributed(Dense(len_tag_index, activation='softmax'))(word_lstm)\n",
        "\n",
        "# Create the model\n",
        "model = Model(inputs=[document_input], outputs=[word_attention])  # change here"
      ],
      "metadata": {
        "colab": {
          "base_uri": "https://localhost:8080/"
        },
        "id": "kRx0TqkPSrUX",
        "outputId": "f400acef-8b0a-4c27-c1d8-25c5538dc2c9"
      },
      "execution_count": null,
      "outputs": [
        {
          "output_type": "stream",
          "name": "stderr",
          "text": [
            "WARNING:tensorflow:Layer lstm will not use cuDNN kernels since it doesn't meet the criteria. It will use a generic GPU kernel as fallback when running on GPU.\n",
            "WARNING:tensorflow:Layer lstm will not use cuDNN kernels since it doesn't meet the criteria. It will use a generic GPU kernel as fallback when running on GPU.\n",
            "WARNING:tensorflow:Layer lstm will not use cuDNN kernels since it doesn't meet the criteria. It will use a generic GPU kernel as fallback when running on GPU.\n"
          ]
        }
      ]
    },
    {
      "cell_type": "code",
      "source": [
        "### focal loss\n",
        "alpha = [0, 0.25, 0.75]  # Set the alpha for padding class to 0\n",
        "focal_loss = categorical_focal_loss(alpha, gamma=2.0)"
      ],
      "metadata": {
        "id": "JtxNgbpWgvxA"
      },
      "execution_count": null,
      "outputs": []
    },
    {
      "cell_type": "code",
      "source": [],
      "metadata": {
        "id": "-NeRzv7o8lHQ"
      },
      "execution_count": null,
      "outputs": []
    },
    {
      "cell_type": "code",
      "source": [
        "# # Compile the model\n",
        "#model.compile(optimizer='adam', loss='sparse_categorical_crossentropy', metrics=['accuracy'])\n",
        "\n",
        "model.compile(optimizer='adam', loss=focal_loss, metrics=['accuracy'])\n",
        "\n"
      ],
      "metadata": {
        "id": "5tu4MJmWSw9k"
      },
      "execution_count": null,
      "outputs": []
    },
    {
      "cell_type": "code",
      "source": [
        "print(X_train.shape)"
      ],
      "metadata": {
        "colab": {
          "base_uri": "https://localhost:8080/"
        },
        "id": "GT34QISt_KB3",
        "outputId": "722d82a9-c01e-4900-d4e9-95ad0fafb6f8"
      },
      "execution_count": null,
      "outputs": [
        {
          "output_type": "stream",
          "name": "stdout",
          "text": [
            "(12829, 150, 150)\n"
          ]
        }
      ]
    },
    {
      "cell_type": "code",
      "source": [
        "y_train.shape"
      ],
      "metadata": {
        "colab": {
          "base_uri": "https://localhost:8080/"
        },
        "id": "34MAA6q9nQnS",
        "outputId": "a60271bc-8407-493b-a396-f8cefc93b587"
      },
      "execution_count": null,
      "outputs": [
        {
          "output_type": "execute_result",
          "data": {
            "text/plain": [
              "(12829, 150, 150)"
            ]
          },
          "metadata": {},
          "execution_count": 23
        }
      ]
    },
    {
      "cell_type": "code",
      "source": [
        "from tensorflow.keras.utils import to_categorical\n",
        "\n",
        "num_classes = 3  # Since you have three classes: padding, normal text, and highlight.\n",
        "\n",
        "y_train = to_categorical(y_train, num_classes=num_classes)\n",
        "y_test = to_categorical(y_test, num_classes=num_classes)\n"
      ],
      "metadata": {
        "id": "1zQTV8j4oBLI"
      },
      "execution_count": null,
      "outputs": []
    },
    {
      "cell_type": "code",
      "source": [
        "y_train.shape"
      ],
      "metadata": {
        "colab": {
          "base_uri": "https://localhost:8080/"
        },
        "id": "zfsELd9GjT1O",
        "outputId": "0ddee733-7d29-4aea-aafa-9061366b4bf1"
      },
      "execution_count": null,
      "outputs": [
        {
          "output_type": "execute_result",
          "data": {
            "text/plain": [
              "(12829, 150, 150, 3)"
            ]
          },
          "metadata": {},
          "execution_count": 25
        }
      ]
    },
    {
      "cell_type": "code",
      "source": [
        "# # Train the model with focal loss & sample weights\n",
        "model.fit(X_train, y_train, batch_size=8, epochs=3, sample_weight=sample_weights, validation_split=0.2, verbose=1)"
      ],
      "metadata": {
        "id": "55z_8aBAoUtu"
      },
      "execution_count": null,
      "outputs": []
    },
    {
      "cell_type": "code",
      "source": [
        "# # Train the model with focal loss only\n",
        "model.fit(X_train, y_train, batch_size=8, epochs=3, validation_split=0.2, verbose=1)"
      ],
      "metadata": {
        "colab": {
          "base_uri": "https://localhost:8080/"
        },
        "id": "Q-1x1xOtjC8e",
        "outputId": "befc3652-2a40-4e4c-be73-ed66de9b4817"
      },
      "execution_count": null,
      "outputs": [
        {
          "output_type": "stream",
          "name": "stdout",
          "text": [
            "Epoch 1/3\n",
            "1283/1283 [==============================] - 1578s 1s/step - loss: 0.0105 - accuracy: 0.6455 - val_loss: 0.0099 - val_accuracy: 0.6409\n",
            "Epoch 2/3\n",
            "1283/1283 [==============================] - 1484s 1s/step - loss: 0.0094 - accuracy: 0.6457 - val_loss: 0.0090 - val_accuracy: 0.6408\n",
            "Epoch 3/3\n",
            "1283/1283 [==============================] - 1431s 1s/step - loss: 0.0089 - accuracy: 0.6457 - val_loss: 0.0089 - val_accuracy: 0.6406\n"
          ]
        },
        {
          "output_type": "execute_result",
          "data": {
            "text/plain": [
              "<keras.callbacks.History at 0x7fd654087c70>"
            ]
          },
          "metadata": {},
          "execution_count": 26
        }
      ]
    },
    {
      "cell_type": "code",
      "source": [
        "# Save the model to a HDF5 file\n",
        "model.save('lstm_sent_150_19_model1.h5')\n",
        "\n",
        "# Download the file\n",
        "#from google.colab import files\n",
        "#files.download('lstm_sent_150_18_model1.h5')\n"
      ],
      "metadata": {
        "id": "Vx2qygUD5T9v"
      },
      "execution_count": null,
      "outputs": []
    },
    {
      "cell_type": "code",
      "source": [
        "# Predicting\n",
        "y_pred = model.predict(X_test)\n",
        "\n",
        "# Convert probabilities into class labels\n",
        "y_pred = np.argmax(y_pred, axis=-1)\n",
        "\n",
        "# Reshaping predictions to original shape\n",
        "y_pred = y_pred.reshape((-1, 150, 150))\n",
        "\n",
        "# For true labels, assuming y_test has the original 3D shape (num_samples, num_sentences_per_document, num_tokens_per_sentence)\n",
        "y_test_labels = np.array(y_test)\n",
        "\n",
        "# Remove padding tokens for evaluation\n",
        "y_pred_no_pad = []\n",
        "y_test_labels_no_pad = []\n",
        "for doc_pred, doc_true in zip(y_pred, y_test_labels):\n",
        "    for sent_pred, sent_true in zip(doc_pred, doc_true):\n",
        "        # Get indices where true label is not padding class\n",
        "        idx = np.where(sent_true != 0)\n",
        "        y_pred_no_pad.extend(sent_pred[idx])\n",
        "        y_test_labels_no_pad.extend(sent_true[idx])\n",
        "\n",
        "print(classification_report(y_test_labels_no_pad, y_pred_no_pad, digits=4))\n"
      ],
      "metadata": {
        "colab": {
          "base_uri": "https://localhost:8080/",
          "height": 258
        },
        "id": "TkTCbPH54dEG",
        "outputId": "5f3857de-eb25-45da-884e-4ec28068d8e4"
      },
      "execution_count": null,
      "outputs": [
        {
          "output_type": "stream",
          "name": "stdout",
          "text": [
            "101/101 [==============================] - 11s 111ms/step\n"
          ]
        },
        {
          "output_type": "error",
          "ename": "IndexError",
          "evalue": "ignored",
          "traceback": [
            "\u001b[0;31m---------------------------------------------------------------------------\u001b[0m",
            "\u001b[0;31mIndexError\u001b[0m                                Traceback (most recent call last)",
            "\u001b[0;32m<ipython-input-29-59e7591e1a29>\u001b[0m in \u001b[0;36m<cell line: 16>\u001b[0;34m()\u001b[0m\n\u001b[1;32m     18\u001b[0m         \u001b[0;31m# Get indices where true label is not padding class\u001b[0m\u001b[0;34m\u001b[0m\u001b[0;34m\u001b[0m\u001b[0m\n\u001b[1;32m     19\u001b[0m         \u001b[0midx\u001b[0m \u001b[0;34m=\u001b[0m \u001b[0mnp\u001b[0m\u001b[0;34m.\u001b[0m\u001b[0mwhere\u001b[0m\u001b[0;34m(\u001b[0m\u001b[0msent_true\u001b[0m \u001b[0;34m!=\u001b[0m \u001b[0;36m0\u001b[0m\u001b[0;34m)\u001b[0m\u001b[0;34m\u001b[0m\u001b[0;34m\u001b[0m\u001b[0m\n\u001b[0;32m---> 20\u001b[0;31m         \u001b[0my_pred_no_pad\u001b[0m\u001b[0;34m.\u001b[0m\u001b[0mextend\u001b[0m\u001b[0;34m(\u001b[0m\u001b[0msent_pred\u001b[0m\u001b[0;34m[\u001b[0m\u001b[0midx\u001b[0m\u001b[0;34m]\u001b[0m\u001b[0;34m)\u001b[0m\u001b[0;34m\u001b[0m\u001b[0;34m\u001b[0m\u001b[0m\n\u001b[0m\u001b[1;32m     21\u001b[0m         \u001b[0my_test_labels_no_pad\u001b[0m\u001b[0;34m.\u001b[0m\u001b[0mextend\u001b[0m\u001b[0;34m(\u001b[0m\u001b[0msent_true\u001b[0m\u001b[0;34m[\u001b[0m\u001b[0midx\u001b[0m\u001b[0;34m]\u001b[0m\u001b[0;34m)\u001b[0m\u001b[0;34m\u001b[0m\u001b[0;34m\u001b[0m\u001b[0m\n\u001b[1;32m     22\u001b[0m \u001b[0;34m\u001b[0m\u001b[0m\n",
            "\u001b[0;31mIndexError\u001b[0m: too many indices for array: array is 1-dimensional, but 2 were indexed"
          ]
        }
      ]
    },
    {
      "cell_type": "code",
      "source": [
        "# Exclude padding class (class 0) values for evaluation\n",
        "y_pred_no_pad = []\n",
        "y_test_labels_no_pad = []\n",
        "for doc_pred, doc_true in zip(y_pred, y_test_labels):\n",
        "    for label_pred, label_true in zip(doc_pred, doc_true):\n",
        "        # if label_true contains any non-zero elements (i.e., not padding)\n",
        "        if np.any(label_true != 0):\n",
        "            y_pred_no_pad.extend(label_pred)\n",
        "            y_test_labels_no_pad.extend(label_true)\n",
        "\n",
        "# Make the lists into numpy arrays\n",
        "y_pred_no_pad = np.array(y_pred_no_pad)\n",
        "y_test_labels_no_pad = np.array(y_test_labels_no_pad)\n",
        "\n",
        "# Get the indices where label is not padding class\n",
        "idx = np.where(y_test_labels_no_pad != 0)\n",
        "y_pred_no_pad = y_pred_no_pad[idx]\n",
        "y_test_labels_no_pad = y_test_labels_no_pad[idx]\n",
        "\n",
        "print(classification_report(y_test_labels_no_pad, y_pred_no_pad, digits=4))\n",
        "\n"
      ],
      "metadata": {
        "id": "OaW2n1jp41we"
      },
      "execution_count": null,
      "outputs": []
    },
    {
      "cell_type": "code",
      "source": [
        "import numpy as np\n",
        "import tensorflow as tf\n",
        "from tensorflow.keras import backend as K\n",
        "from tensorflow.keras.models import load_model\n",
        "\n",
        "def categorical_focal_loss(gamma=2.):\n",
        "    alpha = np.array([0, 0.25, 0.75], dtype=np.float32)  # Set the alpha for padding class to 0\n",
        "    \"\"\"\n",
        "    Softmax version of focal loss.\n",
        "    \"\"\"\n",
        "    def categorical_focal_loss_fixed(y_true, y_pred):\n",
        "        \"\"\"\n",
        "        :param y_true: A tensor of the same shape as `y_pred`\n",
        "        :param y_pred: A tensor resulting from a softmax\n",
        "        :return: Output tensor.\n",
        "        \"\"\"\n",
        "\n",
        "        # Clip the prediction value to prevent NaN's and Inf's\n",
        "        epsilon = K.epsilon()\n",
        "        y_pred = K.clip(y_pred, epsilon, 1. - epsilon)\n",
        "\n",
        "        # Calculate Cross Entropy\n",
        "        cross_entropy = -y_true * K.log(y_pred)\n",
        "\n",
        "        # Calculate Focal Loss\n",
        "        loss = alpha * K.pow(1 - y_pred, gamma) * cross_entropy\n",
        "\n",
        "        # Compute mean loss in mini_batch\n",
        "        return K.mean(K.sum(loss, axis=-1))\n",
        "\n",
        "    return categorical_focal_loss_fixed\n",
        "\n",
        "focal_loss = categorical_focal_loss(gamma=2.0)\n",
        "\n",
        "# Load the model from a HDF5 file\n",
        "model = load_model('lstm_sent_150_18_model1.h5', custom_objects={'categorical_focal_loss_fixed': focal_loss})\n"
      ],
      "metadata": {
        "colab": {
          "base_uri": "https://localhost:8080/"
        },
        "id": "v6wtet6s_MAa",
        "outputId": "51d08e9e-594e-4484-ec59-efa5fae5b2f6"
      },
      "execution_count": null,
      "outputs": [
        {
          "output_type": "stream",
          "name": "stderr",
          "text": [
            "WARNING:tensorflow:Layer lstm will not use cuDNN kernels since it doesn't meet the criteria. It will use a generic GPU kernel as fallback when running on GPU.\n",
            "WARNING:tensorflow:Layer lstm will not use cuDNN kernels since it doesn't meet the criteria. It will use a generic GPU kernel as fallback when running on GPU.\n",
            "WARNING:tensorflow:Layer lstm will not use cuDNN kernels since it doesn't meet the criteria. It will use a generic GPU kernel as fallback when running on GPU.\n"
          ]
        }
      ]
    },
    {
      "cell_type": "code",
      "source": [],
      "metadata": {
        "id": "KRwUX3m44Cz7"
      },
      "execution_count": null,
      "outputs": []
    },
    {
      "cell_type": "code",
      "source": [
        "from sklearn.metrics import classification_report\n",
        "\n",
        "# Assuming you have a test set (X_test, y_test)\n",
        "# After training, get the predictions\n",
        "y_pred = model.predict(X_test)\n",
        "\n",
        "# As your model outputs probabilities, we need to convert them to class labels\n",
        "y_pred = np.argmax(y_pred, axis=-1)\n",
        "\n",
        "# Flatten both arrays because classification_report cannot deal with 3D arrays\n",
        "y_pred = y_pred.flatten()\n",
        "y_test_labels = np.array(y_test).flatten()\n",
        "\n",
        "# Exclude padding class (class 0) values for evaluation\n",
        "idx = np.where(y_test_labels!=0)  # Get the indices where label is not padding class\n",
        "y_pred_no_pad = y_pred[idx]\n",
        "y_test_labels_no_pad = y_test_labels[idx]\n",
        "\n",
        "print(classification_report(y_test_labels_no_pad, y_pred_no_pad, digits=4))\n"
      ],
      "metadata": {
        "colab": {
          "base_uri": "https://localhost:8080/",
          "height": 276
        },
        "id": "xM4j17Sa5Bxh",
        "outputId": "dfa317cc-f287-4a27-f3ea-98930288a2bc"
      },
      "execution_count": null,
      "outputs": [
        {
          "output_type": "stream",
          "name": "stdout",
          "text": [
            "101/101 [==============================] - 12s 109ms/step\n"
          ]
        },
        {
          "output_type": "error",
          "ename": "IndexError",
          "evalue": "ignored",
          "traceback": [
            "\u001b[0;31m---------------------------------------------------------------------------\u001b[0m",
            "\u001b[0;31mIndexError\u001b[0m                                Traceback (most recent call last)",
            "\u001b[0;32m<ipython-input-27-2c7778a42466>\u001b[0m in \u001b[0;36m<cell line: 16>\u001b[0;34m()\u001b[0m\n\u001b[1;32m     14\u001b[0m \u001b[0;31m# Exclude padding class (class 0) values for evaluation\u001b[0m\u001b[0;34m\u001b[0m\u001b[0;34m\u001b[0m\u001b[0m\n\u001b[1;32m     15\u001b[0m \u001b[0midx\u001b[0m \u001b[0;34m=\u001b[0m \u001b[0mnp\u001b[0m\u001b[0;34m.\u001b[0m\u001b[0mwhere\u001b[0m\u001b[0;34m(\u001b[0m\u001b[0my_test_labels\u001b[0m\u001b[0;34m!=\u001b[0m\u001b[0;36m0\u001b[0m\u001b[0;34m)\u001b[0m  \u001b[0;31m# Get the indices where label is not padding class\u001b[0m\u001b[0;34m\u001b[0m\u001b[0;34m\u001b[0m\u001b[0m\n\u001b[0;32m---> 16\u001b[0;31m \u001b[0my_pred_no_pad\u001b[0m \u001b[0;34m=\u001b[0m \u001b[0my_pred\u001b[0m\u001b[0;34m[\u001b[0m\u001b[0midx\u001b[0m\u001b[0;34m]\u001b[0m\u001b[0;34m\u001b[0m\u001b[0;34m\u001b[0m\u001b[0m\n\u001b[0m\u001b[1;32m     17\u001b[0m \u001b[0my_test_labels_no_pad\u001b[0m \u001b[0;34m=\u001b[0m \u001b[0my_test_labels\u001b[0m\u001b[0;34m[\u001b[0m\u001b[0midx\u001b[0m\u001b[0;34m]\u001b[0m\u001b[0;34m\u001b[0m\u001b[0;34m\u001b[0m\u001b[0m\n\u001b[1;32m     18\u001b[0m \u001b[0;34m\u001b[0m\u001b[0m\n",
            "\u001b[0;31mIndexError\u001b[0m: index 72180001 is out of bounds for axis 0 with size 72180000"
          ]
        }
      ]
    },
    {
      "cell_type": "code",
      "source": [
        "from keras.utils.vis_utils import plot_model\n",
        "import matplotlib.pyplot as plt\n",
        "import matplotlib.image as mpimg\n",
        "\n",
        "# First, save the plot as a PNG file\n",
        "plot_model(model, to_file='model_plot.png', show_shapes=True, show_layer_names=True)\n",
        "\n",
        "# Then, load the image and display it\n",
        "img = mpimg.imread('model_plot.png')\n",
        "plt.figure(figsize=(10, 15))  # Optional: adjust this to change image size\n",
        "imgplot = plt.imshow(img)\n",
        "plt.show()\n"
      ],
      "metadata": {
        "colab": {
          "base_uri": "https://localhost:8080/",
          "height": 801
        },
        "id": "rz5wsTuIo6s4",
        "outputId": "b4cb5d71-d5da-4dce-d613-5eb39817c146"
      },
      "execution_count": null,
      "outputs": [
        {
          "output_type": "display_data",
          "data": {
            "text/plain": [
              "<Figure size 1000x1500 with 1 Axes>"
            ],
            "image/png": "[encoded data removed]"
          },
          "metadata": {}
        }
      ]
    },
    {
      "cell_type": "markdown",
      "source": [
        "Old Code\n"
      ],
      "metadata": {
        "id": "PRe3kjWdRpAE"
      }
    },
    {
      "cell_type": "code",
      "source": [],
      "metadata": {
        "id": "eBQj6tGbRouP"
      },
      "execution_count": null,
      "outputs": []
    },
    {
      "cell_type": "code",
      "source": [
        "# Open the file 'dataX.h5' in read mode ('r')\n",
        "with h5py.File('/content/drive/MyDrive/thesis_files/dataX_s.h5', 'r') as hf:\n",
        "    X = hf['X'][:]\n",
        "with h5py.File('/content/drive/MyDrive/thesis_files/datay_s.h5', 'r') as hf:\n",
        "    y = hf['y'][:]"
      ],
      "metadata": {
        "id": "2wCcHQU1sYd8"
      },
      "execution_count": null,
      "outputs": []
    },
    {
      "cell_type": "code",
      "source": [
        "import tensorflow as tf\n",
        "\n",
        "device_name = tf.test.gpu_device_name()\n",
        "\n",
        "if device_name != '/device:GPU:0':\n",
        "  raise SystemError('GPU device not found')\n",
        "\n",
        "print('Found GPU at: {}'.format(device_name))\n"
      ],
      "metadata": {
        "colab": {
          "base_uri": "https://localhost:8080/"
        },
        "id": "aXWKV4Rh75zf",
        "outputId": "49cec409-3654-417a-e3a9-a29b12827807"
      },
      "execution_count": null,
      "outputs": [
        {
          "output_type": "stream",
          "name": "stdout",
          "text": [
            "Found GPU at: /device:GPU:0\n"
          ]
        }
      ]
    },
    {
      "cell_type": "code",
      "source": [
        "# Split into training and testing data\n",
        "X_train, X_test, y_train, y_test = train_test_split(X, y, test_size=0.2)\n",
        "\n",
        "# Define the model\n",
        "model = Sequential()\n",
        "model.add(Embedding(input_dim=444983, output_dim=50, input_length=X.shape[1]))\n",
        "model.add(Bidirectional(LSTM(units=100, return_sequences=True, recurrent_dropout=0.1)))\n",
        "model.add(TimeDistributed(Dense(2, activation='softmax')))\n",
        "\n",
        "# Compile the model\n",
        "model.compile(optimizer='adam', loss='categorical_crossentropy', metrics=['accuracy'])\n",
        "\n",
        "# Train the model\n",
        "model.fit(X_train, np.array(y_train), batch_size= 32, epochs=3, validation_split=0.2, verbose=1)"
      ],
      "metadata": {
        "colab": {
          "base_uri": "https://localhost:8080/",
          "height": 1000
        },
        "id": "CBWCxDnWE5fY",
        "outputId": "194fe97c-d313-4845-d2cd-7abfe571da52"
      },
      "execution_count": null,
      "outputs": [
        {
          "output_type": "stream",
          "name": "stderr",
          "text": [
            "WARNING:tensorflow:Layer lstm will not use cuDNN kernels since it doesn't meet the criteria. It will use a generic GPU kernel as fallback when running on GPU.\n",
            "WARNING:tensorflow:Layer lstm will not use cuDNN kernels since it doesn't meet the criteria. It will use a generic GPU kernel as fallback when running on GPU.\n",
            "WARNING:tensorflow:Layer lstm will not use cuDNN kernels since it doesn't meet the criteria. It will use a generic GPU kernel as fallback when running on GPU.\n"
          ]
        },
        {
          "output_type": "stream",
          "name": "stdout",
          "text": [
            "Epoch 1/3\n"
          ]
        },
        {
          "output_type": "error",
          "ename": "ResourceExhaustedError",
          "evalue": "ignored",
          "traceback": [
            "\u001b[0;31m---------------------------------------------------------------------------\u001b[0m",
            "\u001b[0;31mResourceExhaustedError\u001b[0m                    Traceback (most recent call last)",
            "\u001b[0;32m<ipython-input-5-b46d458eeb90>\u001b[0m in \u001b[0;36m<cell line: 14>\u001b[0;34m()\u001b[0m\n\u001b[1;32m     12\u001b[0m \u001b[0;34m\u001b[0m\u001b[0m\n\u001b[1;32m     13\u001b[0m \u001b[0;31m# Train the model\u001b[0m\u001b[0;34m\u001b[0m\u001b[0;34m\u001b[0m\u001b[0m\n\u001b[0;32m---> 14\u001b[0;31m \u001b[0mmodel\u001b[0m\u001b[0;34m.\u001b[0m\u001b[0mfit\u001b[0m\u001b[0;34m(\u001b[0m\u001b[0mX_train\u001b[0m\u001b[0;34m,\u001b[0m \u001b[0mnp\u001b[0m\u001b[0;34m.\u001b[0m\u001b[0marray\u001b[0m\u001b[0;34m(\u001b[0m\u001b[0my_train\u001b[0m\u001b[0;34m)\u001b[0m\u001b[0;34m,\u001b[0m \u001b[0mbatch_size\u001b[0m\u001b[0;34m=\u001b[0m \u001b[0;36m32\u001b[0m\u001b[0;34m,\u001b[0m \u001b[0mepochs\u001b[0m\u001b[0;34m=\u001b[0m\u001b[0;36m3\u001b[0m\u001b[0;34m,\u001b[0m \u001b[0mvalidation_split\u001b[0m\u001b[0;34m=\u001b[0m\u001b[0;36m0.2\u001b[0m\u001b[0;34m,\u001b[0m \u001b[0mverbose\u001b[0m\u001b[0;34m=\u001b[0m\u001b[0;36m1\u001b[0m\u001b[0;34m)\u001b[0m\u001b[0;34m\u001b[0m\u001b[0;34m\u001b[0m\u001b[0m\n\u001b[0m",
            "\u001b[0;32m/usr/local/lib/python3.10/dist-packages/keras/utils/traceback_utils.py\u001b[0m in \u001b[0;36merror_handler\u001b[0;34m(*args, **kwargs)\u001b[0m\n\u001b[1;32m     68\u001b[0m             \u001b[0;31m# To get the full stack trace, call:\u001b[0m\u001b[0;34m\u001b[0m\u001b[0;34m\u001b[0m\u001b[0m\n\u001b[1;32m     69\u001b[0m             \u001b[0;31m# `tf.debugging.disable_traceback_filtering()`\u001b[0m\u001b[0;34m\u001b[0m\u001b[0;34m\u001b[0m\u001b[0m\n\u001b[0;32m---> 70\u001b[0;31m             \u001b[0;32mraise\u001b[0m \u001b[0me\u001b[0m\u001b[0;34m.\u001b[0m\u001b[0mwith_traceback\u001b[0m\u001b[0;34m(\u001b[0m\u001b[0mfiltered_tb\u001b[0m\u001b[0;34m)\u001b[0m \u001b[0;32mfrom\u001b[0m \u001b[0;32mNone\u001b[0m\u001b[0;34m\u001b[0m\u001b[0;34m\u001b[0m\u001b[0m\n\u001b[0m\u001b[1;32m     71\u001b[0m         \u001b[0;32mfinally\u001b[0m\u001b[0;34m:\u001b[0m\u001b[0;34m\u001b[0m\u001b[0;34m\u001b[0m\u001b[0m\n\u001b[1;32m     72\u001b[0m             \u001b[0;32mdel\u001b[0m \u001b[0mfiltered_tb\u001b[0m\u001b[0;34m\u001b[0m\u001b[0;34m\u001b[0m\u001b[0m\n",
            "\u001b[0;32m/usr/local/lib/python3.10/dist-packages/tensorflow/python/eager/execute.py\u001b[0m in \u001b[0;36mquick_execute\u001b[0;34m(op_name, num_outputs, inputs, attrs, ctx, name)\u001b[0m\n\u001b[1;32m     50\u001b[0m   \u001b[0;32mtry\u001b[0m\u001b[0;34m:\u001b[0m\u001b[0;34m\u001b[0m\u001b[0;34m\u001b[0m\u001b[0m\n\u001b[1;32m     51\u001b[0m     \u001b[0mctx\u001b[0m\u001b[0;34m.\u001b[0m\u001b[0mensure_initialized\u001b[0m\u001b[0;34m(\u001b[0m\u001b[0;34m)\u001b[0m\u001b[0;34m\u001b[0m\u001b[0;34m\u001b[0m\u001b[0m\n\u001b[0;32m---> 52\u001b[0;31m     tensors = pywrap_tfe.TFE_Py_Execute(ctx._handle, device_name, op_name,\n\u001b[0m\u001b[1;32m     53\u001b[0m                                         inputs, attrs, num_outputs)\n\u001b[1;32m     54\u001b[0m   \u001b[0;32mexcept\u001b[0m \u001b[0mcore\u001b[0m\u001b[0;34m.\u001b[0m\u001b[0m_NotOkStatusException\u001b[0m \u001b[0;32mas\u001b[0m \u001b[0me\u001b[0m\u001b[0;34m:\u001b[0m\u001b[0;34m\u001b[0m\u001b[0;34m\u001b[0m\u001b[0m\n",
            "\u001b[0;31mResourceExhaustedError\u001b[0m: Graph execution error:\n\nDetected at node 'sequential/bidirectional/backward_lstm/while/lstm_cell_2/split' defined at (most recent call last):\n    File \"/usr/lib/python3.10/runpy.py\", line 196, in _run_module_as_main\n      return _run_code(code, main_globals, None,\n    File \"/usr/lib/python3.10/runpy.py\", line 86, in _run_code\n      exec(code, run_globals)\n    File \"/usr/local/lib/python3.10/dist-packages/ipykernel_launcher.py\", line 16, in <module>\n      app.launch_new_instance()\n    File \"/usr/local/lib/python3.10/dist-packages/traitlets/config/application.py\", line 992, in launch_instance\n      app.start()\n    File \"/usr/local/lib/python3.10/dist-packages/ipykernel/kernelapp.py\", line 619, in start\n      self.io_loop.start()\n    File \"/usr/local/lib/python3.10/dist-packages/tornado/platform/asyncio.py\", line 195, in start\n      self.asyncio_loop.run_forever()\n    File \"/usr/lib/python3.10/asyncio/base_events.py\", line 603, in run_forever\n      self._run_once()\n    File \"/usr/lib/python3.10/asyncio/base_events.py\", line 1909, in _run_once\n      handle._run()\n    File \"/usr/lib/python3.10/asyncio/events.py\", line 80, in _run\n      self._context.run(self._callback, *self._args)\n    File \"/usr/local/lib/python3.10/dist-packages/tornado/ioloop.py\", line 685, in <lambda>\n      lambda f: self._run_callback(functools.partial(callback, future))\n    File \"/usr/local/lib/python3.10/dist-packages/tornado/ioloop.py\", line 738, in _run_callback\n      ret = callback()\n    File \"/usr/local/lib/python3.10/dist-packages/tornado/gen.py\", line 825, in inner\n      self.ctx_run(self.run)\n    File \"/usr/local/lib/python3.10/dist-packages/tornado/gen.py\", line 786, in run\n      yielded = self.gen.send(value)\n    File \"/usr/local/lib/python3.10/dist-packages/ipykernel/kernelbase.py\", line 361, in process_one\n      yield gen.maybe_future(dispatch(*args))\n    File \"/usr/local/lib/python3.10/dist-packages/tornado/gen.py\", line 234, in wrapper\n      yielded = ctx_run(next, result)\n    File \"/usr/local/lib/python3.10/dist-packages/ipykernel/kernelbase.py\", line 261, in dispatch_shell\n      yield gen.maybe_future(handler(stream, idents, msg))\n    File \"/usr/local/lib/python3.10/dist-packages/tornado/gen.py\", line 234, in wrapper\n      yielded = ctx_run(next, result)\n    File \"/usr/local/lib/python3.10/dist-packages/ipykernel/kernelbase.py\", line 539, in execute_request\n      self.do_execute(\n    File \"/usr/local/lib/python3.10/dist-packages/tornado/gen.py\", line 234, in wrapper\n      yielded = ctx_run(next, result)\n    File \"/usr/local/lib/python3.10/dist-packages/ipykernel/ipkernel.py\", line 302, in do_execute\n      res = shell.run_cell(code, store_history=store_history, silent=silent)\n    File \"/usr/local/lib/python3.10/dist-packages/ipykernel/zmqshell.py\", line 539, in run_cell\n      return super(ZMQInteractiveShell, self).run_cell(*args, **kwargs)\n    File \"/usr/local/lib/python3.10/dist-packages/IPython/core/interactiveshell.py\", line 2975, in run_cell\n      result = self._run_cell(\n    File \"/usr/local/lib/python3.10/dist-packages/IPython/core/interactiveshell.py\", line 3030, in _run_cell\n      return runner(coro)\n    File \"/usr/local/lib/python3.10/dist-packages/IPython/core/async_helpers.py\", line 78, in _pseudo_sync_runner\n      coro.send(None)\n    File \"/usr/local/lib/python3.10/dist-packages/IPython/core/interactiveshell.py\", line 3257, in run_cell_async\n      has_raised = await self.run_ast_nodes(code_ast.body, cell_name,\n    File \"/usr/local/lib/python3.10/dist-packages/IPython/core/interactiveshell.py\", line 3473, in run_ast_nodes\n      if (await self.run_code(code, result,  async_=asy)):\n    File \"/usr/local/lib/python3.10/dist-packages/IPython/core/interactiveshell.py\", line 3553, in run_code\n      exec(code_obj, self.user_global_ns, self.user_ns)\n    File \"<ipython-input-5-b46d458eeb90>\", line 14, in <cell line: 14>\n      model.fit(X_train, np.array(y_train), batch_size= 32, epochs=3, validation_split=0.2, verbose=1)\n    File \"/usr/local/lib/python3.10/dist-packages/keras/utils/traceback_utils.py\", line 65, in error_handler\n      return fn(*args, **kwargs)\n    File \"/usr/local/lib/python3.10/dist-packages/keras/engine/training.py\", line 1685, in fit\n      tmp_logs = self.train_function(iterator)\n    File \"/usr/local/lib/python3.10/dist-packages/keras/engine/training.py\", line 1284, in train_function\n      return step_function(self, iterator)\n    File \"/usr/local/lib/python3.10/dist-packages/keras/engine/training.py\", line 1268, in step_function\n      outputs = model.distribute_strategy.run(run_step, args=(data,))\n    File \"/usr/local/lib/python3.10/dist-packages/keras/engine/training.py\", line 1249, in run_step\n      outputs = model.train_step(data)\n    File \"/usr/local/lib/python3.10/dist-packages/keras/engine/training.py\", line 1050, in train_step\n      y_pred = self(x, training=True)\n    File \"/usr/local/lib/python3.10/dist-packages/keras/utils/traceback_utils.py\", line 65, in error_handler\n      return fn(*args, **kwargs)\n    File \"/usr/local/lib/python3.10/dist-packages/keras/engine/training.py\", line 558, in __call__\n      return super().__call__(*args, **kwargs)\n    File \"/usr/local/lib/python3.10/dist-packages/keras/utils/traceback_utils.py\", line 65, in error_handler\n      return fn(*args, **kwargs)\n    File \"/usr/local/lib/python3.10/dist-packages/keras/engine/base_layer.py\", line 1145, in __call__\n      outputs = call_fn(inputs, *args, **kwargs)\n    File \"/usr/local/lib/python3.10/dist-packages/keras/utils/traceback_utils.py\", line 96, in error_handler\n      return fn(*args, **kwargs)\n    File \"/usr/local/lib/python3.10/dist-packages/keras/engine/sequential.py\", line 412, in call\n      return super().call(inputs, training=training, mask=mask)\n    File \"/usr/local/lib/python3.10/dist-packages/keras/engine/functional.py\", line 512, in call\n      return self._run_internal_graph(inputs, training=training, mask=mask)\n    File \"/usr/local/lib/python3.10/dist-packages/keras/engine/functional.py\", line 669, in _run_internal_graph\n      outputs = node.layer(*args, **kwargs)\n    File \"/usr/local/lib/python3.10/dist-packages/keras/layers/rnn/bidirectional.py\", line 279, in __call__\n      return super().__call__(inputs, **kwargs)\n    File \"/usr/local/lib/python3.10/dist-packages/keras/utils/traceback_utils.py\", line 65, in error_handler\n      return fn(*args, **kwargs)\n    File \"/usr/local/lib/python3.10/dist-packages/keras/engine/base_layer.py\", line 1145, in __call__\n      outputs = call_fn(inputs, *args, **kwargs)\n    File \"/usr/local/lib/python3.10/dist-packages/keras/utils/traceback_utils.py\", line 96, in error_handler\n      return fn(*args, **kwargs)\n    File \"/usr/local/lib/python3.10/dist-packages/keras/layers/rnn/bidirectional.py\", line 409, in call\n      y_rev = self.backward_layer(\n    File \"/usr/local/lib/python3.10/dist-packages/keras/layers/rnn/base_rnn.py\", line 556, in __call__\n      return super().__call__(inputs, **kwargs)\n    File \"/usr/local/lib/python3.10/dist-packages/keras/utils/traceback_utils.py\", line 65, in error_handler\n      return fn(*args, **kwargs)\n    File \"/usr/local/lib/python3.10/dist-packages/keras/engine/base_layer.py\", line 1145, in __call__\n      outputs = call_fn(inputs, *args, **kwargs)\n    File \"/usr/local/lib/python3.10/dist-packages/keras/utils/traceback_utils.py\", line 96, in error_handler\n      return fn(*args, **kwargs)\n    File \"/usr/local/lib/python3.10/dist-packages/keras/layers/rnn/lstm.py\", line 625, in call\n      last_output, outputs, states = backend.rnn(\n    File \"/usr/local/lib/python3.10/dist-packages/keras/backend.py\", line 5169, in rnn\n      final_outputs = tf.compat.v1.while_loop(\n    File \"/usr/local/lib/python3.10/dist-packages/keras/backend.py\", line 5148, in _step\n      output, new_states = step_function(\n    File \"/usr/local/lib/python3.10/dist-packages/keras/layers/rnn/lstm.py\", line 623, in step\n      return self.cell(inputs, states, **kwargs)\n    File \"/usr/local/lib/python3.10/dist-packages/keras/utils/traceback_utils.py\", line 65, in error_handler\n      return fn(*args, **kwargs)\n    File \"/usr/local/lib/python3.10/dist-packages/keras/engine/base_layer.py\", line 1145, in __call__\n      outputs = call_fn(inputs, *args, **kwargs)\n    File \"/usr/local/lib/python3.10/dist-packages/keras/utils/traceback_utils.py\", line 96, in error_handler\n      return fn(*args, **kwargs)\n    File \"/usr/local/lib/python3.10/dist-packages/keras/layers/rnn/lstm.py\", line 295, in call\n      k_i, k_f, k_c, k_o = tf.split(\nNode: 'sequential/bidirectional/backward_lstm/while/lstm_cell_2/split'\nOOM when allocating tensor with shape[50,100] and type float on /job:localhost/replica:0/task:0/device:GPU:0 by allocator GPU_0_bfc\n\t [[{{node sequential/bidirectional/backward_lstm/while/lstm_cell_2/split}}]]\nHint: If you want to see a list of allocated tensors when OOM happens, add report_tensor_allocations_upon_oom to RunOptions for current allocation info. This isn't available when running in Eager mode.\n [Op:__inference_train_function_6514]"
          ]
        }
      ]
    }
  ]
}