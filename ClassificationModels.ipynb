{
 "cells": [
  {
   "cell_type": "code",
   "execution_count": 2,
   "metadata": {},
   "outputs": [
    {
     "name": "stdout",
     "output_type": "stream",
     "text": [
      "Intel MKL WARNING: Support of Intel(R) Streaming SIMD Extensions 4.2 (Intel(R) SSE4.2) enabled only processors has been deprecated. Intel oneAPI Math Kernel Library 2025.0 will require Intel(R) Advanced Vector Extensions (Intel(R) AVX) instructions.\n",
      "Intel MKL WARNING: Support of Intel(R) Streaming SIMD Extensions 4.2 (Intel(R) SSE4.2) enabled only processors has been deprecated. Intel oneAPI Math Kernel Library 2025.0 will require Intel(R) Advanced Vector Extensions (Intel(R) AVX) instructions.\n"
     ]
    },
    {
     "name": "stderr",
     "output_type": "stream",
     "text": [
      "2023-08-19 18:17:01.857028: I tensorflow/core/platform/cpu_feature_guard.cc:193] This TensorFlow binary is optimized with oneAPI Deep Neural Network Library (oneDNN) to use the following CPU instructions in performance-critical operations:  SSE4.1 SSE4.2\n",
      "To enable them in other operations, rebuild TensorFlow with the appropriate compiler flags.\n"
     ]
    }
   ],
   "source": [
    "### imports ###\n",
    "\n",
    "import requests\n",
    "import json\n",
    "import time\n",
    "import csv\n",
    "import pandas as pd\n",
    "import numpy as np\n",
    "import matplotlib.pyplot as plt\n",
    "import seaborn as sns\n",
    "from sklearn.feature_selection import SelectKBest, chi2, mutual_info_classif, f_classif, f_regression, mutual_info_regression\n",
    "import scipy as sp\n",
    "import torch as pt\n",
    "import keras as kr\n",
    "import tensorflow as tf\n",
    "import sklearn as sk\n",
    "import regex as re\n",
    "import plotly as pl\n",
    "from bs4 import BeautifulSoup\n",
    "import ebooklib\n",
    "from ebooklib import epub\n",
    "import difflib\n",
    "\n",
    "import numpy as np\n",
    "from sklearn.feature_extraction.text import TfidfVectorizer\n",
    "from sklearn.pipeline import Pipeline\n",
    "from sklearn.svm import SVC\n",
    "from sklearn.linear_model import SGDClassifier\n",
    "from sklearn.utils import shuffle\n",
    "from sklearn.metrics import classification_report\n",
    "\n",
    "from requests.exceptions import InvalidSchema\n",
    "\n",
    "### webdriver / selenium ###\n",
    "\n",
    "from selenium import webdriver\n",
    "from selenium.webdriver.support.ui import WebDriverWait\n",
    "from selenium.webdriver.support import expected_conditions as EC\n",
    "from selenium.webdriver.common.by import By\n",
    "\n",
    "import concurrent.futures\n",
    "\n",
    "# selenium 3\n",
    "from selenium import webdriver\n",
    "from webdriver_manager.chrome import ChromeDriverManager\n",
    "\n",
    "# my functions\n",
    "\n",
    "import thesis_functions as th"
   ]
  },
  {
   "cell_type": "code",
   "execution_count": 2,
   "metadata": {},
   "outputs": [],
   "source": [
    "# open og saved files to dataframe\n",
    "\n",
    "train_wiki_df = pd.read_json('train_wiki_df.json', orient='records', lines=True)\n",
    "\n",
    "test_wiki_df = pd.read_json('test_wiki_df.json', orient='records', lines=True)"
   ]
  },
  {
   "cell_type": "code",
   "execution_count": 35,
   "metadata": {},
   "outputs": [],
   "source": [
    "# open trial 2 files to dataframe\n",
    "\n",
    "wiki_2_train = pd.read_json('wiki_2_train.json', orient='records', lines=True)\n",
    "wiki_2_test = pd.read_json('wiki_2_test.json', orient='records', lines=True)"
   ]
  },
  {
   "cell_type": "code",
   "execution_count": 48,
   "metadata": {},
   "outputs": [
    {
     "name": "stdout",
     "output_type": "stream",
     "text": [
      "(910234, 2)\n"
     ]
    }
   ],
   "source": [
    "print(wiki_2_train.shape)"
   ]
  },
  {
   "cell_type": "code",
   "execution_count": 41,
   "metadata": {},
   "outputs": [],
   "source": [
    "wiki_3_train = pd.read_json('wiki_3_train.json', orient='records', lines=True)\n",
    "wiki_3_test = pd.read_json('wiki_3_test.json', orient='records', lines=True)"
   ]
  },
  {
   "cell_type": "code",
   "execution_count": 46,
   "metadata": {},
   "outputs": [
    {
     "name": "stdout",
     "output_type": "stream",
     "text": [
      "(897042, 2)\n"
     ]
    }
   ],
   "source": [
    "print(wiki_3_train.shape)"
   ]
  },
  {
   "cell_type": "code",
   "execution_count": 3,
   "metadata": {},
   "outputs": [],
   "source": [
    "wiki_4_train = pd.read_json('archive/wiki_4_train.json', orient='records', lines=True)\n",
    "wiki_4_test = pd.read_json('archive/wiki_4_test.json', orient='records', lines=True)"
   ]
  },
  {
   "cell_type": "code",
   "execution_count": 4,
   "metadata": {},
   "outputs": [
    {
     "name": "stdout",
     "output_type": "stream",
     "text": [
      "(784044, 2)\n"
     ]
    }
   ],
   "source": [
    "print(wiki_4_train.shape)"
   ]
  },
  {
   "cell_type": "code",
   "execution_count": 5,
   "metadata": {},
   "outputs": [],
   "source": [
    "def create_balanced_dataset(df):\n",
    "    # Group the DataFrame by the 'label' column\n",
    "    grouped = df.groupby('label')\n",
    "\n",
    "    # Find the smallest group size\n",
    "    min_group_size = min(grouped.size())\n",
    "\n",
    "    # Sample an equal number of rows from each group\n",
    "    balanced_df = grouped.apply(lambda x: x.sample(min_group_size)).reset_index(drop=True)\n",
    "\n",
    "    return balanced_df\n"
   ]
  },
  {
   "cell_type": "code",
   "execution_count": 6,
   "metadata": {},
   "outputs": [],
   "source": [
    "# balanced_wiki_train_df = create_balanced_dataset(train_wiki_df)\n",
    "# balanced_wiki_test_df = create_balanced_dataset(test_wiki_df)\n",
    "\n",
    "# balanced_wiki_train_df = create_balanced_dataset(wiki_2_train)\n",
    "# balanced_wiki_test_df = create_balanced_dataset(wiki_2_test)\n",
    "\n",
    "# balanced_wiki_train_df = create_balanced_dataset(wiki_3_train)\n",
    "# balanced_wiki_test_df = create_balanced_dataset(wiki_3_test)\n",
    "\n",
    "balanced_wiki_train_df = create_balanced_dataset(wiki_4_train)\n",
    "balanced_wiki_test_df = create_balanced_dataset(wiki_4_test)"
   ]
  },
  {
   "cell_type": "code",
   "execution_count": 7,
   "metadata": {},
   "outputs": [],
   "source": [
    "# shuffle dfs\n",
    "\n",
    "balanced_wiki_train_df = shuffle(balanced_wiki_train_df).reset_index(drop=True)\n",
    "balanced_wiki_test_df = shuffle(balanced_wiki_test_df).reset_index(drop=True)\n"
   ]
  },
  {
   "cell_type": "code",
   "execution_count": 56,
   "metadata": {},
   "outputs": [
    {
     "name": "stdout",
     "output_type": "stream",
     "text": [
      "(18722, 2)\n"
     ]
    }
   ],
   "source": [
    "print(balanced_wiki_train_df.shape)"
   ]
  },
  {
   "cell_type": "code",
   "execution_count": 57,
   "metadata": {},
   "outputs": [],
   "source": [
    "\n",
    "# # Create the pipeline with the TfidfVectorizer and the SVM classifier\n",
    "# pipeline = Pipeline([\n",
    "#     ('tfidf', TfidfVectorizer(min_df=5)),\n",
    "#     ('svm', SVC(kernel='linear', probability=True))\n",
    "# ])\n",
    "\n",
    "# Preparing the training and testing datasets\n",
    "X_train = balanced_wiki_train_df['snippet']\n",
    "y_train = balanced_wiki_train_df['label']\n",
    "X_test = balanced_wiki_test_df['snippet']\n",
    "y_test = balanced_wiki_test_df['label']\n"
   ]
  },
  {
   "cell_type": "code",
   "execution_count": 8,
   "metadata": {},
   "outputs": [],
   "source": [
    "X_train = balanced_wiki_train_df['snippet']\n",
    "y_train = balanced_wiki_train_df['label']\n",
    "X_test = balanced_wiki_test_df['snippet']\n",
    "y_test = balanced_wiki_test_df['label']"
   ]
  },
  {
   "cell_type": "code",
   "execution_count": 9,
   "metadata": {},
   "outputs": [],
   "source": [
    "### SGD Classifier ###\n",
    "\n",
    "pipeline = Pipeline([\n",
    "    ('tfidf', TfidfVectorizer(min_df=5)),\n",
    "    ('sgd', SGDClassifier(loss='hinge', penalty='l2', max_iter=1000, tol=1e-3))\n",
    "])\n"
   ]
  },
  {
   "cell_type": "code",
   "execution_count": 10,
   "metadata": {},
   "outputs": [
    {
     "name": "stdout",
     "output_type": "stream",
     "text": [
      "              precision    recall  f1-score   support\n",
      "\n",
      "           0       0.67      0.71      0.69      3438\n",
      "           1       0.69      0.64      0.67      3438\n",
      "\n",
      "    accuracy                           0.68      6876\n",
      "   macro avg       0.68      0.68      0.68      6876\n",
      "weighted avg       0.68      0.68      0.68      6876\n",
      "\n",
      "Im done\n"
     ]
    }
   ],
   "source": [
    "### Train and run the Classifier ###\n",
    "\n",
    "# Train the model using the balanced training dataset\n",
    "pipeline.fit(X_train, np.array(y_train, dtype=int))\n",
    "\n",
    "# Evaluate the model on the balanced testing dataset\n",
    "y_pred = pipeline.predict(X_test)\n",
    "\n",
    "# Print the classification report\n",
    "print(classification_report(np.array(y_test, dtype=int), y_pred))\n",
    "\n",
    "print(\"Im done\")\n"
   ]
  },
  {
   "cell_type": "code",
   "execution_count": 60,
   "metadata": {},
   "outputs": [
    {
     "name": "stdout",
     "output_type": "stream",
     "text": [
      "18722\n"
     ]
    }
   ],
   "source": [
    "print(len(X_train))"
   ]
  },
  {
   "cell_type": "code",
   "execution_count": 21,
   "metadata": {},
   "outputs": [
    {
     "name": "stdout",
     "output_type": "stream",
     "text": [
      "0     show that they are good at cooperating in situ...\n",
      "1     < 3, the number of hydrogen bond donors and ac...\n",
      "2     a semantically identical clone of the original...\n",
      "3     (Socrates) just as God created the world from ...\n",
      "4     'mental deficiency' among scientists. Schumach...\n",
      "5     All three are central to Aristophanes' Old Com...\n",
      "6     Primetime Emmy Award nomination and a Peabody ...\n",
      "7     Martin E. Dempsey, the chairman of the Joint C...\n",
      "8     Peter 4:7) and \"Surely, I come quickly.\" (Reve...\n",
      "9     Jacob Burckhardt, and Friedrich Engels; each h...\n",
      "10    remains absolutely the same all through his li...\n",
      "11    Temple dropped from number-one box-office favo...\n",
      "12    was working for a household in Suffolk.[237] A...\n",
      "13    by the slogan 'no insider information'. It is ...\n",
      "14    Biographer Anne Edwards wrote about the tone a...\n",
      "15    life (which Dąbrowski called negative adjustme...\n",
      "16    twenty-eight \"sisters\", headed by Aleksandra P...\n",
      "17    and books became affordable to all classes of ...\n",
      "18    1939 and 1940 seasons.[46] In track and field,...\n",
      "19    of the brain associated with understanding sel...\n",
      "Name: snippet, dtype: object\n"
     ]
    }
   ],
   "source": [
    "print(X_train[:20])"
   ]
  },
  {
   "cell_type": "code",
   "execution_count": 22,
   "metadata": {},
   "outputs": [
    {
     "name": "stdout",
     "output_type": "stream",
     "text": [
      "40000    developed from the Latin word racemus, \"a bunc...\n",
      "40001    child gain interest in books and feel comforta...\n",
      "40002    New Orleanians as \"Old Spanish Fort\") at the m...\n",
      "40003    original 4.77 MHz Intel 8088 used in the IBM P...\n",
      "40004    a serious shoulder wound. As in Tyre, men of m...\n",
      "40005    and activity of recognizing shared features or...\n",
      "40006    mapping hard differential equations into easie...\n",
      "40007    Saint Nicholas' Eve and Saint Nicholas' Day In...\n",
      "40008    part of her L.A.M.B. collection of clothing an...\n",
      "40009    development in only one aspect of life, usuall...\n",
      "40010    of Dahomey, Kpengla. It was given as a gift by...\n",
      "40011    David Friedberg and Siraj Khaliq. The company ...\n",
      "40012    engineer and inventor A. Baldwin Wood enacted ...\n",
      "40013    majority of Americans said that violent crime ...\n",
      "40014    and changes in police strategies for the uptic...\n",
      "40015    as a genericized trademark or proprietary epon...\n",
      "40016    for the presence of large Gram-positive rods (...\n",
      "40017    of interest to the black community in the Unit...\n",
      "40018    American historians of science Naomi Oreskes a...\n",
      "40019    still work mainly in Sri Lanka’s tea plantatio...\n",
      "Name: snippet, dtype: object\n"
     ]
    }
   ],
   "source": [
    "print(X_train[40000:40020])"
   ]
  },
  {
   "cell_type": "code",
   "execution_count": 23,
   "metadata": {},
   "outputs": [
    {
     "name": "stdout",
     "output_type": "stream",
     "text": [
      "40000    0\n",
      "40001    0\n",
      "40002    1\n",
      "40003    1\n",
      "40004    0\n",
      "40005    1\n",
      "40006    0\n",
      "40007    0\n",
      "40008    0\n",
      "40009    0\n",
      "40010    1\n",
      "40011    1\n",
      "40012    1\n",
      "40013    0\n",
      "40014    0\n",
      "40015    1\n",
      "40016    1\n",
      "40017    1\n",
      "40018    1\n",
      "40019    1\n",
      "Name: label, dtype: int64\n"
     ]
    }
   ],
   "source": [
    "print(y_train[40000:40020])"
   ]
  },
  {
   "cell_type": "code",
   "execution_count": 31,
   "metadata": {},
   "outputs": [
    {
     "name": "stdout",
     "output_type": "stream",
     "text": [
      "Total words:  2673920\n"
     ]
    }
   ],
   "source": [
    "# count the total word counts of words in X_train\n",
    "\n",
    "total_words_train = X_train.apply(lambda x: len(str(x).split())).sum()\n",
    "\n",
    "print(\"Total words: \", total_words_train)"
   ]
  },
  {
   "cell_type": "code",
   "execution_count": 27,
   "metadata": {},
   "outputs": [
    {
     "name": "stdout",
     "output_type": "stream",
     "text": [
      "Total words:  668480\n"
     ]
    }
   ],
   "source": [
    "total_words_test = X_test.apply(lambda x: len(str(x).split())).sum()\n",
    "\n",
    "print(\"Total words: \", total_words_test)"
   ]
  },
  {
   "cell_type": "code",
   "execution_count": 33,
   "metadata": {},
   "outputs": [
    {
     "data": {
      "text/plain": [
       "5347840"
      ]
     },
     "execution_count": 33,
     "metadata": {},
     "output_type": "execute_result"
    }
   ],
   "source": [
    "total_words_train + total_words_train"
   ]
  },
  {
   "cell_type": "code",
   "execution_count": 34,
   "metadata": {},
   "outputs": [
    {
     "data": {
      "text/plain": [
       "2673920.0"
      ]
     },
     "execution_count": 34,
     "metadata": {},
     "output_type": "execute_result"
    }
   ],
   "source": [
    "(total_words_train + total_words_train) /2 \n"
   ]
  },
  {
   "cell_type": "code",
   "execution_count": 61,
   "metadata": {},
   "outputs": [
    {
     "data": {
      "text/plain": [
       "2"
      ]
     },
     "execution_count": 61,
     "metadata": {},
     "output_type": "execute_result"
    }
   ],
   "source": []
  },
  {
   "attachments": {},
   "cell_type": "markdown",
   "metadata": {},
   "source": [
    "## New Dataset 31.05 cut-off"
   ]
  },
  {
   "cell_type": "code",
   "execution_count": 3,
   "metadata": {},
   "outputs": [],
   "source": [
    "df_data_train = pd.read_json('archive/df_data_train_31.05.json', orient='index')\n",
    "df_data_test = pd.read_json('archive/df_data_test_31.05.json', orient='index')\n"
   ]
  },
  {
   "cell_type": "code",
   "execution_count": 4,
   "metadata": {},
   "outputs": [
    {
     "name": "stdout",
     "output_type": "stream",
     "text": [
      "0    1879916\n",
      "1      33134\n",
      "Name: label, dtype: int64\n",
      "Class ratio for label 1: 0.01731998640913724\n"
     ]
    }
   ],
   "source": [
    "import pandas as pd\n",
    "\n",
    "# Assuming df_data_train and df_data_test are already defined\n",
    "\n",
    "# 1. Concatenate the two dataframes\n",
    "df_combined = pd.concat([df_data_train, df_data_test], ignore_index=True)\n",
    "\n",
    "# 2. Count the occurrences of 0 and 1 in the 'label' column\n",
    "label_counts = df_combined['label'].value_counts()\n",
    "print(label_counts)\n",
    "\n",
    "# 3. Calculate the class ratio for label 1\n",
    "total_records = len(df_combined)\n",
    "label_1_ratio = label_counts[1] / total_records\n",
    "print(\"Class ratio for label 1:\", label_1_ratio)\n"
   ]
  },
  {
   "cell_type": "code",
   "execution_count": 3,
   "metadata": {},
   "outputs": [
    {
     "data": {
      "text/html": [
       "<div>\n",
       "<style scoped>\n",
       "    .dataframe tbody tr th:only-of-type {\n",
       "        vertical-align: middle;\n",
       "    }\n",
       "\n",
       "    .dataframe tbody tr th {\n",
       "        vertical-align: top;\n",
       "    }\n",
       "\n",
       "    .dataframe thead th {\n",
       "        text-align: right;\n",
       "    }\n",
       "</style>\n",
       "<table border=\"1\" class=\"dataframe\">\n",
       "  <thead>\n",
       "    <tr style=\"text-align: right;\">\n",
       "      <th></th>\n",
       "      <th>snippet</th>\n",
       "      <th>label</th>\n",
       "    </tr>\n",
       "  </thead>\n",
       "  <tbody>\n",
       "    <tr>\n",
       "      <th>0</th>\n",
       "      <td>Spanish influence on the urban landscape in Ne...</td>\n",
       "      <td>0</td>\n",
       "    </tr>\n",
       "    <tr>\n",
       "      <th>1</th>\n",
       "      <td>FIG.</td>\n",
       "      <td>1</td>\n",
       "    </tr>\n",
       "    <tr>\n",
       "      <th>2</th>\n",
       "      <td>Here, the idea is to create another story that...</td>\n",
       "      <td>0</td>\n",
       "    </tr>\n",
       "    <tr>\n",
       "      <th>3</th>\n",
       "      <td>[295][296][297] One controversial contributor,...</td>\n",
       "      <td>0</td>\n",
       "    </tr>\n",
       "    <tr>\n",
       "      <th>4</th>\n",
       "      <td>Significant differences are indicated with ast...</td>\n",
       "      <td>0</td>\n",
       "    </tr>\n",
       "    <tr>\n",
       "      <th>...</th>\n",
       "      <td>...</td>\n",
       "      <td>...</td>\n",
       "    </tr>\n",
       "    <tr>\n",
       "      <th>383605</th>\n",
       "      <td>[12]\\nSwift hosted the 20th Game Developers Ch...</td>\n",
       "      <td>0</td>\n",
       "    </tr>\n",
       "    <tr>\n",
       "      <th>383606</th>\n",
       "      <td>For each feature\\n\bt(h;w)j9h2[0;h\u0003);9w2[0;w\u0003),...</td>\n",
       "      <td>0</td>\n",
       "    </tr>\n",
       "    <tr>\n",
       "      <th>383607</th>\n",
       "      <td>28, 2011), https://www.newyorker.com/news/news...</td>\n",
       "      <td>0</td>\n",
       "    </tr>\n",
       "    <tr>\n",
       "      <th>383608</th>\n",
       "      <td>From 1980, the African American majority elect...</td>\n",
       "      <td>0</td>\n",
       "    </tr>\n",
       "    <tr>\n",
       "      <th>383609</th>\n",
       "      <td>Alternative baseline approaches.</td>\n",
       "      <td>0</td>\n",
       "    </tr>\n",
       "  </tbody>\n",
       "</table>\n",
       "<p>383610 rows × 2 columns</p>\n",
       "</div>"
      ],
      "text/plain": [
       "                                                  snippet  label\n",
       "0       Spanish influence on the urban landscape in Ne...      0\n",
       "1                                                    FIG.      1\n",
       "2       Here, the idea is to create another story that...      0\n",
       "3       [295][296][297] One controversial contributor,...      0\n",
       "4       Significant differences are indicated with ast...      0\n",
       "...                                                   ...    ...\n",
       "383605  [12]\\nSwift hosted the 20th Game Developers Ch...      0\n",
       "383606  For each feature\\n\bt(h;w)j9h2[0;h\u0003);9w2[0;w\u0003),...      0\n",
       "383607  28, 2011), https://www.newyorker.com/news/news...      0\n",
       "383608  From 1980, the African American majority elect...      0\n",
       "383609                   Alternative baseline approaches.      0\n",
       "\n",
       "[383610 rows x 2 columns]"
      ]
     },
     "execution_count": 3,
     "metadata": {},
     "output_type": "execute_result"
    }
   ],
   "source": [
    "shuffle(df_data_train).reset_index(drop=True)\n",
    "shuffle(df_data_test).reset_index(drop=True)"
   ]
  },
  {
   "cell_type": "code",
   "execution_count": 132,
   "metadata": {},
   "outputs": [],
   "source": [
    "# combine train and test dataframes and count the number of words in snippets with label 1\n",
    "\n",
    "df_data_count = pd.concat([df_data_train, df_data_test])\n"
   ]
  },
  {
   "cell_type": "code",
   "execution_count": 134,
   "metadata": {},
   "outputs": [],
   "source": [
    "# Filter the dataframe for rows where 'label' equals 1\n",
    "df_filtered = df_data_count[df_data_count['label'] == 1]\n",
    "\n",
    "# Create a function that splits a string into words and counts them\n",
    "count_words = lambda x: len(str(x).split())\n",
    "\n",
    "# Apply this function to every item in the 'snippet' column, then sum all the results\n",
    "total_word_count = df_filtered['snippet'].apply(count_words).sum()\n"
   ]
  },
  {
   "cell_type": "code",
   "execution_count": 135,
   "metadata": {},
   "outputs": [
    {
     "name": "stdout",
     "output_type": "stream",
     "text": [
      "529837\n"
     ]
    }
   ],
   "source": [
    "print(total_word_count)"
   ]
  },
  {
   "cell_type": "code",
   "execution_count": 133,
   "metadata": {},
   "outputs": [
    {
     "data": {
      "text/html": [
       "<div>\n",
       "<style scoped>\n",
       "    .dataframe tbody tr th:only-of-type {\n",
       "        vertical-align: middle;\n",
       "    }\n",
       "\n",
       "    .dataframe tbody tr th {\n",
       "        vertical-align: top;\n",
       "    }\n",
       "\n",
       "    .dataframe thead th {\n",
       "        text-align: right;\n",
       "    }\n",
       "</style>\n",
       "<table border=\"1\" class=\"dataframe\">\n",
       "  <thead>\n",
       "    <tr style=\"text-align: right;\">\n",
       "      <th></th>\n",
       "      <th>snippet</th>\n",
       "      <th>label</th>\n",
       "    </tr>\n",
       "  </thead>\n",
       "  <tbody>\n",
       "    <tr>\n",
       "      <th>0</th>\n",
       "      <td>\\nTungusic creation myth\\nThe Tungusic creation myths are traditional stories of the creation of the world belonging to the Tungusic peoples of Siberia.</td>\n",
       "      <td>0</td>\n",
       "    </tr>\n",
       "    <tr>\n",
       "      <th>1</th>\n",
       "      <td>Account of creation\\nIn one account of the Tungusic creation myth, Buga, their central deity, set fire to a vast primordial ocean.</td>\n",
       "      <td>0</td>\n",
       "    </tr>\n",
       "    <tr>\n",
       "      <th>2</th>\n",
       "      <td>Buninka was spiteful and tried to injure Buga's creation.</td>\n",
       "      <td>0</td>\n",
       "    </tr>\n",
       "    <tr>\n",
       "      <th>3</th>\n",
       "      <td>[1]\\nBuninka broke Buga's twelve-stringed lyre, and Buga angrily challenged Buninka to make a fir tree and raise it to stand fast and firm in the middle of the sea.</td>\n",
       "      <td>0</td>\n",
       "    </tr>\n",
       "    <tr>\n",
       "      <th>4</th>\n",
       "      <td>Buga agreed he would bow to Buninka's powers if he could do so, but if he failed then Buga would subject himself to the same challenge.</td>\n",
       "      <td>0</td>\n",
       "    </tr>\n",
       "  </tbody>\n",
       "</table>\n",
       "</div>"
      ],
      "text/plain": [
       "                                                                                                                                                                snippet  \\\n",
       "0  \\nTungusic creation myth\\nThe Tungusic creation myths are traditional stories of the creation of the world belonging to the Tungusic peoples of Siberia.               \n",
       "1  Account of creation\\nIn one account of the Tungusic creation myth, Buga, their central deity, set fire to a vast primordial ocean.                                     \n",
       "2  Buninka was spiteful and tried to injure Buga's creation.                                                                                                              \n",
       "3  [1]\\nBuninka broke Buga's twelve-stringed lyre, and Buga angrily challenged Buninka to make a fir tree and raise it to stand fast and firm in the middle of the sea.   \n",
       "4  Buga agreed he would bow to Buninka's powers if he could do so, but if he failed then Buga would subject himself to the same challenge.                                \n",
       "\n",
       "   label  \n",
       "0  0      \n",
       "1  0      \n",
       "2  0      \n",
       "3  0      \n",
       "4  0      "
      ]
     },
     "execution_count": 133,
     "metadata": {},
     "output_type": "execute_result"
    }
   ],
   "source": [
    "df_data_count.head()"
   ]
  },
  {
   "cell_type": "code",
   "execution_count": 6,
   "metadata": {},
   "outputs": [],
   "source": [
    "def create_balanced_dataset(df):\n",
    "    # Group the DataFrame by the 'label' column\n",
    "    grouped = df.groupby('label')\n",
    "\n",
    "    # Find the smallest group size\n",
    "    min_group_size = min(grouped.size())\n",
    "\n",
    "    # Sample an equal number of rows from each group\n",
    "    balanced_df = grouped.apply(lambda x: x.sample(min_group_size)).reset_index(drop=True)\n",
    "\n",
    "    return balanced_df\n"
   ]
  },
  {
   "cell_type": "code",
   "execution_count": 7,
   "metadata": {},
   "outputs": [],
   "source": [
    "df_data_train_balanced = create_balanced_dataset(df_data_train)\n",
    "df_data_test_balanced = create_balanced_dataset(df_data_test)"
   ]
  },
  {
   "cell_type": "code",
   "execution_count": 8,
   "metadata": {},
   "outputs": [
    {
     "name": "stdout",
     "output_type": "stream",
     "text": [
      "0    33134\n",
      "1    33134\n",
      "Name: label, dtype: int64\n",
      "Class ratio for label 1: 0.5\n"
     ]
    }
   ],
   "source": [
    "# 1. Concatenate the two dataframes\n",
    "df_combined = pd.concat([df_data_train_balanced, df_data_test_balanced], ignore_index=True)\n",
    "\n",
    "# 2. Count the occurrences of 0 and 1 in the 'label' column\n",
    "label_counts = df_combined['label'].value_counts()\n",
    "print(label_counts)\n",
    "\n",
    "# 3. Calculate the class ratio for label 1\n",
    "total_records = len(df_combined)\n",
    "label_1_ratio = label_counts[1] / total_records\n",
    "print(\"Class ratio for label 1:\", label_1_ratio)"
   ]
  },
  {
   "cell_type": "code",
   "execution_count": 6,
   "metadata": {},
   "outputs": [
    {
     "name": "stdout",
     "output_type": "stream",
     "text": [
      "(52870, 2)\n"
     ]
    }
   ],
   "source": [
    "print(df_data_train_balanced.shape)"
   ]
  },
  {
   "cell_type": "code",
   "execution_count": 4,
   "metadata": {},
   "outputs": [
    {
     "ename": "NameError",
     "evalue": "name 'df_data_test_balanced' is not defined",
     "output_type": "error",
     "traceback": [
      "\u001b[0;31m---------------------------------------------------------------------------\u001b[0m",
      "\u001b[0;31mNameError\u001b[0m                                 Traceback (most recent call last)",
      "Cell \u001b[0;32mIn[4], line 1\u001b[0m\n\u001b[0;32m----> 1\u001b[0m \u001b[39mprint\u001b[39m(df_data_test_balanced\u001b[39m.\u001b[39mshape)\n",
      "\u001b[0;31mNameError\u001b[0m: name 'df_data_test_balanced' is not defined"
     ]
    }
   ],
   "source": [
    "print(df_data_test_balanced.shape)"
   ]
  },
  {
   "cell_type": "code",
   "execution_count": 48,
   "metadata": {},
   "outputs": [
    {
     "name": "stdout",
     "output_type": "stream",
     "text": [
      "snippet    Of 171 texts recommended for elementary children in Appendix B of the CCSS, there are only 18 by authors of color, and few books reflect the lives of children of color and the poor.\n",
      "label      1                                                                                                                                                                                    \n",
      "Name: 26785, dtype: object\n"
     ]
    }
   ],
   "source": [
    "print(df_data_train_balanced.iloc[26785])"
   ]
  },
  {
   "cell_type": "code",
   "execution_count": 5,
   "metadata": {},
   "outputs": [],
   "source": [
    "# Preparing the training and testing datasets without balancng\n",
    "X_train = df_data_train['snippet']\n",
    "y_train = df_data_train['label']\n",
    "X_test = df_data_test['snippet']\n",
    "y_test = df_data_test['label']\n"
   ]
  },
  {
   "cell_type": "code",
   "execution_count": null,
   "metadata": {},
   "outputs": [],
   "source": [
    "# Preparing the training and testing datasets with balancing\n",
    "X_train = df_data_train_balanced['snippet']\n",
    "y_train = df_data_train_balanced['label']\n",
    "X_test = df_data_test_balanced['snippet']\n",
    "y_test = df_data_test_balanced['label']"
   ]
  },
  {
   "cell_type": "code",
   "execution_count": 131,
   "metadata": {},
   "outputs": [
    {
     "name": "stdout",
     "output_type": "stream",
     "text": [
      "Total words:  968199\n"
     ]
    }
   ],
   "source": [
    "# count the number of words in X_train\n",
    "\n",
    "total_words_train = X_train.apply(lambda x: len(str(x).split())).sum()\n",
    "print(\"Total words: \", total_words_train)"
   ]
  },
  {
   "cell_type": "code",
   "execution_count": 6,
   "metadata": {},
   "outputs": [],
   "source": [
    "### SVM / SGD Classifier ###\n",
    "\n",
    "pipeline_svm_sgd = Pipeline([\n",
    "    ('tfidf', TfidfVectorizer(min_df=5)),\n",
    "    ('sgd', SGDClassifier(loss='hinge', penalty='l2', max_iter=1000, tol=1e-3))\n",
    "])\n"
   ]
  },
  {
   "cell_type": "code",
   "execution_count": 18,
   "metadata": {},
   "outputs": [],
   "source": [
    "from sklearn.svm import SVC\n",
    "from sklearn.pipeline import Pipeline\n",
    "from sklearn.feature_extraction.text import TfidfVectorizer\n",
    "\n",
    "### SVM Classifier ###\n",
    "\n",
    "pipeline = Pipeline([\n",
    "    ('tfidf', TfidfVectorizer(min_df=5)),\n",
    "    ('svc', SVC(kernel='linear'))  # Linear kernel is equivalent to a linear SVM\n",
    "])\n"
   ]
  },
  {
   "cell_type": "code",
   "execution_count": 7,
   "metadata": {},
   "outputs": [
    {
     "name": "stdout",
     "output_type": "stream",
     "text": [
      "              precision    recall  f1-score   support\n",
      "\n",
      "           0       0.98      1.00      0.99    376911\n",
      "           1       1.00      0.05      0.10      6699\n",
      "\n",
      "    accuracy                           0.98    383610\n",
      "   macro avg       0.99      0.53      0.55    383610\n",
      "weighted avg       0.98      0.98      0.98    383610\n",
      "\n"
     ]
    }
   ],
   "source": [
    "### Train and run the Classifier ###\n",
    "\n",
    "# Train the model using the balanced training dataset\n",
    "pipeline_svm_sgd.fit(X_train, np.array(y_train, dtype=int))\n",
    "\n",
    "# Evaluate the model on the balanced testing dataset\n",
    "y_pred = pipeline_svm_sgd.predict(X_test)\n",
    "\n",
    "# Print the classification report\n",
    "print(classification_report(np.array(y_test, dtype=int), y_pred))"
   ]
  },
  {
   "cell_type": "code",
   "execution_count": 19,
   "metadata": {},
   "outputs": [],
   "source": [
    "### Train and run the Classifier ###\n",
    "\n",
    "# Train the model using the balanced training dataset\n",
    "pipeline.fit(X_train, np.array(y_train, dtype=int))\n",
    "\n",
    "# Evaluate the model on the balanced testing dataset\n",
    "y_pred = pipeline.predict(X_test)\n",
    "\n",
    "# Print the classification report\n",
    "print(classification_report(np.array(y_test, dtype=int), y_pred))\n"
   ]
  },
  {
   "cell_type": "code",
   "execution_count": 34,
   "metadata": {},
   "outputs": [],
   "source": [
    "from scipy import sparse as sp\n",
    "import seaborn as sns\n",
    "import matplotlib.pyplot as plt\n",
    "import pandas as pd\n",
    "\n",
    "\n",
    "def plot_top_features(pipeline, class_labels, top_n=10):\n",
    "    # Get the classifier and vectorizer from the pipeline\n",
    "    classifier = pipeline.named_steps['svc'] # sgd or svc\n",
    "    vectorizer = pipeline.named_steps['tfidf']\n",
    "\n",
    "    # Get feature names from the vectorizer\n",
    "    feature_names = vectorizer.get_feature_names_out()\n",
    "\n",
    "    # Get the coefficients of the classifier\n",
    "    coefs = classifier.coef_\n",
    "    if sp.issparse(coefs):\n",
    "        coefs = coefs.toarray()\n",
    "        \n",
    "    coefs_with_fns = sorted(zip(coefs[0], feature_names))\n",
    "    \n",
    "    # Get top features for each class\n",
    "    top_class1 = coefs_with_fns[:top_n]\n",
    "    top_class2 = coefs_with_fns[-top_n:]\n",
    "    \n",
    "    # For each class\n",
    "    for top_feats, label in zip([top_class1, top_class2], class_labels):\n",
    "        # Create a DataFrame with feature names and coefficients\n",
    "        df = pd.DataFrame(top_feats, columns=['coef', 'feature'])\n",
    "        df['coef'] = df['coef'].astype(float)  # Ensure 'coef' is float\n",
    "        df.sort_values(by='coef', inplace=True)\n",
    "        \n",
    "        # Plot the coefficients\n",
    "        plt.figure(figsize=(8, 6))\n",
    "        sns.barplot(x='coef', y='feature', data=df)\n",
    "        plt.title(f'Top {top_n} features for class {label}')\n",
    "        plt.show()\n",
    "\n",
    "\n"
   ]
  },
  {
   "cell_type": "code",
   "execution_count": 18,
   "metadata": {},
   "outputs": [
    {
     "name": "stdout",
     "output_type": "stream",
     "text": [
      "[0 1]\n",
      "[0 1]\n"
     ]
    }
   ],
   "source": [
    "import numpy as np\n",
    "\n",
    "# If y_train is a numpy array\n",
    "class_labels = np.unique(y_train)\n",
    "print(class_labels)\n",
    "\n",
    "# If y_train is a pandas Series\n",
    "class_labels = y_train.unique()\n",
    "print(class_labels)\n"
   ]
  },
  {
   "cell_type": "code",
   "execution_count": 36,
   "metadata": {},
   "outputs": [
    {
     "data": {
      "image/png": "[encoded data removed]",
      "text/plain": [
       "<Figure size 800x600 with 1 Axes>"
      ]
     },
     "metadata": {},
     "output_type": "display_data"
    },
    {
     "data": {
      "image/png": "[encoded data removed]",
      "text/plain": [
       "<Figure size 800x600 with 1 Axes>"
      ]
     },
     "metadata": {},
     "output_type": "display_data"
    }
   ],
   "source": [
    "# Now call the feature visualization function\n",
    "plot_top_features(pipeline, class_labels=class_labels, top_n=40)"
   ]
  },
  {
   "cell_type": "code",
   "execution_count": 31,
   "metadata": {},
   "outputs": [
    {
     "data": {
      "image/png": "[encoded data removed]",
      "text/plain": [
       "<Figure size 800x600 with 1 Axes>"
      ]
     },
     "metadata": {},
     "output_type": "display_data"
    },
    {
     "data": {
      "image/png": "[encoded data removed]",
      "text/plain": [
       "<Figure size 800x600 with 1 Axes>"
      ]
     },
     "metadata": {},
     "output_type": "display_data"
    }
   ],
   "source": [
    "# Now call the feature visualization function\n",
    "plot_top_features(pipeline_svm_sgd, class_labels=class_labels, top_n=40)"
   ]
  },
  {
   "attachments": {},
   "cell_type": "markdown",
   "metadata": {},
   "source": [
    "### Occurance Analysis"
   ]
  },
  {
   "cell_type": "code",
   "execution_count": 37,
   "metadata": {},
   "outputs": [
    {
     "name": "stdout",
     "output_type": "stream",
     "text": [
      "The word ccss appears 0 times in the training data and 0 times in the testing data\n",
      "The word ofthe appears 21 times in the training data and 4 times in the testing data\n",
      "The word rpal appears 0 times in the training data and 0 times in the testing data\n",
      "The word hgc appears 6 times in the training data and 0 times in the testing data\n",
      "The word commamox appears 0 times in the training data and 0 times in the testing data\n",
      "The word derek appears 0 times in the training data and 0 times in the testing data\n",
      "The word 89 appears 43 times in the training data and 9 times in the testing data\n",
      "The word 54 appears 72 times in the training data and 11 times in the testing data\n",
      "The word classification appears 58 times in the training data and 11 times in the testing data\n",
      "The word dmn appears 0 times in the training data and 0 times in the testing data\n",
      "The word sept appears 0 times in the training data and 0 times in the testing data\n"
     ]
    }
   ],
   "source": [
    "for word in ['ccss', 'ofthe', 'rpal', 'hgc', 'commamox', 'derek', '89', '54', 'classification', 'dmn', 'sept']:\n",
    "    count_train = sum(X_train.str.contains(r'\\b' + word + r'\\b'))\n",
    "    count_test = sum(X_test.str.contains(r'\\b' + word + r'\\b'))\n",
    "    print(f\"The word {word} appears {count_train} times in the training data and {count_test} times in the testing data\")\n"
   ]
  },
  {
   "attachments": {},
   "cell_type": "markdown",
   "metadata": {},
   "source": [
    "### Label Analysis"
   ]
  },
  {
   "cell_type": "code",
   "execution_count": 38,
   "metadata": {},
   "outputs": [
    {
     "name": "stdout",
     "output_type": "stream",
     "text": [
      "For the feature ccss:\n",
      "In the training data:\n",
      "Series([], Name: label, dtype: int64)\n",
      "In the testing data:\n",
      "Series([], Name: label, dtype: int64)\n",
      "For the feature ofthe:\n",
      "In the training data:\n",
      "1    20\n",
      "0     1\n",
      "Name: label, dtype: int64\n",
      "In the testing data:\n",
      "1    4\n",
      "Name: label, dtype: int64\n",
      "For the feature rpal:\n",
      "In the training data:\n",
      "Series([], Name: label, dtype: int64)\n",
      "In the testing data:\n",
      "Series([], Name: label, dtype: int64)\n",
      "For the feature hgc:\n",
      "In the training data:\n",
      "1    6\n",
      "Name: label, dtype: int64\n",
      "In the testing data:\n",
      "Series([], Name: label, dtype: int64)\n",
      "For the feature commamox:\n",
      "In the training data:\n",
      "Series([], Name: label, dtype: int64)\n",
      "In the testing data:\n",
      "Series([], Name: label, dtype: int64)\n",
      "For the feature derek:\n",
      "In the training data:\n",
      "Series([], Name: label, dtype: int64)\n",
      "In the testing data:\n",
      "Series([], Name: label, dtype: int64)\n",
      "For the feature 89:\n",
      "In the training data:\n",
      "0    39\n",
      "1     4\n",
      "Name: label, dtype: int64\n",
      "In the testing data:\n",
      "0    7\n",
      "1    2\n",
      "Name: label, dtype: int64\n",
      "For the feature 54:\n",
      "In the training data:\n",
      "0    60\n",
      "1    12\n",
      "Name: label, dtype: int64\n",
      "In the testing data:\n",
      "0    9\n",
      "1    2\n",
      "Name: label, dtype: int64\n",
      "For the feature classification:\n",
      "In the training data:\n",
      "1    32\n",
      "0    26\n",
      "Name: label, dtype: int64\n",
      "In the testing data:\n",
      "1    7\n",
      "0    4\n",
      "Name: label, dtype: int64\n",
      "For the feature dmn:\n",
      "In the training data:\n",
      "Series([], Name: label, dtype: int64)\n",
      "In the testing data:\n",
      "Series([], Name: label, dtype: int64)\n",
      "For the feature sept:\n",
      "In the training data:\n",
      "Series([], Name: label, dtype: int64)\n",
      "In the testing data:\n",
      "Series([], Name: label, dtype: int64)\n"
     ]
    }
   ],
   "source": [
    "for word in ['ccss', 'ofthe', 'rpal', 'hgc', 'commamox', 'derek', '89', '54', 'classification', 'dmn', 'sept']:\n",
    "    print(f\"For the feature {word}:\")\n",
    "    print(\"In the training data:\")\n",
    "    print(y_train[X_train.str.contains(r'\\b' + word + r'\\b')].value_counts())\n",
    "    print(\"In the testing data:\")\n",
    "    print(y_test[X_test.str.contains(r'\\b' + word + r'\\b')].value_counts())\n"
   ]
  },
  {
   "attachments": {},
   "cell_type": "markdown",
   "metadata": {},
   "source": [
    "### Context Analysis"
   ]
  },
  {
   "cell_type": "code",
   "execution_count": 115,
   "metadata": {},
   "outputs": [
    {
     "name": "stdout",
     "output_type": "stream",
     "text": [
      "Examples of snippets with the feature ofthe:\n",
      "22528    Giv en two TQFTsT,T′∈\\n|2TQFTK|, thenthe componentsof the naturaltransformation θmust be — bythe\\ndeﬁnitionabove—ofthe form\\nθn:V⊗V⊗...⊗V/bracehtipupleft/bracehtipdownright/bracehtipdownleft/bracehtipupright\\nntimes→W⊗W⊗...⊗W/bracehtipupleft/bracehtipdownright/bracehtipdownleft/bracehtipupright\\nntimes.                                                                                     \n",
      "32533    Panel A shows that editor*female fixed effects explain a substantive portion ofthe variation in changes in uncertainty, and that collectively, the fixed effects are statisticallydifferent from zero.                                                                                                                                                                                               \n",
      "32568     In all cases, the output ofthis stage is a set of four 3D points representing the center ofthe holes in the target, in local coordinates                                                                                                                                                                                                                                                            \n",
      "34487    The predicted speech signal is re-constructed by using the estimated magnitude and the phase ofthe noisy mixture.                                                                                                                                                                                                                                                                                    \n",
      "34900    One ofthe most promising methods for multitask and transfer learning is founded on the belief that multiple, differing tasks aredistinguished by a small number of task-specific parameters, but often share a common low-dimensional representation                                                                                                                                                 \n",
      "35097    De Finetti, in the 1930s, was one of the earliest and most eloquent advocates ofthe subjective view of probability, common today among statisticians and inherent inQBism, but anathema to most physicists                                                                                                                                                                                           \n",
      "35182    Based on the logpower spectrum of the short-time Fourier transform (STFT) ofthe noisy time signal, this model predicts a gain or mask whichis applied to a noisy STFT.                                                                                                                                                                                                                               \n",
      "35993    The shorter the switching time ofthe task pod, the higher the resource usage.                                                                                                                                                                                                                                                                                                                        \n",
      "36067    The non-zero part of the eigenspectrum ofthe Gram and covariance matrix are equivalent, and the eigenvectors of C and G can becomputed in terms of each other.                                                                                                                                                                                                                                       \n",
      "39235    However,especially for larger models, the feedforward andprojection layers actually make up the majority ofthe computational burden and can render process-ing long inputs intractable                                                                                                                                                                                                               \n",
      "44382    s dependent upon things outside ofthe oracle implementer’s control                                                                                                                                                                                                                                                                                                                                   \n",
      "45553    The intended outcome is an estimate ofthe 3D location of the centers in sensor coordinates.                                                                                                                                                                                                                                                                                                          \n",
      "47314    less than half ofthe coordinates have a common word in all their descriptions,and two pairs of coordinates have the same most commonword.                                                                                                                                                                                                                                                            \n",
      "47781    Yet the precise story and chronology of the various steps leadingBohm to the redaction of his famous articles in 1952 is not exactly known since part ofthe correspondence between David Bohm, Louis de Broglie and also Wolfgang Pauli hasbeen lost probably during the exile of Bohm to S ̃ao Paulo in October 1951 due to hispersecution by the House Un-American Activities Committee (HUAC) [67]\n",
      "48113    Differentapproaches are tackling phase estimation such as estimating themasks for the real and imaginary part of the STFT instead ofthe magnitude [16] or calculating an iterative phase reconstruc-tion  [17].                                                                                                                                                                                      \n",
      "48590    Weight  symmetry  between  the  forward  and  backward  passes  and  delayed  error  generation  are  two  ofthe  most  biologically  unrealistic  aspects  of  backpropagation.                                                                                                                                                                                                                     \n",
      "49461    In this work we are agnostic to the form ofthe encoding model, and simply assume an abstractsource representationx.                                                                                                                                                                                                                                                                                  \n",
      "49925    We again make use ofthe wide network assumption                                                                                                                                                                                                                                                                                                                                                      \n",
      "50346    Yet, RKHS is a very strong assumption which requires the smoothness ofthe target function to increase withd[Bach, 2017] (see more on this point below), which may not berealistic in large dimensions.                                                                                                                                                                                               \n",
      "51621    4The cor-responding metrics are the prediction accuracy ofthe  root  node  and  the  Spearman  correlation  be-tween the predicted and true tree depths.                                                                                                                                                                                                                                             \n",
      "51643    We employ a residual connection [11] around each ofthe two sub-layers, followed by layer normalization [1].                                                                                                                                                                                                                                                                                          \n",
      "Name: snippet, dtype: object\n"
     ]
    }
   ],
   "source": [
    "testing_pdf_snippets = []\n",
    "\n",
    "for word in ['ofthe']:\n",
    "    print(f\"Examples of snippets with the feature {word}:\")\n",
    "    testing_pdf_snippets.append(X_test[X_test.str.contains(r'\\b' + word + r'\\b')])\n",
    "    print(X_train[X_train.str.contains(r'\\b' + word + r'\\b')][:25])"
   ]
  },
  {
   "cell_type": "code",
   "execution_count": 119,
   "metadata": {},
   "outputs": [],
   "source": [
    "import re\n",
    "\n",
    "def clean_data(text):\n",
    "    # replace multiple spaces or newlines with a single space\n",
    "    text = re.sub('\\s+', ' ', text)\n",
    "\n",
    "    # remove non-alphanumeric characters, preserving some punctuations and spaces\n",
    "    text = re.sub('[^a-zA-Z0-9\\s,.]', '', text)\n",
    "    \n",
    "    # correct words that have been incorrectly merged\n",
    "    # a space is added between a lowercase letter immediately followed by an uppercase letter\n",
    "    text = re.sub(r'(\\b\\w+)([A-Z])', r'\\1 \\2', text)\n",
    "    \n",
    "    # replacing \"ofthe\" kind of merges with \"of the\"\n",
    "    text = re.sub(r'ofthe', 'of the', text)\n",
    "    \n",
    "    # correct words that have been incorrectly split\n",
    "    text = re.sub('Giv en', 'Given', text)\n",
    "    \n",
    "    return text\n"
   ]
  },
  {
   "cell_type": "code",
   "execution_count": 124,
   "metadata": {},
   "outputs": [
    {
     "data": {
      "text/plain": [
       "[8518     Secondly,to  ensure  that  we  can  sample  from  any  point  ofthe latent space and still generate valid and diverseoutputs,  the  posteriorq(zjx)is  regularized  withits KL divergence from a prior distributionp(z)\n",
       " 8987     For  the  purpose  of  training  a  hatespeech detection system, the reliability ofthe annotations is crucial, but there is nouniversally  agreed-upon  definition.                                                    \n",
       " 10568    The properties ofthe latent space                                                                                                                                                                                      \n",
       " 11410    Environments are keptonly if they are not too hard for all of the agents in the population, or are not too easy for any ofthe agents.                                                                                  \n",
       " Name: snippet, dtype: object]"
      ]
     },
     "execution_count": 124,
     "metadata": {},
     "output_type": "execute_result"
    }
   ],
   "source": [
    "testing_pdf_snippets"
   ]
  },
  {
   "cell_type": "code",
   "execution_count": 125,
   "metadata": {},
   "outputs": [],
   "source": [
    "testing_raw = ['Giv en two TQFTsT,T′∈\\n|2TQFTK|, thenthe componentsof the naturaltransformation θmust be — bythe\\ndeﬁnitionabove—ofthe form\\nθn:V⊗V⊗.', 'less than half ofthe coordinates have a common word in all their descriptions,and two pairs of coordinates have the same most commonword.' ]"
   ]
  },
  {
   "cell_type": "code",
   "execution_count": 126,
   "metadata": {},
   "outputs": [],
   "source": [
    "# clean every entry \n",
    "\n",
    "\n",
    "cleaned_testing = [clean_data(entry) for entry in testing_raw]"
   ]
  },
  {
   "cell_type": "code",
   "execution_count": 128,
   "metadata": {},
   "outputs": [
    {
     "name": "stderr",
     "output_type": "stream",
     "text": [
      "[nltk_data] Downloading package words to\n",
      "[nltk_data]     /Users/janfrommann/nltk_data...\n",
      "[nltk_data]   Unzipping corpora/words.zip.\n"
     ]
    }
   ],
   "source": [
    "import nltk\n",
    "from nltk.corpus import words\n",
    "\n",
    "# Download the words corpus if it's not already downloaded\n",
    "nltk.download('words')\n",
    "\n",
    "word_list = set(words.words())  # A list of common English words\n",
    "\n",
    "def split_words(text):\n",
    "    new_text = \"\"\n",
    "    for word in text.split():\n",
    "        # If the word is in the dictionary, no need to split it\n",
    "        if word in word_list:\n",
    "            new_text += word + \" \"\n",
    "        else:\n",
    "            # Try to split the word\n",
    "            for i in range(1, len(word)):\n",
    "                if word[:i] in word_list and word[i:] in word_list:\n",
    "                    new_text += word[:i] + \" \" + word[i:] + \" \"\n",
    "                    break\n",
    "            else:\n",
    "                new_text += word + \" \"\n",
    "    return new_text\n",
    "\n",
    "# Apply the function to your data\n",
    "cleaned_data = [split_words(text) for text in cleaned_testing]\n"
   ]
  },
  {
   "cell_type": "code",
   "execution_count": 130,
   "metadata": {},
   "outputs": [
    {
     "data": {
      "text/plain": [
       "['Given two TQFTs T,T 2TQFT K, thenthe componentsof the naturaltransformation must be  bythe denitionaboveof the form nV V.',\n",
       " 'less than half of the coordinates have a common word in all their descriptions,and two pairs of coordinates have the same most commonword.']"
      ]
     },
     "execution_count": 130,
     "metadata": {},
     "output_type": "execute_result"
    }
   ],
   "source": [
    "cleaned_testing"
   ]
  },
  {
   "cell_type": "code",
   "execution_count": 129,
   "metadata": {},
   "outputs": [
    {
     "data": {
      "text/plain": [
       "['Given two TQFTs T,T 2TQFT K, then the componentsof the natural transformation must be by the denitionaboveof the form n V V. ',\n",
       " 'less than half of the coordinates have a common word in all their descriptions,and two pair s of coordinates have the same most commonword. ']"
      ]
     },
     "execution_count": 129,
     "metadata": {},
     "output_type": "execute_result"
    }
   ],
   "source": [
    "cleaned_data"
   ]
  },
  {
   "cell_type": "code",
   "execution_count": 39,
   "metadata": {},
   "outputs": [
    {
     "name": "stdout",
     "output_type": "stream",
     "text": [
      "Examples of snippets with the feature ccss:\n",
      "Series([], Name: snippet, dtype: object)\n",
      "Examples of snippets with the feature ofthe:\n",
      "22528    Giv en two TQFTsT,T′∈\\n|2TQFTK|, thenthe compo...\n",
      "32533    Panel A shows that editor*female fixed effects...\n",
      "32568     In all cases, the output ofthis stage is a se...\n",
      "34487    The predicted speech signal is re-constructed ...\n",
      "34900    One ofthe most promising methods for multitask...\n",
      "Name: snippet, dtype: object\n",
      "Examples of snippets with the feature rpal:\n",
      "Series([], Name: snippet, dtype: object)\n",
      "Examples of snippets with the feature hgc:\n",
      "33804    (2022) and another containing several novel hg...\n",
      "35064    We mapped the presence/absence of merB and hgc...\n",
      "35387    (2022) and another containing several novel hg...\n",
      "40251    (2022) and another containing several novel hg...\n",
      "42674    We mapped the presence/absence of merB and hgc...\n",
      "Name: snippet, dtype: object\n",
      "Examples of snippets with the feature commamox:\n",
      "Series([], Name: snippet, dtype: object)\n",
      "Examples of snippets with the feature derek:\n",
      "Series([], Name: snippet, dtype: object)\n",
      "Examples of snippets with the feature 89:\n",
      "10      Introduction\\nThe methods of Pseudo Labels or ...\n",
      "1480    IEEE Signal Processing Magazine , 35:72-89.\\nh...\n",
      "1821    2018, ApJ, 857, 121\\nZhuang, M.-Y., & Ho, L. C...\n",
      "4602    \"[89] The Dallas Journal ran a cartoon on its ...\n",
      "4614    [89][92]\\nSocial housing support\\nBritish or I...\n",
      "Name: snippet, dtype: object\n",
      "Examples of snippets with the feature 54:\n",
      "129     [53][54][55]\\nSubtypes\\nMany of the subtypes o...\n",
      "141     Substantial evidence indicates that pericyte l...\n",
      "633     Classes Length* Year\\nGRID[119]Lab 34 33,000 2...\n",
      "705     [54]\\nCross-site request forgery (CSRF/XSRF) i...\n",
      "2661    Backbone Snippet Length Frame-set GCN Layers P...\n",
      "Name: snippet, dtype: object\n",
      "Examples of snippets with the feature classification:\n",
      "1643    The recordings were performed during an additi...\n",
      "1972    “phenomenology”) form the key for classificati...\n",
      "2486    [133][134][135]\\nThe Baltimore classification ...\n",
      "3124    {\"id\": \"1\", \"dep\": [ -1], \"task\": \"image -clas...\n",
      "3431    [7]\\nAn important argument for considering con...\n",
      "Name: snippet, dtype: object\n",
      "Examples of snippets with the feature dmn:\n",
      "Series([], Name: snippet, dtype: object)\n",
      "Examples of snippets with the feature sept:\n",
      "Series([], Name: snippet, dtype: object)\n"
     ]
    }
   ],
   "source": [
    "for word in ['ccss', 'ofthe', 'rpal', 'hgc', 'commamox', 'derek', '89', '54', 'classification', 'dmn', 'sept']:\n",
    "    print(f\"Examples of snippets with the feature {word}:\")\n",
    "    print(X_train[X_train.str.contains(r'\\b' + word + r'\\b')][:5])\n"
   ]
  },
  {
   "cell_type": "code",
   "execution_count": 42,
   "metadata": {},
   "outputs": [
    {
     "name": "stderr",
     "output_type": "stream",
     "text": [
      "/var/folders/8j/522cg_sx50v8wj687685j9tr0000gn/T/ipykernel_18085/607723084.py:5: FutureWarning: The default value of regex will change from True to False in a future version.\n",
      "  X_train_cleaned = X_train_lower.str.replace('[^a-zA-Z0-9 ]', ' ')\n"
     ]
    },
    {
     "name": "stdout",
     "output_type": "stream",
     "text": [
      "The word ccss appears 26 times in the training data\n",
      "The word ofthe appears 21 times in the training data\n",
      "The word rpal appears 8 times in the training data\n",
      "The word hgc appears 6 times in the training data\n",
      "The word comammox appears 10 times in the training data\n",
      "The word derek appears 50 times in the training data\n",
      "The word 89 appears 43 times in the training data\n",
      "The word 54 appears 72 times in the training data\n",
      "The word classification appears 61 times in the training data\n",
      "The word dmn appears 8 times in the training data\n",
      "The word sept appears 13 times in the training data\n"
     ]
    }
   ],
   "source": [
    "# convert to lower case\n",
    "X_train_lower = X_train.str.lower()\n",
    "\n",
    "# removing special characters\n",
    "X_train_cleaned = X_train_lower.str.replace('[^a-zA-Z0-9 ]', ' ')\n",
    "\n",
    "for word in ['ccss', 'ofthe', 'rpal', 'hgc', 'comammox', 'derek', '89', '54', 'classification', 'dmn', 'sept']:\n",
    "    count_train = sum(X_train_cleaned.str.contains(r'\\b' + word.lower() + r'\\b'))\n",
    "    print(f\"The word {word} appears {count_train} times in the training data\")\n"
   ]
  },
  {
   "cell_type": "code",
   "execution_count": 47,
   "metadata": {},
   "outputs": [
    {
     "name": "stderr",
     "output_type": "stream",
     "text": [
      "/var/folders/8j/522cg_sx50v8wj687685j9tr0000gn/T/ipykernel_18085/2255216034.py:1: FutureWarning: Passing a negative integer is deprecated in version 1.0 and will not be supported in future version. Instead, use None to not limit the column width.\n",
      "  pd.set_option('display.max_colwidth', -1)\n"
     ]
    },
    {
     "name": "stdout",
     "output_type": "stream",
     "text": [
      "Examples of snippets with the feature ccss:\n",
      "26785    of 171 texts recommended for elementary children in appendix b of the ccss  there are only 18 by authors of color  and few books reflect the lives of children of color and the poor \n",
      "27849    of 171 texts recommended for elementary children in appendix b of the ccss  there are only 18 by authors of color  and few books reflect the lives of children of color and the poor \n",
      "27976    of 171 texts recommended for elementary children in appendix b of the ccss  there are only 18 by authors of color  and few books reflect the lives of children of color and the poor \n",
      "28343    when the common core state standards  ccss  were introduced in 2009 2010   the literacy needs of half the children in the united states were neglected                               \n",
      "30236    when the ccss were open for public comment in 2010  i  gangi  made that criticism on the ccss website                                                                                \n",
      "Name: snippet, dtype: object\n",
      "Examples of snippets with the feature ofthe:\n",
      "22528    giv en two tqftst t    2tqftk   thenthe componentsof the naturaltransformation  must be   bythe de nitionabove ofthe form  n v v     v bracehtipupleft bracehtipdownright bracehtipdownleft bracehtipupright ntimes w w     w bracehtipupleft bracehtipdownright bracehtipdownleft bracehtipupright ntimes \n",
      "32533    panel a shows that editor female fixed effects explain a substantive portion ofthe variation in changes in uncertainty  and that collectively  the fixed effects are statisticallydifferent from zero                                                                                                      \n",
      "32568     in all cases  the output ofthis stage is a set of four 3d points representing the center ofthe holes in the target  in local coordinates                                                                                                                                                                  \n",
      "34487    the predicted speech signal is re constructed by using the estimated magnitude and the phase ofthe noisy mixture                                                                                                                                                                                           \n",
      "34900    one ofthe most promising methods for multitask and transfer learning is founded on the belief that multiple  differing tasks aredistinguished by a small number of task specific parameters  but often share a common low dimensional representation                                                       \n",
      "Name: snippet, dtype: object\n",
      "Examples of snippets with the feature rpal:\n",
      "30735    incubation of purified rna with rnase or sialidase and subsequent rpal labeling results in total loss of all rpal signal after rnase but selective and complete loss of the high mw signal after sialidase treatment  figure 1e   consistent with this rpal based method labeling sialic acids in sialoglycornas \n",
      "35359    for example  while we noticed clear and significant loss of rpal signal after ngi 1 and kif treatment of hela cells  the effects were less than what we had previously seen only with ac4mannaz labeling                                                                                                         \n",
      "42554    extracting rna from ac4mannaz labeled hela cells with trizol and either performing copper free click1 or rpal  we found that rpal generates approximately 150x the amount of signal  figure 1c  lanes 1 3 vs 7 9                                                                                                 \n",
      "43287    while rpal improves sensitivity of apparent high molecular weight  mw  glycorna species  it also induces                                                                                                                                                                                                         \n",
      "43507    extracting rna from ac4mannaz labeled hela cells with trizol and either performing copper free click1 or rpal  we found that rpal generates approximately 150x the amount of signal  figure 1c  lanes 1 3 vs 7 9                                                                                                 \n",
      "Name: snippet, dtype: object\n",
      "Examples of snippets with the feature hgc:\n",
      "33804     2022  and another containing several novel hgc carriers published by lin et al \n",
      "35064    we mapped the presence absence of merb and hgc genes onto the tree of life      \n",
      "35387     2022  and another containing several novel hgc carriers published by lin et al \n",
      "40251     2022  and another containing several novel hgc carriers published by lin et al \n",
      "42674    we mapped the presence absence of merb and hgc genes onto the tree of life      \n",
      "Name: snippet, dtype: object\n",
      "Examples of snippets with the feature comammox:\n",
      "28551    to compare comammox and anammox ammonia oxidation rates with those reported in literature  abundance adjusted rates   mol n mg protein h  were calculated by dividing the average ammonia consumption rate  mg n g ts h  obtained from aerobic or anaerobic ammonia oxidation batch assays by the portion of total metagenomic reads mapping to comammox or anammox bacteria metagenome assembled genomes  see below  as their approximate contribution to total solids measured and then using the conversion factor 1 9 mg dry weight mg protein25 \n",
      "30562    comammox and nitrosomonas relative abundances were about 0 90   0 8 rpkm and 0 40   0 05 rpkm  respectively  figure 5c                                                                                                                                                                                                                                                                                                                                                                                                                               \n",
      "35546    thus  it is very likely that the low abundance of comammox bacteria and nitrosomonas affected the assembly and binning process  which did not allow for the reconstruction of these genomes even though they are still present in the system                                                                                                                                                                                                                                                                                                         \n",
      "37355     further  the genome coverage of previously assembled comammox  jammsm cmx 1  and nitrosomonas  jammsm aob 1  mags were 80 6   9 8 and 72 3   1 0   respectively                                                                                                                                                                                                                                                                                                                                                                                     \n",
      "39440    this differs from our prior work  where comammox and nitrosomonas relative abundances were 22   6 26 and 21 04   6 17 rpkm  respectively  figure 5b                                                                                                                                                                                                                                                                                                                                                                                                  \n",
      "Name: snippet, dtype: object\n",
      "Examples of snippets with the feature derek:\n",
      "19409     204  he was named the all star game mvp  205  making him the first reliever selected to an all star team to ever receive the award  as well as the first pitcher since pedro mart nez in 1999 and the second yankee ever after derek jeter in 2000                                                       \n",
      "26864     you got hacked   don remembered telling derek  once he reached him on the phone                                                                                                                                                                                                                          \n",
      "27737    his parents pulled him out of public school in west palm beach at the end of third grade  when they heard his black teacher say the word  ain t   by then  derek was one of only a few white students in a class of mostly hispanics and haitians  and his parents decided he would be better off at home \n",
      "27964    but  for the most part  derek avoided public spaces  and other students mostly stared or left him alone  even as their speculation about him continued on the forum                                                                                                                                       \n",
      "28084    derek chauvin                                                                                                                                                                                                                                                                                             \n",
      "Name: snippet, dtype: object\n",
      "Examples of snippets with the feature 89:\n",
      "10      introduction the methods of pseudo labels or self training   57 81  55 36  have been applied successfully to improve state of  the art models in many computer vision tasks such as image classi cation  e g     79 77    object detection  and semantic segmentation  e g     89 51   \n",
      "1480    ieee signal processing magazine   35 72 89  https   doi org 10 1109 msp 2018 2820224 papyan v   han x  donoho dl  2020                                                                                                                                                                 \n",
      "1821    2018  apj  857  121 zhuang  m  y     ho  l  c  2019  apj  882  89                                                                                                                                                                                                                      \n",
      "4602      89  the dallas journal ran a cartoon on its editorial page  showing an empty electric chair with a sign on it saying  reserved   adding the words  clyde and bonnie                                                                                                                  \n",
      "4614     89  92  social housing support british or irish citizens residing in the other state have the right to access social housing  including supported housing and homeless assistance  on the same basis as citizens of that state                                                        \n",
      "Name: snippet, dtype: object\n",
      "Examples of snippets with the feature 54:\n",
      "129      53  54  55  subtypes many of the subtypes of dementia are neurodegenerative  and protein misfolding is a cardinal feature of these                                                                                                                                                                                                                                                                                                                                                                                                                                                                                                                                                                                                                                                                  \n",
      "141     substantial evidence indicates that pericyte loss  or dysfunction  leads to microvascular instability  disrupting the barrier properties of the endothelium and to the formation of microaneurysms  microhemorrhages  acellular capillaries and capillary nonperfusion  54  55                                                                                                                                                                                                                                                                                                                                                                                                                                                                                                                       \n",
      "633     classes length  year grid 119 lab 34 33 000 2006 lombard grid 120 lab 54 54 000 2018 tcd timit 121 lab 62   2015 vid timit 122 lab 43   2009 ra vdess 123 lab 24   2018 sewa 124 lab 180   2017 speech ouluvs 125 lab 20 1000 2009 ouluvs2 126 lab 52 3640 2016 v oxceleb 127 wild 1 251 154 516 2017 v oxceleb2 128 wild 6 112 1 128 246 2018 lrw 129 wild  1000 500 000 2016 lrs 59 wild  1000 118 116 2017 lrs3 130 wild  1000 74 564 2017 a v a activespeaker 131 wild   90 341 2019 c4s 132 lab   4 5 2017 music enst drums 133 lab   3 75 2006 urmp 134 lab   1 3 2019 youtube 8m 135 wild 3862 350 000 2016 audioset 136 wild 632 4971 2016 real event kinetics 400 137 wild 400 850  2018 kinetics 600 138 wild 600 1400  2018 kinetics 700 139 wild 700 1806  2018 ered machine imagination \n",
      "705      54  cross site request forgery  csrf xsrf  is almost the opposite of xss  in that rather than exploiting the user s trust in a site  the attacker  and his malicious page  exploits the site s trust in the client software  submitting requests that the site believes represent conscious and intentional actions of authenticated users                                                                                                                                                                                                                                                                                                                                                                                                                                                          \n",
      "2661    backbone snippet length frame set gcn layers prediction accuracy r3d 18 16 4 1 83 0 r3d 18 16 4 2 81 1 r3d 18 16 4 3 54 6 table iii  snippet order prediction accuracy     with dif  ferent number of gcn layers                                                                                                                                                                                                                                                                                                                                                                                                                                                                                                                                                                                     \n",
      "Name: snippet, dtype: object\n",
      "Examples of snippets with the feature classification:\n",
      "1643    the recordings were performed during an additional 10 days of testing in the spatial alternation task  supplementary figure 1b  and were from putative principal cells and putative interneurons  see supplementary figure 2c for classification  and also included the local field potential  lfp  \n",
      "1972     phenomenology   form the key for classification of gait disorders  5                                                                                                                                                                                                                               \n",
      "2486     133  134  135  the baltimore classification of viruses is based on the mechanism of mrna production                                                                                                                                                                                                \n",
      "3124      id    1    dep      1    task    image  classification     args      image     examples jpg       3                                                                                                                                                                                               \n",
      "3431     7  an important argument for considering concepts the basis of classification is that concepts are subject to change and that they changes when scientific revolutions occur                                                                                                                       \n",
      "Name: snippet, dtype: object\n",
      "Examples of snippets with the feature dmn:\n",
      "26677    the dmn links parts of the cerebral cortex to deeper  and older  structures involved in memory and emotions                                                                                                                                                                                  \n",
      "29294    psychedelics decrease the brain activity in the default mode network  dmn                                                                                                                                                                                                                    \n",
      "29496    the decrease of activity in the dmn  and its subsequent effects  can be achieved in a number of ways  meditations and psychedelics being two of them                                                                                                                                         \n",
      "30430    the dmn not only works as a top down control system  but additionally regulates what is let into consciousness                                                                                                                                                                               \n",
      "40225    psychedelics erase existing connections   shaking the snow globe    decreasing the activity in the default mode network  dmn  that works as mediator connecting different parts of the brain and is associated with our sense of self  leading to what the scientist call  ego dissolution   \n",
      "Name: snippet, dtype: object\n",
      "Examples of snippets with the feature sept:\n",
      "27896    republican leaders in both the house and senate have countered by pointing out that flint aid is likely to pass later this year as part of a separate water projects bill  which cleared the senate on sept  15 on a 95 3 vote \n",
      "31360    perhaps it was the monica lewinsky scandal  the 2000 florida recount  sept  11  2001  or hurricane katrina                                                                                                                     \n",
      "36776    cartoonist lynda barry  one of scores of writers at the national book festival on sept  21 22  certainly thinks so                                                                                                             \n",
      "37613    cartoonist lynda barry  one of scores of writers at the national book festival on sept  21 22  certainly thinks so                                                                                                             \n",
      "38168    cartoonist lynda barry  one of scores of writers at the national book festival on sept  21 22  certainly thinks so                                                                                                             \n",
      "Name: snippet, dtype: object\n"
     ]
    }
   ],
   "source": [
    "pd.set_option('display.max_colwidth', -1)\n",
    "\n",
    "for word in ['ccss', 'ofthe', 'rpal', 'hgc', 'comammox', 'derek', '89', '54', 'classification', 'dmn', 'sept']:\n",
    "    print(f\"Examples of snippets with the feature {word}:\")\n",
    "    print(X_train_cleaned[X_train_cleaned.str.contains(r'\\b' + word + r'\\b')][:5])\n"
   ]
  },
  {
   "cell_type": "code",
   "execution_count": 51,
   "metadata": {},
   "outputs": [],
   "source": [
    "# open the json filed df_all_combined_processed2.json', orient='index'\n",
    "\n",
    "df_combined_p_stage = pd.read_json('df_all_combined_processed2.json', orient='index')\n"
   ]
  },
  {
   "cell_type": "code",
   "execution_count": 58,
   "metadata": {},
   "outputs": [
    {
     "name": "stdout",
     "output_type": "stream",
     "text": [
      "arXiv:1409.2752v2  [cs.LG]  7 Jun 2015Winner-Take-AllAutoencoders\n",
      "AlirezaMakhzani,Brendan Frey\n",
      "UniversityofToronto\n",
      "makhzani, frey@psi.toronto.edu\n",
      "Abstract\n",
      "Inthispaper,weproposeawinner-take-allmethodforlearn inghierarchicalsparse\n",
      "representations in an unsupervised fashion. We ﬁrst introd uce fully-connected\n",
      "winner-take-allautoencoderswhich use mini-batchstatis tics to directly enforcea\n",
      "lifetimesparsityintheactivationsofthehiddenunits. We thenproposetheconvo-\n",
      "lutionalwinner-take-allautoencoderwhichcombinestheb eneﬁtsofconvolutional\n",
      "architecturesand autoencodersfor learningshift-invari antsparse representations.\n",
      "We describe a way to train convolutional autoencoders layer by layer, where in\n",
      "additiontolifetimesparsity,aspatialsparsitywithinea chfeaturemapisachieved\n",
      "using winner-take-all activation functions. We will show t hat winner-take-all au-\n",
      "toencoders can be used to to learn deep sparse representatio ns from the MNIST,\n",
      "CIFAR-10, ImageNet, Street View House Numbers and Toronto F ace datasets,\n",
      "andachievecompetitiveclassiﬁcationperformance.\n",
      "1 Introduction\n",
      "Recently, supervisedlearning hasbeen developedand used s uccessfully to producerepresentations\n",
      "that have enabled leaps forward in classiﬁcation accuracy f or several tasks [1]. However, the ques-\n",
      "tion that has remained unanswered is whether it is possible t o learn as “powerful” representations\n",
      "fromunlabeleddatawithoutanysupervision. Itisstillwid elyrecognizedthatunsupervisedlearning\n",
      "algorithmsthat canextractusefulfeaturesare neededfors olvingproblemswith limitedlabel infor-\n",
      "mation. In this work, we exploit sparsity as a generic prior o n the representationsfor unsupervised\n",
      "feature learning. We ﬁrst introduce the fully-connected wi nner-take-all autoencoders that learn to\n",
      "do sparse codingby directly enforcinga winner-take-all lifetimesparsity constraint. We then intro-\n",
      "duceconvolutionalwinner-take-allautoencodersthatlea rntodoshift-invariant/convolutionalsparse\n",
      "codingbydirectlyenforcingwinner-take-all spatialandlifetimesparsityconstraints.\n",
      "2 Fully-Connected Winner-Take-All Autoencoders\n",
      "Trainingsparseautoencodershasbeenwellstudiedintheli terature. Forexample,in[2],a“lifetime\n",
      "sparsity” penaltyfunctionproportionalto the KL divergen cebetweenthe hiddenunitmarginals( ˆρ)\n",
      "and the target sparsity probability ( ρ) is added to the cost function: λKL(ρ/bardblˆρ). A major drawback\n",
      "of this approach is that it only works for certain target spar sities and is often very difﬁcult to ﬁnd\n",
      "the right λparameter that results in a properly trained sparse autoenc oder. Also KL divergence\n",
      "was originally proposed for sigmoidal autoencoders, and it is not clear how it can be applied to\n",
      "ReLU autoencoderswhere ˆρcould be larger than one (in which case the KL divergencecan n ot be\n",
      "evaluated). Inthispaper,weproposeFully-ConnectedWinn er-Take-All(FC-WTA)autoencodersto\n",
      "address these concerns. FC-WTA autoencoderscan aim for any target sparsity rate, train very fast\n",
      "(marginally slower than a standard autoencoder), have no hy per-parameter to be tuned (except the\n",
      "targetsparsityrate)andefﬁcientlytrainall thedictiona ryatomsevenwhenveryaggressivesparsity\n",
      "rates(e.g.,1%)areenforced.\n",
      "1\n",
      "(a) MNIST,10%\n",
      " (b) MNIST,5%\n",
      " (c)MNIST, 2%\n",
      "Figure1: Learntdictionary(decoder)ofFC-WTA with1000hi ddenunitstrainedonMNIST\n",
      "Sparse coding algorithms typically comprise two steps: a hi ghly non-linear sparse encoding oper-\n",
      "ation that ﬁnds the “right” atoms in the dictionary, and a lin ear decoding stage that reconstructs\n",
      "the input with the selected atoms and update the dictionary. The FC-WTA autoencoder is a non-\n",
      "symmetric autoencoder where the encoding stage is typicall y a stack of several ReLU layers and\n",
      "the decoder is just a linear layer. In the feedforward phase, after computing the hidden codes of\n",
      "the last layer of the encoder, rather than reconstructing th e input from all of the hidden units, for\n",
      "each hidden unit, we impose a lifetime sparsity by keeping th ekpercent largest activation of that\n",
      "hidden unit across the mini-batch samples and setting the re st of activations of that hidden unit to\n",
      "zero. Inthebackpropagationphase,weonlybackpropagatet heerrorthroughthe kpercentnon-zero\n",
      "activations. In other words, we are using the min-batch stat istics to approximate the statistics of\n",
      "the activation of a particular hidden unit across all the sam ples, and ﬁnding a hard threshold value\n",
      "for which we can achieve k%lifetime sparsity rate. In this setting, the highly nonline arencoder of\n",
      "the network (ReLUs followed by top-k sparsity) learns to do s parse encoding, and the decoder of\n",
      "the network reconstructs the input linearly. At test time, w e turn off the sparsity constraint and the\n",
      "output of the deep ReLU network will be the ﬁnal representati on of the input. In order to train a\n",
      "stackedFC-WTAautoencoder,weﬁxtheweightsandtrainanot herFC-WTAautoencoderontopof\n",
      "theﬁxedrepresentationofthepreviousnetwork.\n",
      "The learnt dictionary of a FC-WTA autoencoder trained on MNI ST, CIFAR-10 and Toronto Face\n",
      "datasets are visualized in Fig. 1 and Fig 2. For large sparsit y levels, the algorithm tends to learn\n",
      "very local features that are too primitive to be used for clas siﬁcation (Fig. 1a). As we decrease\n",
      "the sparsity level, the network learnsmore useful features (longerdigit strokes) and achievesbetter\n",
      "classiﬁcation(Fig. 1b). Nevertheless,forcingtoomuchsp arsityresultsinfeaturesthataretooglobal\n",
      "anddonotfactortheinputintoparts(Fig. 1c). Section4.1r eportstheclassiﬁcationresults.\n",
      "Winner-Take-All RBMs. Besides autoencoders, WTA activations can also be used in Re stricted\n",
      "BoltzmannMachines(RBM)tolearnsparserepresentations. Supposehandvdenotethehiddenand\n",
      "visibleunitsofRBMs. FortrainingWTA-RBMs,inthepositiv ephaseofthecontrastivedivergence,\n",
      "instead of sampling from P(hi|v), we ﬁrst keep the k%largestP(hi|v)for eachhiacross the\n",
      "mini-batch dimension and set the rest of P(hi|v)values to zero, and then sample hiaccording to\n",
      "the sparsiﬁed P(hi|v). Filters of a WTA-RBM trained on MNIST are visualized in Fig. 3. We\n",
      "can see WTA-RBMs learn longer digit strokes on MNIST, which a s will be shown in Section 4.1,\n",
      "improvestheclassiﬁcationrate. Notethatthesparsityrat eofWTA-RBMs( e.g.,30%)shouldnotbe\n",
      "asaggressiveasWTAautoencoders( e.g.,5%),sinceRBMsarealreadybeingregularizedbyhaving\n",
      "binaryhiddenstates.\n",
      "(a) TorontoFace Dataset ( 48×48)\n",
      " (b) CIFAR-10Patches( 11×11)\n",
      "Figure2: Dictionaries(decoder)ofFC-WTA autoencoderwit h256hiddenunitsandsparsityof5%\n",
      "2\n",
      "(a) StandardRBM\n",
      " (b) WTA-RBM(sparsityof 30%)\n",
      "Figure3: FeatureslearnedonMNISTby256hiddenunitRBMs.\n",
      "3 Convolutional Winner-Take-All Autoencoders\n",
      "There are several problems with applying conventional spar se coding methods on large images.\n",
      "First,itisnotpracticaltodirectlyapplyafully-connect edsparsecodingalgorithmonhigh-resolution\n",
      "(e.g.,256×256) images. Second, even if we could do that, we would learn a ver y redundant\n",
      "dictionary whose atoms are just shifted copies of each other . For example, in Fig. 2a, the FC-\n",
      "WTAautoencoderhasallocateddifferentﬁltersforthesame patterns(i.e.,mouths/noses/glasses/face\n",
      "borders)occurringatdifferentlocations. Onewaytoaddre ssthisproblemistoextractrandomimage\n",
      "patches from input images and then train an unsupervised lea rning algorithm on these patches in\n",
      "isolation [3]. Once training is complete, the ﬁlters can be u sed in a convolutionalfashion to obtain\n",
      "representationsofimages. As discussedin [3, 4], the mainp roblemwith thisapproachis thatif the\n",
      "receptiveﬁeldissmall,thismethodwill notcapturereleva ntfeatures(imaginetheextremeof 1×1\n",
      "patches). Increasing the receptive ﬁeld size is problemati c, because then a very large number of\n",
      "featuresare needed to account for all the position-speciﬁc variationswithin the receptiveﬁeld. For\n",
      "example,we see thatin Fig. 2b, theFC-WTA autoencoderalloc atesdifferentﬁlterstorepresentthe\n",
      "samehorizontaledgeappearingatdifferentlocationswith inthereceptiveﬁeld. Asaresult,thelearnt\n",
      "features are essentially shifted versions of each other, wh ich results in redundancybetween ﬁlters.\n",
      "Unsupervised methods that make use of convolutional archit ectures can be used to address this\n",
      "problem, includingconvolutionalRBMs [5], convolutional DBNs [6, 5], deconvolutionalnetworks\n",
      "[7] and convolutional predictive sparse decomposition (PS D) [4, 8]. These methods learn features\n",
      "fromtheentireimageinaconvolutionalfashion. Inthisset ting,theﬁlterscanfocusonlearningthe\n",
      "shapes (i.e., “what”), because the location information ( i.e., “where”) is encoded into feature maps\n",
      "andthustheredundancyamongtheﬁltersisreduced.\n",
      "In this section, we propose Convolutional Winner-Take-All (CONV-WTA) autoencodersthat learn\n",
      "to do shift-invariant/convolutional sparse coding by dire ctly enforcing winner-take-all spatialand\n",
      "lifetimesparsityconstraints. Ourworkissimilarinspirittodecon volutionalnetworks[7]andconvo-\n",
      "lutionalPSD[4,8],butwhereastheapproachinthatworkist obreakaparttherecognitionpathway\n",
      "anddatagenerationpathway,but learnthemso that theyare c onsistent,we describeatechniquefor\n",
      "directlylearninga sparseconvolutionalautoencoder.\n",
      "A shallow convolutional autoencoder maps an input vector to a set of feature maps in a convolu-\n",
      "tional fashion. We assume that the boundaries of the input im age are zero-padded, so that each\n",
      "featuremaphasthesamesize astheinput. Thehiddenreprese ntationisthenmappedlinearlytothe\n",
      "outputusinga deconvolutionoperation(AppendixA.1). The parametersare optimizedtominimize\n",
      "the mean square error. A non-regularized convolutional aut oencoder learns useless delta function\n",
      "ﬁlters that copy the input image to the feature maps and copy b ack the feature maps to the output.\n",
      "Interestingly, we have observed that even in the presence of denoising[9]/dropout[10] regulariza-\n",
      "tions, convolutional autoencodersstill learn useless del ta functions. Fig. 4a depicts the ﬁlters of a\n",
      "convolutionalautoencoderwith 16 maps,20% inputand50% hi ddenunitdropouttrainedonStreet\n",
      "View House Numbersdataset [11]. We see that the 16 learnt del ta functionsmake 16 copies of the\n",
      "input pixels, so even if half of the hidden units get dropped d uring training, the network can still\n",
      "rely on the non-droppedcopies to reconstructthe input. Thi s highlightsthe need for new and more\n",
      "aggressiveregularizationtechniquesforconvolutionala utoencoders.\n",
      "The proposed architecture for CONV-WTA autoencoder is depi cted in Fig. 4b. The CONV-WTA\n",
      "autoencoder is a non-symmetric autoencoder where the encod er typically consists of a stack of\n",
      "several ReLU convolutional layers ( e.g.,5×5ﬁlters) and the decoder is a linear deconvolutional\n",
      "layer of larger size ( e.g.,11×11ﬁlters). We chose to use a deep encoderwith smaller ﬁlters ( e.g.,\n",
      "5×5)insteadofashallowonewithlargerﬁlters( e.g.,11×11),becausetheformerintroducesmore\n",
      "3\n",
      "(a) Dropout CONV Autoencoder (b) WTA-CONVAutoencoder\n",
      "Figure 4: (a) Filters and feature maps of a denoising/dropou t convolutional autoencoder, which\n",
      "learns useless delta functions. (b) Proposed architecture for CONV-WTA autoencoder with spatial\n",
      "sparsity(128conv5-128conv5-128deconv11).\n",
      "non-linearityandregularizesthe networkbyforcingit to h avea decompositionoverlargereceptive\n",
      "ﬁelds through smaller ﬁlters. The CONV-WTA autoencoder is t rained under two winner-take-all\n",
      "sparsityconstraints: spatialsparsity andlifetime sparsity .\n",
      "3.1 SpatialSparsity\n",
      "In the feedforward phase, after computing the last feature m aps of the encoder, rather than recon-\n",
      "structing the input from all of the hidden units of the featur e maps, we identify the single largest\n",
      "hiddenactivity within each featuremap, and set the rest of t he activities as well as their derivatives\n",
      "to zero. This results in a sparse representation whose spars ity level is the number of feature maps.\n",
      "The decoderthen reconstructsthe outputusing onlythe acti ve hiddenunits in the featuremapsand\n",
      "thereconstructionerrorisonlybackpropagatedthroughth ese hiddenunitsaswell.\n",
      "Consistentwithotherrepresentationlearningapproaches suchastriangle k-means[3]anddeconvo-\n",
      "lutional networks [7, 12], we observed that using a softer sp arsity constraint at test time results in\n",
      "a better classiﬁcation performance. So, in the CONV-WTA aut oencoder, in order to ﬁnd the ﬁnal\n",
      "representation of the input image, we simply turn off the spa rsity regularizer and use ReLU con-\n",
      "volutions to compute the last layer feature maps of the encod er. After that, we apply max-pooling\n",
      "(e.g., over4×4regions) on these feature maps and use this representation f or classiﬁcation tasks\n",
      "orintrainingstackedCONV-WTAaswill bediscussedinSecti on3.3. Fig. 5showsaCONV-WTA\n",
      "autoencoderthat wastrainedonMNIST.\n",
      "05101520250\n",
      "5\n",
      "0\n",
      "5\n",
      "0\n",
      "5\n",
      "0102030400\n",
      "10\n",
      "20\n",
      "30\n",
      "40\n",
      "0204060801000\n",
      "20\n",
      "40\n",
      "60\n",
      "80\n",
      "100\n",
      "0204060801000\n",
      "20\n",
      "40\n",
      "60\n",
      "80\n",
      "100\n",
      "01020304050600\n",
      "10\n",
      "20\n",
      "30\n",
      "40\n",
      "50\n",
      "60\n",
      "0 50 100 1500\n",
      "5\n",
      "0\n",
      "5\n",
      "Figure5: TheCONV-WTAautoencoderwith16ﬁrstlayerﬁlters and128secondlayerﬁlterstrained\n",
      "onMNIST:(a)Inputimage. (b)Learntdictionary(deconvolu tionﬁlters). (c)16featuremapswhile\n",
      "training(spatialsparsityapplied). (d)16featuremapsaf tertraining(spatialsparsityturnedoff). (e)\n",
      "16featuremapsoftheﬁrstlayerafterapplyinglocalmax-po oling. (f)48outof128featuremapsof\n",
      "thesecondlayerafterturningoffthesparsityandapplying localmax-pooling(ﬁnalrepresentation).\n",
      "4\n",
      "(a)Spatialsparsity only\n",
      " (b) Spatial& lifetimesparsity20%\n",
      " (c)Spatial &lifetime sparsity5%\n",
      "Figure 6: Learnt dictionary (deconvolutionﬁlters) of CONV -WTA autoencoder trained on MNIST\n",
      "(64conv5-64conv5-64conv5-64deconv11).\n",
      "3.2 LifetimeSparsity\n",
      "Although spatial sparsity is very effective in regularizin gthe autoencoder,it requiresall the dictio-\n",
      "nary atoms to contribute in the reconstructionof every imag e. We can further increase the sparsity\n",
      "byexploitingthewinner-take-all lifetimesparsityasfollows. Supposewehave128featuremapsand\n",
      "themini-batchsize is100. Afterapplyingspatialsparsity ,foreachﬁlter we will have100“winner”\n",
      "hiddenunitscorrespondingtothe100mini-batchimages. Du ringfeedforwardphase,foreachﬁlter,\n",
      "we only keep the k%largest of these 100 values and set the rest of activations to zero. Note that\n",
      "despite this aggressivesparsity, everyﬁlter is forcedto g et updatedupon visiting every mini-batch,\n",
      "whichiscrucialforavoidingthedeadﬁlterproblemthatoft enoccursinsparsecoding.\n",
      "Fig. 6 and Fig. 7 show the effect of the lifetime sparsity on th e dictionaries trained on MNIST\n",
      "and TorontoFace dataset. We see that similar to the FC-WTA au toencoders, by tuning the lifetime\n",
      "sparsityofCONV-WTAautoencoders,wecanaimfordifferent sparsityrates. Ifnolifetimesparsity\n",
      "is enforced, we learn local ﬁlters that contribute to every t raining point (Fig. 6a and 7a). As we\n",
      "increasethe lifetime sparsity,we can learnrare but useful featuresthat result in betterclassiﬁcation\n",
      "(Fig. 6b). Nevertheless,forcingtoomuchlifetimesparsit ywillresultinfeaturesthataretoodiverse\n",
      "andrareanddonotproperlyfactortheinputintoparts(Fig. 6cand7b).\n",
      "3.3 StackedCONV-WTAAutoencoders\n",
      "TheCONV-WTA autoencodercan beusedas a buildingblocktofo rma hierarchy. In orderto train\n",
      "thehierarchicalmodel,weﬁrsttrainaCONV-WTAautoencode rontheinputimages. Thenwepass\n",
      "all the training examplesthrough the network and obtain the ir representations(last layer of the en-\n",
      "coderafterturningoffsparsityandapplyinglocalmax-poo ling).Nowwetreattheserepresentations\n",
      "as a new dataset and train another CONV-WTA autoencoder to ob tain the stacked representations.\n",
      "Fig. 5(f)showsthedeepfeaturemapsofastackedCONV-WTA th atwastrainedonMNIST.\n",
      "3.4 ScalingCONV-WTAAutoencoderstoLargeImages\n",
      "The goal of convolutional sparse coding is to learn shift-invariant dictionary atoms and encoding\n",
      "ﬁlters. Once the ﬁlters are learnt, they can be applied convo lutionally to any image of any size,\n",
      "and produce a spatial map corresponding to different locati ons at the input. We can use this idea\n",
      "to efﬁciently train CONV-WTA autoencoders on datasets cont aining large images. Suppose we\n",
      "want to train an AlexNet [1] architecture in an unsupervised fashion on ImageNet, ILSVRC-2012\n",
      "(a) Spatialsparsityonly\n",
      " (b) Spatialand lifetimesparsityof 10%\n",
      "Figure 7: Learnt dictionary (deconvolution ﬁlters) of CONV -WTA autoencoder trained on the\n",
      "TorontoFacedataset(64conv7-64conv7-64conv7-64deconv 15).\n",
      "5\n",
      "(a)Spatial sparsity\n",
      " (b) Spatialand lifetimesparsityof 10%\n",
      "Figure8: Learntdictionary(deconvolutionﬁlters)ofCONV -WTAautoencodertrainedonImageNet\n",
      "48×48whitenedpatches. (64conv5-64conv5-64conv5-64deconv11 ).\n",
      "(224x224). In order to learn the ﬁrst layer 11×11shift-invariant ﬁlters, we can extract medium-\n",
      "size image patches of size 48×48and train a CONV-WTA autoencoderwith 64 dictionary atoms\n",
      "of size 11 on these patches. This will result in 64 shift-inva riant ﬁlters of size 11×11that can\n",
      "efﬁcientlycapturethestatisticsof 48×48patches. Oncetheﬁltersarelearnt,wecanapplythemin\n",
      "a convolutionalfashionwith thestride of 4to the entireimagesandaftermax-poolingwe will have\n",
      "a64×27×27representation of the images. Now we can train another CONV- WTA autoencoder\n",
      "on top of these feature maps to capture the statistics of a lar ger receptive ﬁeld at different location\n",
      "of the input image. This process could be repeatedfor multip le layers. Fig. 8 shows the dictionary\n",
      "learntontheImageNetusingthisapproach. Wecanseethatby imposinglifetimesparsity,wecould\n",
      "learnverydiverseﬁlterssuchascorner,circularandblobd etectors.\n",
      "4 Experiments\n",
      "In all the experiments of this section, we evaluate the quali ty of unsupervised features of WTA\n",
      "autoencodersby training a naive linear classiﬁer ( i.e., SVM) on top them. We did not ﬁne-tune the\n",
      "ﬁlters in any of the experiments. The implementationdetail s of all the experimentsare providedin\n",
      "AppendixA ( inthesupplementarymaterials ). Theopensourcecodewill bepubliclyavailable.\n",
      "4.1 Winner-Take-AllAutoencoderson MNIST\n",
      "TheMNISTdatasethas60Ktrainingpointsand10Ktestpoints . Table1comparestheperformance\n",
      "of FC-WTA autoencoderand WTA-RBMs with other permutation- invariantarchitectures. Table 2a\n",
      "compares the performance of CONV-WTA autoencoder with othe r convolutional architectures. In\n",
      "theseexperiments,wehaveusedalltheavailabletrainingl abels(N= 60000 points)totrainalinear\n",
      "SVM ontopoftheunsupervisedfeatures.\n",
      "Anadvantageofunsupervisedlearningalgorithmsistheabi litytousetheminsemi-supervisedsce-\n",
      "narioswherelabeled data is limited. Table 2bshows the semi -supervisedperformanceof a CONV-\n",
      "WTAwherewehaveassumedonly Nlabelsareavailable. Inthiscase,theunsupervisedfeatur esare\n",
      "still trainedonthe wholedataset (60Kpoints),but the SVM i strainedonlyonthe Nlabeledpoints\n",
      "whereNvariesfrom300to 60K.We comparethis with theperformanceo f a superviseddeepcon-\n",
      "vnet(CNN)[17]trainedonlyonthe Nlabeledtrainingpoints. Wecanseesuperviseddeeplearnin g\n",
      "techniques fail to learn good representationswhen labeled data is limited, whereas our WTA algo-\n",
      "rithmcanextractusefulfeaturesfromtheunlabeleddataan dachieveabetterclassiﬁcation. Wealso\n",
      "compare our method with some of the best semi-supervised lea rning results recently obtained by\n",
      "convolutionalkernelnetworks(CKN)[16]andconvolutiona lscatteringnetworks(SC)[15]. Wesee\n",
      "CONV-WTA outperformsboththesemethodswhenveryfewlabel sareavailable( N <1K).\n",
      "Error Rate\n",
      "Shallow Denoising/Dropout Autoencoder (20% input and 50% h idden units dropout) 1.60%\n",
      "Stacked Denoising Autoencoder (3layers) [9] 1.28%\n",
      "Deep BoltzmannMachines [13] 0.95%\n",
      "k-Sparse Autoencoder [14] 1.35%\n",
      "Shallow FC-WTAAutoencoder, 2000 units,5% sparsity 1.20%\n",
      "StackedFC-WTAAutoencoder, 5% and2% sparsity 1.11%\n",
      "RestrictedBoltzmann Machines 1.60%\n",
      "Winner-Take-AllRestricted BoltzmannMachines(30% spars ity) 1.38%\n",
      "Table1: Classiﬁcation performanceofFC-WTA autoencoderf eatures+ SVM onMNIST.\n",
      "6\n",
      "Error\n",
      "DeepDeconvolutional Network [7,12] 0.84%\n",
      "Convolutional DeepBeliefNetwork [5] 0.82%\n",
      "ScatteringConvolution Network [15] 0.43%\n",
      "Convolutional Kernel Network[16] 0.39%\n",
      "CONV-WTA Autoencoder,16 maps 1.02%\n",
      "CONV-WTA Autoencoder,128 maps 0.64%\n",
      "Stacked CONV-WTA,128 &2048 maps 0.48%\n",
      "(a) Unsupervised features + SVMtrainedon\n",
      "N= 60000 labels (noﬁne-tuning)NCNN [17] CKN[16] SC [15] CONV-WTA\n",
      "3007.18% 4.15% 4.70% 3.47%\n",
      "6005.28% - -2.37%\n",
      "1K3.21% 2.05% 2.30% 1.92%\n",
      "2K2.53% 1.51% 1.30% 1.45%\n",
      "5K1.52% 1.21% 1.03% 1.07%\n",
      "10K0.85% 0.88% 0.88 % 0.91%\n",
      "60K0.53% 0.39% 0.43% 0.48%\n",
      "(b)Unsupervisedfeatures+SVMtrainedonfew\n",
      "labelsN. (semi-supervised)\n",
      "Table2: Classiﬁcation performanceofCONV-WTAautoencode rtrainedonMNIST.\n",
      "4.2 CONV-WTAAutoencoderon StreetView HouseNumbers\n",
      "The SVHN dataset has about 600K training points and 26K test p oints. Table 3 reports the classi-\n",
      "ﬁcation results of CONV-WTA autoencoderon this dataset. We ﬁrst trained a shallow and stacked\n",
      "CONV-WTA onall 600Ktrainingcasestolearnthe unsupervise dfeatures,andthenperformedtwo\n",
      "setsofexperiments. Intheﬁrstexperiment,weusedalltheN =600KavailablelabelstotrainanSVM\n",
      "on top of the CONV-WTA features, and compared the result with convolutional k-means [11]. We\n",
      "see that the stacked CONV-WTA achieves a dramatic improveme nt over the shallow CONV-WTA\n",
      "as well as k-means. In the second experiment, we trained an SVM by using o nlyN= 1000la-\n",
      "beleddatapointsandcomparedthe resultwithdeepvariatio nalautoencoders[18] trainedinasame\n",
      "semi-supervisedfashion. Fig. 9showsthelearntdictionar yofCONV-WTA onthisdataset.\n",
      "Accuracy\n",
      "Convolutional Triangle k-means [11] 90.6%\n",
      "CONV-WTAAutoencoder, 256 maps (N=600K) 88.5%\n",
      "StackedCONV-WTA Autoencoder,256 and1024 maps (N=600K) 93.1%\n",
      "DeepVariational Autoencoders (non-convolutional) [18]( N=1000) 63.9%\n",
      "StackedCONV-WTA Autoencoder,256 and1024 maps (N=1000) 76.2%\n",
      "Supervised Maxout Network [19] (N=600K) 97.5%\n",
      "Table3: CONV-WTA unsupervisedfeatures+SVM trainedon NlabeledpointsofSVHN dataset.\n",
      "(a)Contrast Normalized SVHN\n",
      " (b) LearntDictionary (64conv5-64conv5-64conv5-64decon v11)\n",
      "Figure9: CONV-WTA autoencodertrainedontheStreet ViewHo useNumbers(SVHN)dataset.\n",
      "4.3 CONV-WTAAutoencoderon CIFAR-10\n",
      "Fig. 10areportsthe classiﬁcationresultsofCONV-WTA onCI FAR-10. We see whena small num-\n",
      "ber of feature maps ( <256) are used, considerable improvements over k-means can be achieved.\n",
      "Thisisbecauseourmethodcanlearnashift-invariantdicti onaryasopposedtotheredundantdictio-\n",
      "narieslearnt by patch-basedmethodssuch as k-means. In the largestdeep networkthat we trained,\n",
      "we used 256, 1024, 4096 maps and achieved the classiﬁcation r ate of 80.1% without using ﬁne-\n",
      "tuning, model averaging or data augmentation. It was shown i n [20] that the NOMP-20 algorithm\n",
      "can achieve classiﬁcation rate of 82.9%. However, it requir es 20 costly OMP operations in every\n",
      "iterationandusesmodelaveragingover7 differentdiction ariestrainedwith muchlargernumberof\n",
      "featuremaps(3200,6400,6400maps). Also,itwasshownin[2 1]thattriangle k-meanscanachieve\n",
      "82.0%accuracybylearningtheconnectivitybetweenlayers usinga similaritymetriconthe feature\n",
      "maps. We only used full-connectivity between layers and did not leverage this idea in this work.\n",
      "Also, it is shown in [22] that the Exemplar CNN algorithm can a chieve 82.0% accuracy, but it has\n",
      "torelyona heavydataaugmentation(upto 300transformatio ns/imagepatch)inordertodoso.\n",
      "7\n",
      "Accuracy\n",
      "Shallow Convolutional Triangle k-means (64 maps) [3] 62.3%\n",
      "ShallowCONV-WTA Autoencoder (64maps) 68.9%\n",
      "Shallow Convolutional Triangle k-means (256 maps) [3] 70.2%\n",
      "ShallowCONV-WTA Autoencoder (256maps) 72.3%\n",
      "Shallow Convolutional Triangle k-means (4000 maps) [3] 79.6%\n",
      "DeepTriangle k-means (1600, 3200, 3200 maps) [21] 82.0%\n",
      "Convolutional DeepBeliefNet (2layers) [6] 78.9%\n",
      "Exemplar CNN(300x Data Augmentation) [22] 82.0%\n",
      "NOMP(3200,6400,6400 maps + Averaging 7Models) [20] 82.9%\n",
      "StackedCONV-WTA (256, 1024 maps) 77.9%\n",
      "StackedCONV-WTA (256, 1024, 4096 maps) 80.1%\n",
      "Supervised Maxout Network[19] 88.3%\n",
      "(a)Unsupervisedfeatures+ SVM(withoutﬁne-tuning)\n",
      " (b)Learnt dictionary (deconv-ﬁlters)\n",
      "64conv5-64conv5-64conv5-64deconv7\n",
      "Figure10: CONV-WTA autoencodertrainedontheCIFAR-10dat aset.\n",
      "Fig. 10b shows the learnt dictionary on the CIFAR-10 dataset . We can see that the network has\n",
      "learnt diverse shift-invariant ﬁlters such as point/corne rdetectors as opposed to Fig. 2b that shows\n",
      "theposition-speciﬁcﬁltersofpatch-basedmethods.\n",
      "5 Discussion\n",
      "RelationshipofFC-WTAto k-sparseautoencoders. k-sparseautoencodersimposesparsityacross\n",
      "different channels (population sparsity), whereas FC-WTA autoencoder imposes sparsity across\n",
      "training examples (lifetime sparsity). When aiming for low sparsity levels, k-sparse autoencoders\n",
      "useaschedulingtechniquetoavoidthedeaddictionaryatom problem. WTAautoencoders,however,\n",
      "do not have this problem since all the hidden units get update d upon visiting every mini-batch no\n",
      "matter how aggressivethe sparsity rate is (no schedulingre quired). As a result, we can train larger\n",
      "networksandachievebetterclassiﬁcationrates.\n",
      "Relationship of CONV-WTA to deconvolutionalnetworks and c onvolutionalPSD. Deconvolu-\n",
      "tionalnetworks[7,12]aretopdownmodelswith nodirectlin kfromtheimagetothefeaturemaps.\n",
      "The inference of the sparse maps requires solving the iterat ive ISTA algorithm, which is costly.\n",
      "Convolutional PSD [4] addresses this problem by training a p arameterized encoder separately to\n",
      "explicitlypredictthesparsecodesusingasoftthresholdi ngoperator. Deconvolutionalnetworksand\n",
      "convolutional PSD can be viewed as the generative decoder an d encoder paths of a convolutional\n",
      "autoencoder. Ourcontributionistoproposeaspeciﬁcwinne r-take-allapproachfortrainingaconvo-\n",
      "lutional autoencoder, in which both paths are trained joint ly using direct backpropagationyielding\n",
      "analgorithmthatismuchfaster,easier toimplementandcan trainmuchlargernetworks.\n",
      "Relationship to maxout networks. Maxout networks[19] take the max across different channels ,\n",
      "whereasourmethodtakesthemaxacrossspaceandmini-batch dimensions. Alsothewinner-take-all\n",
      "featuremapsretainthe locationinformationof the“winner s”withineach featuremapanddifferent\n",
      "locationshavedifferentconnectivityonthesubsequentla yers,whereasthemaxoutactivityispassed\n",
      "tothe nextlayerusingweightsthat arethesameregardlesso fwhichunitgavethemaximum.\n",
      "6 Conclusion\n",
      "We proposed the winner-take-all spatial and lifetime spars ity methods to train autoencoders that\n",
      "learntodofully-connectedandconvolutionalsparsecodin g. WeobservedthatCONV-WTAautoen-\n",
      "coderslearn shift-invariantand diverse dictionaryatoms as opposedto position-speciﬁcGabor-like\n",
      "atoms that are typically learnt by conventionalsparse codi ng methods. Unlike related approaches,\n",
      "suchasdeconvolutionalnetworksandconvolutionalPSD,ou rmethodjointlytrainstheencoderand\n",
      "decoder paths by direct back-propagation, and does not requ ire an iterative EM-like optimization\n",
      "technique during training. We described how our method can b e scaled to large datasets such as\n",
      "ImageNetandshowedthenecessityofthedeeparchitecturet oachievebetterresults. Weperformed\n",
      "experimentson the MNIST, SVHN and CIFAR-10 datasets and sho wed that the classiﬁcation rates\n",
      "ofwinner-take-allautoencodersare competitivewiththe s tate-of-the-art. We showedourmethodis\n",
      "particularlyeffectivein thesemi-supervisedsettingswh erelimitedlabeleddataisavailable.\n",
      "8\n",
      "References\n",
      "[1] A. Krizhevsky,I. Sutskever, and G. E. Hinton, “Imagenet classiﬁcation with deep convo-\n",
      "lutionalneuralnetworks.,”in NIPS,vol. 1,p.4,2012.\n",
      "[2] A.Ng,“Sparseautoencoder,” CS294ALecturenotes ,vol.72,2011.\n",
      "[3] A. Coates, A. Y. Ng, and H. Lee, “An analysis of single-lay er networks in unsupervised\n",
      "feature learning,” in International Conference on Artiﬁcial Intelligence and St atistics,\n",
      "2011.\n",
      "[4] K. Kavukcuoglu, P. Sermanet, Y.-L. Boureau, K. Gregor, M . Mathieu, and Y. LeCun,\n",
      "“Learningconvolutionalfeature hierarchies for visualre cognition.,”in NIPS, vol. 1, p. 5,\n",
      "2010.\n",
      "[5] H. Lee, R. Grosse, R. Ranganath,and A. Y. Ng, “Convolutio naldeep belief networks for\n",
      "scalableunsupervisedlearningofhierarchicalrepresent ations,”in Proceedingsofthe26th\n",
      "AnnualInternationalConferenceonMachineLearning ,pp.609–616,ACM, 2009.\n",
      "[6] A.Krizhevsky,“Convolutionaldeepbeliefnetworksonc ifar-10,”Unpublished ,2010.\n",
      "[7] M. D. Zeiler, D. Krishnan, G. W. Taylor, and R. Fergus, “De convolutionalnetworks,” in\n",
      "ComputerVision andPattern Recognition(CVPR), 2010IEEE C onferenceon , pp.2528–\n",
      "2535,IEEE, 2010.\n",
      "[8] P. Sermanet, K. Kavukcuoglu, S. Chintala, and Y. LeCun, “ Pedestrian detection with\n",
      "unsupervised multi-stage feature learning,” in Computer Vision and Pattern Recognition\n",
      "(CVPR), 2013IEEE Conferenceon ,pp.3626–3633,IEEE, 2013.\n",
      "[9] P. Vincent, H. Larochelle, I. Lajoie, Y. Bengio, and P.-A . Manzagol, “Stacked denoising\n",
      "autoencoders: Learning useful representations in a deep ne twork with a local denoising\n",
      "criterion,” The JournalofMachineLearningResearch ,vol.11,pp.3371–3408,2010.\n",
      "[10] G. E. Hinton, N. Srivastava, A. Krizhevsky, I. Sutskeve r, and R. R. Salakhutdinov, “Im-\n",
      "provingneuralnetworksbypreventingco-adaptationoffea turedetectors,” arXivpreprint\n",
      "arXiv:1207.0580 ,2012.\n",
      "[11] Y. Netzer, T. Wang, A. Coates, A. Bissacco, B. Wu, and A. Y . Ng, “Reading digits in\n",
      "natural images with unsupervised feature learning,” in NIPS workshop on deep learning\n",
      "andunsupervisedfeaturelearning ,vol.2011,p.5,Granada,Spain,2011.\n",
      "[12] M. D. Zeiler and R. Fergus, “Differentiable pooling for hierarchical feature learning,”\n",
      "arXivpreprintarXiv:1207.0151 ,2012.\n",
      "[13] R. Salakhutdinov and G. E. Hinton, “Deep boltzmann mach ines,” inInternational Con-\n",
      "ferenceonArtiﬁcialIntelligenceandStatistics ,pp.448–455,2009.\n",
      "[14] A.MakhzaniandB.Frey,“k-sparseautoencoders,” InternationalConferenceonLearning\n",
      "Representations,ICLR , 2014.\n",
      "[15] J. Brunaand S. Mallat, “Invariantscatteringconvolut ionnetworks,” Pattern Analysis and\n",
      "MachineIntelligence,IEEETransactionson ,vol.35,no.8,pp.1872–1886,2013.\n",
      "[16] J. Mairal, P. Koniusz, Z. Harchaoui, and C. Schmid, “Con volutionalkernel networks,” in\n",
      "AdvancesinNeuralInformationProcessingSystems ,pp.2627–2635,2014.\n",
      "[17] M. Ranzato,F. J. Huang,Y.-L. Boureau,and Y. Lecun, “Un supervisedlearningof invari-\n",
      "ant feature hierarchies with applications to object recogn ition,” in Computer Vision and\n",
      "PatternRecognition,2007.CVPR’07. IEEEConferenceon ,pp.1–8,IEEE, 2007.\n",
      "[18] D. P. Kingma, S. Mohamed, D. J. Rezende, and M. Welling, “ Semi-supervised learning\n",
      "with deep generative models,” in Advances in Neural Information Processing Systems ,\n",
      "pp.3581–3589,2014.\n",
      "[19] I. J. Goodfellow, D. Warde-Farley, M. Mirza, A. Courvil le, and Y. Bengio, “Maxout net-\n",
      "works,”ICML, 2013.\n",
      "[20] T.-H. Lin and H. Kung, “Stable and efﬁcient representat ion learning with nonnegativity\n",
      "constraints,” in Proceedings of the 31st International Conference on Machin e Learning\n",
      "(ICML-14) ,pp.1323–1331,2014.\n",
      "[21] A.CoatesandA. Y.Ng,“Selectingreceptiveﬁeldsin dee pnetworks.,”in NIPS,2011.\n",
      "[22] A.Dosovitskiy,J. T.Springenberg,M. Riedmiller,and T. Brox,“Discriminativeunsuper-\n",
      "vised feature learning with convolutionalneural networks ,” inAdvances in Neural Infor-\n",
      "mationProcessingSystems ,pp.766–774,2014.\n",
      "9\n",
      "Appendix A Implementation Details\n",
      "In this section, we describe the network architectures and h yper-parameters that were used in the\n",
      "experiments. While most of the conventional sparse coding a lgorithms require complex matrix\n",
      "operationssuchasmatrixinversionorSVDdecomposition,W TAautoencodersonlyrequirethe sort\n",
      "operationinadditiontomatrixmultiplicationandconvolu tionwhichareallefﬁcientlyimplemented\n",
      "in most GPU libraries. We used Alex Krizhevsky’s cuda-convnet convolution kernels [1] for this\n",
      "work.\n",
      "A.1 DeconvolutionKernels\n",
      "At the decoder of a convolutional autoencoder, deconvoluti onal layers are used. The deconvolu-\n",
      "tion operation is exactly the reverse of convolution ( i.e., its forward pass is the backward pass of\n",
      "convolution). For example, whereas a strided convolutiond ecreases the feature map size, a strided\n",
      "deconvolutionincreasesthemapsize. We implementedthe de convolutionkernelsbyminormodiﬁ-\n",
      "cationsofcurrentavailableGPU kernelsfortheconvolutio noperation.\n",
      "A.2 EffectofTied Weights\n",
      "We found that tying the encoder and decoder of FC-WTA autoenc oders helps the generalization\n",
      "performanceofthem. Buttyingtheconvolutionanddeconvol utionweightsofWTA-CONVautoen-\n",
      "codershurtsthe generalizationperformance(data not show n). We thinkthis is because the CONV-\n",
      "WTA autoencoder is already very regularized by the aggressi ve sparsity constraints and tying the\n",
      "weightsresultsintoomuchregularization.\n",
      "A.3 WTA-CONVAutoencoderonMNIST\n",
      "OntheMNISTdataset, wetrainedtwo networks:\n",
      "Shallow CONV-WTA Autoencoder (128 maps). In the shallow architecture, we used 128ﬁlters\n",
      "with a7×7receptive ﬁeld applied at strides of 1pixel. After training, we used max-poolingover\n",
      "5×5regionsat stridesof 3pixelsto obtainthe ﬁnal 128×10×10representation. SVM was then\n",
      "appliedto thisrepresentationforclassiﬁcation.\n",
      "StackedCONV-WTAAutoencoder(128,2048maps). Inthedeeparchitecture,wetrainedanother\n",
      "2048feature maps on top of the pooled feature maps of the ﬁrst netw ork, with a ﬁlter width of 3\n",
      "applied at strides of 1pixel. After training, we used max poolingover 3×3regionsat strides of 2\n",
      "pixelsto obtainthe ﬁnal 2048×5×5representation. SVM was thenappliedto this representatio n\n",
      "forclassiﬁcation.\n",
      "Semi-Supervised CONV-WTAAutoencoder. Inthe semi-supervisedsetup, the amountoflabeled\n",
      "data was varied from N= 300toN= 60000 . We ensured the dataset is balanced and each\n",
      "class has the same number of labeled points in all the experim ents. We used the stacked CONV-\n",
      "WTA autoencoder(128,2048maps) trainedin the previouspar t, and trained an SVM on top of the\n",
      "unsupervisedfeaturesusingonly Nlabeleddata.\n",
      "A.4 WTA-CONVAutoencoderonSVHN\n",
      "The Street View House Numbers (SVHN) dataset consists of abo ut 600,000 images (both the dif-\n",
      "ﬁcult and the simple sets) and 26,000 test images. We ﬁrst app ly global contrast normalization to\n",
      "the images and then used local contrast normalization using a Gaussian kernel to preprocess each\n",
      "channelofthe images. Thisis the same preprocessingthat is used in [19]. The contrastnormalized\n",
      "SVHN imagesareshownin Fig. 9b. We trainedtwonetworksonth isdataset.\n",
      "CONV-WTA Autoencoder (256 maps). The architecture used for this network is 256conv3-\n",
      "256conv3-256conv3-256deconv7.Aftertraining,weusedma x-poolingonthelast 256featuremaps\n",
      "oftheencoder,over 6×6regionsatstridesof 4pixelstoobtaintheﬁnal 256×8×8representation.\n",
      "SVM was then applied to this representation for classiﬁcati on. We observed that having a stack of\n",
      "conv3layersinsteadofa 256conv7encoder,signiﬁcantlyim provedthe classiﬁcationrate.\n",
      "10\n",
      "Stacked CONV-WTA Autoencoder (256, 1024 maps). In the stacked architecture, we trained\n",
      "another1024featuremapsontopofthepooledfeaturemapsoftheﬁrstnetw ork,withaﬁlterwidth\n",
      "of3appliedatstridesof 1pixel. Aftertraining,weusedmaxpoolingover 3×3regionsatstridesof\n",
      "2pixelstoobtaintheﬁnal 1024×4×4representation. SVMwasthenappliedtothisrepresentatio n\n",
      "forclassiﬁcation.\n",
      "Semi-Supervised CONV-WTA Autoencoder. In the semi-supervised setup, we assumed only\n",
      "N=1000labeleddata isavailable. We used the stackedCONV-W TA autoencoder(256,1024maps)\n",
      "trained in the previous part, and trained an SVM on top of the u nsupervised features using only\n",
      "N= 1000labeleddata.\n",
      "A.5 WTA-CONVAutoencoderonCIFAR-10\n",
      "On the CIFAR-10 dataset, we used global contrast normalizat ionfollowedby ZCA whiteningwith\n",
      "the regularization bias of 0.1 to preprocess the dataset. Th is is the same preprocessing that is used\n",
      "in[3]. We trainedthreenetworksonCIFAR-10.\n",
      "CONV-WTA Autoencoder (256 maps). The architecture used for this network is 256conv3-\n",
      "256conv3-256conv3-256deconv7.Aftertraining,weusedma x-poolingonthelast 256featuremaps\n",
      "oftheencoder,over 6×6regionsatstridesof 4pixelstoobtaintheﬁnal 256×8×8representation.\n",
      "SVM wasthenappliedtothisrepresentationforclassiﬁcati on.\n",
      "Stacked CONV-WTAAutoencoder(256,1024maps). For thisnetwork,we trainedanother 1024\n",
      "feature mapson top of the pooledfeature maps of the ﬁrst netw ork, with a ﬁlter width of 3applied\n",
      "at strides of 1pixel. After training, we used max pooling over 3×3regions at strides of 2pixels\n",
      "to obtain the ﬁnal 1024×4×4representation. SVM was then applied to this representatio n for\n",
      "classiﬁcation.\n",
      "Stacked CONV-WTA Autoencoder (256, 1024, 4096 maps). For this model, we ﬁrst trained a\n",
      "CONV-WTA network with the architecture of 256conv3-256con v3-256conv3-256deconv7. After\n",
      "training, we used max pooling on the last 256feature maps of the encoder, over 3×3regions at\n",
      "strides of 2pixels to obtain a 256×16×16representation. We then trained another 1024feature\n",
      "maps with ﬁlter width of 3and stride of 1on top of the pooled feature maps of the ﬁrst layer. We\n",
      "thenobtainedthe secondlayerrepresentationbymaxpoolin gthe1024featuremapswith apooling\n",
      "stride of2and width of 3to obtain a 1024×8×8representation. We then trained another 4096\n",
      "featuremapswithﬁlterwidthof 3andthestrideof 1ontopofthepooledfeaturemapsofthesecond\n",
      "layer. Then we used max-pooling on the 4096feature maps with a pooling width of 3applied at\n",
      "strides of 2pixels to obtain the ﬁnal 4096×4×4representation. An SVM was trained on top of\n",
      "theﬁnal representationforclassiﬁcation.\n",
      "11\n"
     ]
    }
   ],
   "source": [
    "print(df_combined_p_stage.iloc[4]['html'][0])"
   ]
  },
  {
   "cell_type": "code",
   "execution_count": 61,
   "metadata": {},
   "outputs": [],
   "source": [
    "def clean_lower_df(df):\n",
    "\n",
    "    # Convert lists in 'match' and 'html' to strings and convert to lower case\n",
    "    df['match_str'] = df['match'].apply(lambda x: ' '.join(map(str, x))).str.lower()\n",
    "    df['html_str'] = df['html'].apply(lambda x: ' '.join(map(str, x)) if isinstance(x, list) else x).str.lower()\n",
    "\n",
    "    # Remove special characters\n",
    "    df['match_cleaned'] = df['match_str'].str.replace('[^a-zA-Z0-9 ]', ' ')\n",
    "    df['html_cleaned'] = df['html_str'].str.replace('[^a-zA-Z0-9 ]', ' ')\n",
    "\n",
    "    return df\n",
    "\n",
    "\n"
   ]
  },
  {
   "cell_type": "code",
   "execution_count": 62,
   "metadata": {},
   "outputs": [
    {
     "name": "stderr",
     "output_type": "stream",
     "text": [
      "/var/folders/8j/522cg_sx50v8wj687685j9tr0000gn/T/ipykernel_18085/1850702700.py:8: FutureWarning: The default value of regex will change from True to False in a future version.\n",
      "  df['match_cleaned'] = df['match_str'].str.replace('[^a-zA-Z0-9 ]', ' ')\n",
      "/var/folders/8j/522cg_sx50v8wj687685j9tr0000gn/T/ipykernel_18085/1850702700.py:9: FutureWarning: The default value of regex will change from True to False in a future version.\n",
      "  df['html_cleaned'] = df['html_str'].str.replace('[^a-zA-Z0-9 ]', ' ')\n"
     ]
    }
   ],
   "source": [
    "df_combined_p_stage = clean_lower_df(df_combined_p_stage)"
   ]
  },
  {
   "cell_type": "code",
   "execution_count": 64,
   "metadata": {},
   "outputs": [],
   "source": [
    "def search_string(df, search_str):\n",
    "    # Search in 'match' and 'html' columns\n",
    "    condition = df['match_cleaned'].str.contains(search_str, case=False, na=False) | df['html_cleaned'].str.contains(search_str, case=False, na=False)\n",
    "    \n",
    "    # Get the rows where the string is found\n",
    "    matching_rows = df[condition]\n",
    "    \n",
    "    # If matching rows exist, print 'uri' and 'url'\n",
    "    if not matching_rows.empty:\n",
    "        for _, row in matching_rows.iterrows():\n",
    "            print(f\"Found string '{search_str}' in 'match' or 'html'. Corresponding 'uri': {row['uri']}, 'url': {row['url']}\")\n",
    "    else:\n",
    "        print(f\"String '{search_str}' not found in 'match' or 'html'.\")"
   ]
  },
  {
   "cell_type": "code",
   "execution_count": 112,
   "metadata": {},
   "outputs": [
    {
     "name": "stdout",
     "output_type": "stream",
     "text": [
      "Found string 'writers at the' in 'match' or 'html'. Corresponding 'uri': https://en.wikipedia.org/wiki/Orson_Scott_Card, 'url': None\n"
     ]
    }
   ],
   "source": [
    "search_string(df_combined_p_stage, \"writers at the\")"
   ]
  }
 ],
 "metadata": {
  "kernelspec": {
   "display_name": "base",
   "language": "python",
   "name": "python3"
  },
  "language_info": {
   "codemirror_mode": {
    "name": "ipython",
    "version": 3
   },
   "file_extension": ".py",
   "mimetype": "text/x-python",
   "name": "python",
   "nbconvert_exporter": "python",
   "pygments_lexer": "ipython3",
   "version": "3.9.12"
  },
  "orig_nbformat": 4
 },
 "nbformat": 4,
 "nbformat_minor": 2
}
